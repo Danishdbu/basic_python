{
 "cells": [
  {
   "cell_type": "markdown",
   "id": "78bbd2ad",
   "metadata": {},
   "source": [
    "# Python"
   ]
  },
  {
   "cell_type": "markdown",
   "id": "c2e33a5c",
   "metadata": {},
   "source": [
    "python is a interpreted ,object oriented and high level programming language.\n",
    "It was created by GUIDO van ROSSUM in 1991"
   ]
  },
  {
   "cell_type": "markdown",
   "id": "6066f6f2",
   "metadata": {},
   "source": [
    "### Syntax of Hello World\n",
    "** print()**"
   ]
  },
  {
   "cell_type": "code",
   "execution_count": 3,
   "id": "6b6649f2",
   "metadata": {},
   "outputs": [
    {
     "name": "stdout",
     "output_type": "stream",
     "text": [
      " Hello World\n"
     ]
    }
   ],
   "source": [
    "print(\" Hello World\")"
   ]
  },
  {
   "cell_type": "code",
   "execution_count": 5,
   "id": "b9e48da7",
   "metadata": {},
   "outputs": [
    {
     "data": {
      "text/plain": [
       "'HELLO WORLD'"
      ]
     },
     "execution_count": 5,
     "metadata": {},
     "output_type": "execute_result"
    }
   ],
   "source": [
    "\"HELLO WORLD\""
   ]
  },
  {
   "cell_type": "code",
   "execution_count": 6,
   "id": "085c2b5c",
   "metadata": {},
   "outputs": [
    {
     "data": {
      "text/plain": [
       "' Hello World'"
      ]
     },
     "execution_count": 6,
     "metadata": {},
     "output_type": "execute_result"
    }
   ],
   "source": [
    "a = \" Hello World\"\n",
    "a\n"
   ]
  },
  {
   "cell_type": "code",
   "execution_count": 1,
   "id": "78b280dd",
   "metadata": {},
   "outputs": [
    {
     "name": "stdout",
     "output_type": "stream",
     "text": [
      " Hello World\n"
     ]
    }
   ],
   "source": [
    "a = \" Hello World\"\n",
    "print(a)"
   ]
  },
  {
   "cell_type": "markdown",
   "id": "53e7dcd2",
   "metadata": {},
   "source": [
    "# Object Oriented Programming\n",
    "## Python is a multi paradigm programming language. It supports diff.. programming approaches.It aims to implement real world entities.\n",
    "### An object has two characteristics.\n",
    "### 1. attributes\n",
    "### 2. behavior\n"
   ]
  },
  {
   "cell_type": "markdown",
   "id": "6b7b9668",
   "metadata": {},
   "source": [
    "# Interpreted language\n",
    "## Python is an interpreted language ,it mean the python program is executed one line at a time."
   ]
  },
  {
   "cell_type": "markdown",
   "id": "e6e2bcc1",
   "metadata": {},
   "source": [
    "# IDE( integrated development environment)\n",
    "### An integrated development environment (IDE) is a software application that provides comprehensive facilities to computer programmers for software development.An IDE  understand your code much better than a text editor.\n",
    "## example \n",
    "  ### pycharm ,sublime ,atom ,vscode ,jupyter notebook"
   ]
  },
  {
   "cell_type": "markdown",
   "id": "a223656c",
   "metadata": {},
   "source": [
    "# Advantages : \n",
    "#### Presence of third-party modules \n",
    "#### Extensive support libraries(NumPy for numerical calculations, Pandas for data analytics etc) \n",
    "#### Open source and community development \n",
    "#### Versatile, Easy to read, learn and write \n",
    "#### High-level language \n",
    "#### Dynamically typed language(No need to mention data type based on the value assigned, it takes data type) \n",
    "#### Object-oriented language \n"
   ]
  },
  {
   "cell_type": "markdown",
   "id": "0e663a30",
   "metadata": {},
   "source": [
    "# Applications : \n",
    "#### GUI based desktop applications\n",
    "##### Graphic design, image processing applications, Games, and Scientific/ computational Applications\n",
    "##### Web frameworks and applications \n",
    "##### Enterprise and Business applications \n",
    "##### Operating Systems \n",
    "#### Education\n",
    "#### Database Access\n",
    "#### Language Development \n",
    "#### Prototyping \n",
    "#### Software Development"
   ]
  },
  {
   "cell_type": "code",
   "execution_count": 1,
   "id": "707cb4f9",
   "metadata": {},
   "outputs": [
    {
     "name": "stdout",
     "output_type": "stream",
     "text": [
      "3\n",
      "4.5\n",
      "helloworld\n"
     ]
    }
   ],
   "source": [
    "# Python program to declare variables\n",
    "myNumber = 3\n",
    "print(myNumber)\n",
    "  \n",
    "myNumber2 = 4.5\n",
    "print(myNumber2)\n",
    "  \n",
    "myNumber =\"helloworld\"\n",
    "print(myNumber)"
   ]
  },
  {
   "cell_type": "markdown",
   "id": "5b918749",
   "metadata": {},
   "source": [
    "# Comments in python\n",
    "**Comments can be used to explain Python code.**\n",
    "\n",
    "**Comments can be used to make the code more readable.**\n",
    "\n",
    "**Comments can be used to prevent execution when testing code.**"
   ]
  },
  {
   "cell_type": "markdown",
   "id": "2a491168",
   "metadata": {},
   "source": [
    "## Single line comments:\n",
    "**Python single line comment starts with hashtag symbol with no white spaces (#) and lasts till the end of the line**"
   ]
  },
  {
   "cell_type": "code",
   "execution_count": 2,
   "id": "d63483e9",
   "metadata": {},
   "outputs": [
    {
     "name": "stdout",
     "output_type": "stream",
     "text": [
      "4\n"
     ]
    }
   ],
   "source": [
    "# Python program to declare variables\n",
    "a = 4 # a hold the 4\n",
    "print(a)"
   ]
  },
  {
   "cell_type": "markdown",
   "id": "73b7e06d",
   "metadata": {},
   "source": [
    "# Multi-line string as a comment:\n",
    "***Python multi-line comment is a piece of text enclosed in a delimiter (“””) on each end of the comment.***"
   ]
  },
  {
   "cell_type": "code",
   "execution_count": 1,
   "id": "36dbf4f1",
   "metadata": {},
   "outputs": [
    {
     "name": "stdout",
     "output_type": "stream",
     "text": [
      "Danish\n"
     ]
    }
   ],
   "source": [
    "\"\"\" Comments can be used to explain Python code.\n",
    "Comments can be used to make the code more readable.\n",
    "Comments can be used to prevent execution when testing code. \"\"\"\n",
    "print(\"Danish\")"
   ]
  },
  {
   "cell_type": "markdown",
   "id": "8859ca60",
   "metadata": {},
   "source": [
    "# Variables\n",
    "### Variables are containers for storing data values.\n",
    "## Rules of variable\n",
    "### A variable name must start with a letter or the underscore character\n",
    "### A variable name cannot start with a number\n",
    "### A variable name can only contain alpha-numeric characters and underscores (A-z, 0-9, and _ )\n",
    "### Variable names are case-sensitive (age, Age and AGE are three different variables)"
   ]
  },
  {
   "cell_type": "code",
   "execution_count": 5,
   "id": "fc8fe400",
   "metadata": {},
   "outputs": [
    {
     "name": "stdout",
     "output_type": "stream",
     "text": [
      "5\n",
      "John\n"
     ]
    }
   ],
   "source": [
    "x = 5\n",
    "y = \"John\"\n",
    "print(x)\n",
    "print(y)"
   ]
  },
  {
   "cell_type": "code",
   "execution_count": 8,
   "id": "c5b146e6",
   "metadata": {},
   "outputs": [
    {
     "name": "stdout",
     "output_type": "stream",
     "text": [
      "John John John John John John\n"
     ]
    }
   ],
   "source": [
    "myvar = \"John\"\n",
    "my_var = \"John\"\n",
    "_my_var = \"John\"\n",
    "myVar = \"John\"\n",
    "MYVAR = \"John\"\n",
    "myvar2 = \"John\"\n",
    "print(myvar,my_var,_my_var,myVar,MYVAR,myvar2)"
   ]
  },
  {
   "cell_type": "code",
   "execution_count": 9,
   "id": "089a002f",
   "metadata": {},
   "outputs": [
    {
     "name": "stdout",
     "output_type": "stream",
     "text": [
      "Orange\n",
      "Banana\n",
      "Cherry\n"
     ]
    }
   ],
   "source": [
    "x, y, z = \"Orange\", \"Banana\", \"Cherry\"\n",
    "print(x)\n",
    "print(y)\n",
    "print(z)"
   ]
  },
  {
   "cell_type": "markdown",
   "id": "ded1de9d",
   "metadata": {},
   "source": [
    "# Unpack a Collection\n",
    "### If you have a collection of values in a list, tuple etc. Python allows you to extract the values into variables. This is called unpacking."
   ]
  },
  {
   "cell_type": "code",
   "execution_count": 10,
   "id": "3877e5fd",
   "metadata": {},
   "outputs": [
    {
     "name": "stdout",
     "output_type": "stream",
     "text": [
      "apple\n",
      "banana\n",
      "cherry\n"
     ]
    }
   ],
   "source": [
    "fruits = [\"apple\", \"banana\", \"cherry\"]\n",
    "x, y, z = fruits\n",
    "print(x)\n",
    "print(y)\n",
    "print(z)"
   ]
  },
  {
   "cell_type": "markdown",
   "id": "774149c0",
   "metadata": {},
   "source": [
    "# Token\n",
    "### A token is the smallest individual unit in a python program. There are five types of tokens allowed in Python. They are :\n",
    "| TOKEN       | DESCRIPTION                                              |\n",
    "--------------|----------------------------------------------------------|\n",
    "Keywords :    | for, del, elif, else etc.                                |\n",
    "Identifiers : |Variable names like balance, class names like Vehicle etc |\n",
    "Literals :    | String, Numeric, Boolean like ‘abcd’, None etc           |\n",
    "Operators :   | Unary, Binary, Bitwise like ‘+’, ‘&’, ‘^’ etc            |\n",
    "  \n",
    "### Punctuators : |Symbols like ‘#’, ‘(‘, ‘[‘, ‘=’ etc.    "
   ]
  },
  {
   "cell_type": "markdown",
   "id": "70993b6f",
   "metadata": {},
   "source": [
    "# 1. Keywords\n",
    "### Keywords in Python are reserved words that can not be used as a variable name, function name, or any other identifier.Programmer can not creat keyword ,we can use them in our program.\n",
    "### Keyword are 35 in 3.9.5 latest python\n",
    "### The list of all the keywords is given below.\n",
    "***False,await,else,import,pass,None,break,except,in,raise,True,finally,is,return,and,continue,for,lambda,try,as,def,from,nonlocal,\n",
    "while,assert,del,global,not,with,async,elif,if,or,yield***"
   ]
  },
  {
   "cell_type": "code",
   "execution_count": 5,
   "id": "e8035b43",
   "metadata": {},
   "outputs": [
    {
     "name": "stdout",
     "output_type": "stream",
     "text": [
      "1, 2, 3, 4, 5, 6, 7, 8, "
     ]
    }
   ],
   "source": [
    "for x in range(1, 9): # for is a keword.\n",
    "     # Print the value of x\n",
    "    print(x, end=\", \")"
   ]
  },
  {
   "cell_type": "markdown",
   "id": "82c5abad",
   "metadata": {},
   "source": [
    "# 2.Identifier\n",
    "### A Python identifier is a name used to identify a variable, function, class, module or other object. An identifier starts with a letter A to Z or a to z or an underscore (_) followed by zero or more letters, underscores and digits (0 to 9) "
   ]
  },
  {
   "cell_type": "code",
   "execution_count": 6,
   "id": "5008083d",
   "metadata": {
    "scrolled": true
   },
   "outputs": [
    {
     "name": "stdout",
     "output_type": "stream",
     "text": [
      "Hello\n",
      "Geeks\n"
     ]
    }
   ],
   "source": [
    "# Here GF and b are the identifier\n",
    "GF = 'Hello'\n",
    "b = \"Geeks\"\n",
    "print(GF)\n",
    "print(b)"
   ]
  },
  {
   "cell_type": "markdown",
   "id": "7ec611e4",
   "metadata": {},
   "source": [
    "# 3. Literals or Values\n",
    "### Literals are the fixed values or data items used in a source code. Python supports different types of literals such as--\n",
    "## (i) String Literals:\n",
    "### The text written in single, double, or triple quotes represents the string literals in Python. For example: “Computer Science”, ‘sam’, etc. We can also use triple quotes to write multi-line strings.\n"
   ]
  },
  {
   "cell_type": "code",
   "execution_count": 2,
   "id": "ef15b7bf",
   "metadata": {},
   "outputs": [
    {
     "name": "stdout",
     "output_type": "stream",
     "text": [
      "Hello\n",
      "danish\n",
      "for learning \n"
     ]
    }
   ],
   "source": [
    "\n",
    "# String Literals\n",
    "a = 'Hello'\n",
    "b = \"danish\"\n",
    "c = '''for learning '''\n",
    " \n",
    "# Driver code\n",
    "print(a)\n",
    "print(b)\n",
    "print(c)"
   ]
  },
  {
   "cell_type": "markdown",
   "id": "e553ee4a",
   "metadata": {},
   "source": [
    "## (ii) Character Literals:\n",
    "### Character literal is also a string literal type in which the character is enclosed in single or double-quotes."
   ]
  },
  {
   "cell_type": "code",
   "execution_count": 3,
   "id": "485e4a4a",
   "metadata": {},
   "outputs": [
    {
     "name": "stdout",
     "output_type": "stream",
     "text": [
      "G\n",
      "W\n"
     ]
    }
   ],
   "source": [
    "\n",
    "# Character Literals\n",
    "a = 'G'\n",
    "b = \"W\"\n",
    " \n",
    "# Driver code\n",
    "print(a)\n",
    "print(b)"
   ]
  },
  {
   "cell_type": "markdown",
   "id": "5b075de9",
   "metadata": {},
   "source": [
    "## (iii) Numeric Literals:\n",
    "### These are the literals written in form of numbers. Python supports the following numerical literals:\n",
    "\n",
    "***Integer Literal: It includes both positive and negative numbers along with 0. It doesn’t include fractional parts. It can also include binary, decimal, octal, hexadecimal literal.***\n",
    "\n",
    "***Float Literal: It includes both positive and negative real numbers. It also includes fractional parts.***\n",
    "\n",
    "***Complex Literal: It includes a+bi numeral, here a represents the real part and b represents the complex part.***"
   ]
  },
  {
   "cell_type": "code",
   "execution_count": 4,
   "id": "aa4f50e3",
   "metadata": {},
   "outputs": [
    {
     "name": "stdout",
     "output_type": "stream",
     "text": [
      "5\n",
      "10.3\n",
      "3j\n"
     ]
    }
   ],
   "source": [
    "# Numeric Literals\n",
    "a = 5 # integer\n",
    "b = 10.3 # float\n",
    "c =  3j # complex\n",
    " \n",
    "# Driver code\n",
    "print(a)\n",
    "print(b)\n",
    "print(c)"
   ]
  },
  {
   "cell_type": "markdown",
   "id": "49d26242",
   "metadata": {},
   "source": [
    "# (iv) Boolean Literals:\n",
    "### Boolean literals have only two values in Python. These are True and False."
   ]
  },
  {
   "cell_type": "code",
   "execution_count": 5,
   "id": "7c90574c",
   "metadata": {},
   "outputs": [
    {
     "name": "stdout",
     "output_type": "stream",
     "text": [
      "False\n"
     ]
    }
   ],
   "source": [
    "\n",
    "# Boolean Literals\n",
    "a = 3\n",
    "b = 4\n",
    "c = (a == b)\n",
    "# Driver code\n",
    "print( c)"
   ]
  },
  {
   "cell_type": "markdown",
   "id": "5d2d764f",
   "metadata": {},
   "source": [
    "# (v) Special Literals:\n",
    "### Python has a special literal ‘None’. It is used to denote nothing, no values, or the absence of value."
   ]
  },
  {
   "cell_type": "code",
   "execution_count": 6,
   "id": "d076a0da",
   "metadata": {},
   "outputs": [
    {
     "name": "stdout",
     "output_type": "stream",
     "text": [
      "None\n"
     ]
    }
   ],
   "source": [
    "# Special Literals\n",
    "var = None\n",
    "print(var)"
   ]
  },
  {
   "cell_type": "markdown",
   "id": "508a775e",
   "metadata": {},
   "source": [
    "# (vi) Literals Collections: \n",
    "### Literals collections in python includes list, tuple, dictionary, and sets.\n",
    "\n",
    "### List:    It is a list of elements represented in square brackets with commas in between. These variables can be of any data type and can be changed as well.\n",
    "### Tuple:   It is also a list of comma-separated elements or values in round brackets. The values can be of any data type but can’t be changed.\n",
    "### Dictionary:   It is the unordered set of key-value pairs.\n",
    "### Set:  It is the unordered collection of elements in curly braces ‘{}’."
   ]
  },
  {
   "cell_type": "code",
   "execution_count": 8,
   "id": "57b3ad4e",
   "metadata": {},
   "outputs": [
    {
     "name": "stdout",
     "output_type": "stream",
     "text": [
      "[23, 'gee', 1.2, 'data']\n",
      "(1, 2, 3, 'hello')\n",
      "{1: 'one', 2: 'two', 3: 'three'}\n",
      "{1, 2, 3, 4}\n"
     ]
    }
   ],
   "source": [
    "# Literals collections\n",
    "# List\n",
    "my_list = [23, \"gee\", 1.2, 'data']\n",
    " \n",
    "# Tuple\n",
    "my_tuple = (1, 2, 3, 'hello')  \n",
    " \n",
    "# Dictionary\n",
    "my_dict = {1:'one', 2:'two', 3:'three'}  \n",
    " \n",
    "# Set\n",
    "my_set = {1, 2, 3, 4} \n",
    " \n",
    "# Driver code\n",
    "print(my_list)\n",
    "print(my_tuple)\n",
    "print(my_dict)\n",
    "print(my_set)"
   ]
  },
  {
   "cell_type": "markdown",
   "id": "6ec310c7",
   "metadata": {},
   "source": [
    "# Punchuator:\n",
    "###  These are the symbols that used in Python to organize the structures, statements, and expressions. \n",
    "# Operators\n",
    "### Python uses nonalphanumeric characters and character combinations as operators. Python recognizes the following operators, which are covered in detail in Expressions and Operators:\n",
    "\n"
   ]
  },
  {
   "cell_type": "markdown",
   "id": "4e67f2c7",
   "metadata": {},
   "source": [
    "# Number in python\n",
    "### number are three types in python such as integer ,float ,complex\n",
    "## Integer--\n",
    "***Decimal ,Hexadecimal ,Octal ,Binary***\n"
   ]
  },
  {
   "cell_type": "markdown",
   "id": "f0fae0bd",
   "metadata": {},
   "source": [
    "# Decimal"
   ]
  },
  {
   "cell_type": "code",
   "execution_count": 1,
   "id": "d26f4650",
   "metadata": {},
   "outputs": [
    {
     "name": "stdout",
     "output_type": "stream",
     "text": [
      "34\n"
     ]
    }
   ],
   "source": [
    "#decimal number \n",
    "print(34)"
   ]
  },
  {
   "cell_type": "code",
   "execution_count": 7,
   "id": "99129e62",
   "metadata": {},
   "outputs": [
    {
     "name": "stdout",
     "output_type": "stream",
     "text": [
      "25 <class 'int'>\n"
     ]
    }
   ],
   "source": [
    "a = 12\n",
    "b = 13\n",
    "print(a+b,  type(a+b))"
   ]
  },
  {
   "cell_type": "markdown",
   "id": "6105d72f",
   "metadata": {},
   "source": [
    "# Binary\n",
    "###  binary literals start with a leading 0b or 0B , followed by binary digits (1,0)"
   ]
  },
  {
   "cell_type": "code",
   "execution_count": 9,
   "id": "3d36721a",
   "metadata": {},
   "outputs": [
    {
     "name": "stdout",
     "output_type": "stream",
     "text": [
      "13\n"
     ]
    }
   ],
   "source": [
    "print(0b0001101)"
   ]
  },
  {
   "cell_type": "code",
   "execution_count": 10,
   "id": "0ea13e75",
   "metadata": {},
   "outputs": [
    {
     "name": "stdout",
     "output_type": "stream",
     "text": [
      "21\n"
     ]
    }
   ],
   "source": [
    "a = 0b10101\n",
    "print(a)"
   ]
  },
  {
   "cell_type": "code",
   "execution_count": 11,
   "id": "a9d69ae5",
   "metadata": {
    "scrolled": true
   },
   "outputs": [
    {
     "data": {
      "text/plain": [
       "int"
      ]
     },
     "execution_count": 11,
     "metadata": {},
     "output_type": "execute_result"
    }
   ],
   "source": [
    "type(a)"
   ]
  },
  {
   "cell_type": "code",
   "execution_count": 25,
   "id": "e0ec5fff",
   "metadata": {},
   "outputs": [
    {
     "ename": "SyntaxError",
     "evalue": "invalid digit '2' in binary literal (1353492904.py, line 1)",
     "output_type": "error",
     "traceback": [
      "\u001b[1;36m  Input \u001b[1;32mIn [25]\u001b[1;36m\u001b[0m\n\u001b[1;33m    print(0b12)\u001b[0m\n\u001b[1;37m             ^\u001b[0m\n\u001b[1;31mSyntaxError\u001b[0m\u001b[1;31m:\u001b[0m invalid digit '2' in binary literal\n"
     ]
    }
   ],
   "source": [
    "print(0b12)"
   ]
  },
  {
   "cell_type": "markdown",
   "id": "fd0af1ae",
   "metadata": {},
   "source": [
    "# Hexadecimal\n",
    "### Hexadecimal  literals start with a leading 0x or 0X ,followed by a string of hexadecimal digit(0 to 9 and A to F)"
   ]
  },
  {
   "cell_type": "code",
   "execution_count": 13,
   "id": "9821758a",
   "metadata": {},
   "outputs": [
    {
     "name": "stdout",
     "output_type": "stream",
     "text": [
      "18\n"
     ]
    }
   ],
   "source": [
    "print(0x12)"
   ]
  },
  {
   "cell_type": "code",
   "execution_count": 14,
   "id": "2947b30a",
   "metadata": {},
   "outputs": [
    {
     "name": "stdout",
     "output_type": "stream",
     "text": [
      "287\n"
     ]
    }
   ],
   "source": [
    "print(0X11f)"
   ]
  },
  {
   "cell_type": "code",
   "execution_count": 15,
   "id": "9dbe3be2",
   "metadata": {},
   "outputs": [
    {
     "name": "stdout",
     "output_type": "stream",
     "text": [
      "287\n"
     ]
    }
   ],
   "source": [
    "print(0X11F)"
   ]
  },
  {
   "cell_type": "code",
   "execution_count": 16,
   "id": "576213f2",
   "metadata": {},
   "outputs": [
    {
     "name": "stdout",
     "output_type": "stream",
     "text": [
      "272\n"
     ]
    }
   ],
   "source": [
    "a = 0x00110\n",
    "print(a)"
   ]
  },
  {
   "cell_type": "code",
   "execution_count": 17,
   "id": "58b10c8a",
   "metadata": {},
   "outputs": [
    {
     "name": "stdout",
     "output_type": "stream",
     "text": [
      "<class 'int'>\n"
     ]
    }
   ],
   "source": [
    "print(type(a))"
   ]
  },
  {
   "cell_type": "code",
   "execution_count": 23,
   "id": "88c97bc8",
   "metadata": {},
   "outputs": [
    {
     "name": "stdout",
     "output_type": "stream",
     "text": [
      "10\n"
     ]
    }
   ],
   "source": [
    "print(0xa)"
   ]
  },
  {
   "cell_type": "code",
   "execution_count": 24,
   "id": "1ac7a694",
   "metadata": {},
   "outputs": [
    {
     "ename": "SyntaxError",
     "evalue": "invalid hexadecimal literal (1170999877.py, line 1)",
     "output_type": "error",
     "traceback": [
      "\u001b[1;36m  Input \u001b[1;32mIn [24]\u001b[1;36m\u001b[0m\n\u001b[1;33m    print(0Xg12)\u001b[0m\n\u001b[1;37m           ^\u001b[0m\n\u001b[1;31mSyntaxError\u001b[0m\u001b[1;31m:\u001b[0m invalid hexadecimal literal\n"
     ]
    }
   ],
   "source": [
    "print(0Xg12)"
   ]
  },
  {
   "cell_type": "markdown",
   "id": "1b3001cd",
   "metadata": {},
   "source": [
    "# Octal\n",
    "### Octal literals start with a leading 0o or 0O ,followed by a string of octal digit(0 to 7)"
   ]
  },
  {
   "cell_type": "code",
   "execution_count": 19,
   "id": "249530c2",
   "metadata": {},
   "outputs": [
    {
     "name": "stdout",
     "output_type": "stream",
     "text": [
      "10\n"
     ]
    }
   ],
   "source": [
    "print(0o12)"
   ]
  },
  {
   "cell_type": "code",
   "execution_count": 20,
   "id": "3a247330",
   "metadata": {},
   "outputs": [
    {
     "ename": "SyntaxError",
     "evalue": "invalid digit '9' in octal literal (3944483399.py, line 1)",
     "output_type": "error",
     "traceback": [
      "\u001b[1;36m  Input \u001b[1;32mIn [20]\u001b[1;36m\u001b[0m\n\u001b[1;33m    print(0O982)\u001b[0m\n\u001b[1;37m           ^\u001b[0m\n\u001b[1;31mSyntaxError\u001b[0m\u001b[1;31m:\u001b[0m invalid digit '9' in octal literal\n"
     ]
    }
   ],
   "source": [
    "print(0O982)"
   ]
  },
  {
   "cell_type": "code",
   "execution_count": 26,
   "id": "8d3d8a68",
   "metadata": {},
   "outputs": [
    {
     "name": "stdout",
     "output_type": "stream",
     "text": [
      "7\n"
     ]
    }
   ],
   "source": [
    "print(0o7)"
   ]
  },
  {
   "cell_type": "code",
   "execution_count": 27,
   "id": "5ec26ad2",
   "metadata": {
    "scrolled": true
   },
   "outputs": [
    {
     "data": {
      "text/plain": [
       "int"
      ]
     },
     "execution_count": 27,
     "metadata": {},
     "output_type": "execute_result"
    }
   ],
   "source": [
    "x =0o7\n",
    "type(x)"
   ]
  },
  {
   "cell_type": "markdown",
   "id": "7d2a2157",
   "metadata": {},
   "source": [
    "# Conversion"
   ]
  },
  {
   "cell_type": "markdown",
   "id": "bd0656f5",
   "metadata": {},
   "source": [
    "# 1: Conversion in number system\n",
    "### The built in calls hex(I),oct(I),bin(I) convet an integer to its representatipn string in these three bases."
   ]
  },
  {
   "cell_type": "code",
   "execution_count": 28,
   "id": "fbeea673",
   "metadata": {},
   "outputs": [
    {
     "name": "stdout",
     "output_type": "stream",
     "text": [
      "0x1870e\n",
      "0o303416\n",
      "0b11000011100001110\n"
     ]
    }
   ],
   "source": [
    "a = 100110\n",
    "print(hex(a))\n",
    "print(oct(a))\n",
    "print(bin(a))"
   ]
  },
  {
   "cell_type": "code",
   "execution_count": 1,
   "id": "62fde0bc",
   "metadata": {},
   "outputs": [
    {
     "name": "stdout",
     "output_type": "stream",
     "text": [
      "0b1111011\n"
     ]
    }
   ],
   "source": [
    "a = 123\n",
    "print(bin(a))"
   ]
  },
  {
   "cell_type": "code",
   "execution_count": 2,
   "id": "0adc87d5",
   "metadata": {},
   "outputs": [
    {
     "name": "stdout",
     "output_type": "stream",
     "text": [
      "0x7b\n"
     ]
    }
   ],
   "source": [
    "print(hex(a))"
   ]
  },
  {
   "cell_type": "code",
   "execution_count": 3,
   "id": "640a2c5d",
   "metadata": {},
   "outputs": [
    {
     "name": "stdout",
     "output_type": "stream",
     "text": [
      "0o173\n"
     ]
    }
   ],
   "source": [
    "print(oct(a))"
   ]
  },
  {
   "cell_type": "markdown",
   "id": "041f78ba",
   "metadata": {},
   "source": [
    "# 2:  Python Data Type Conversion \n",
    "### Python defines type conversion functions to directly convert one data type to another which is useful in day-to-day and competitive programming. This article is aimed at providing information about certain conversion functions.\n",
    "### There are two types of Type Conversion in Python:\n",
    "\n",
    "### 1. Implicit Type Conversion\n",
    "### 2. Explicit Type Conversion"
   ]
  },
  {
   "cell_type": "markdown",
   "id": "acd8e9f1",
   "metadata": {},
   "source": [
    "# Implicit\n",
    "***In Implicit type conversion of data types in Python, the Python interpreter automatically converts one data type to another without any user involvement.***"
   ]
  },
  {
   "cell_type": "code",
   "execution_count": 4,
   "id": "e6381967",
   "metadata": {},
   "outputs": [
    {
     "name": "stdout",
     "output_type": "stream",
     "text": [
      "2.0\n",
      "<class 'float'>\n"
     ]
    }
   ],
   "source": [
    "a_int = 1\n",
    "b_float = 1.0\n",
    "c_sum = a_int + b_float\n",
    "print(c_sum)\n",
    "print(type(c_sum))"
   ]
  },
  {
   "cell_type": "code",
   "execution_count": 6,
   "id": "97b4c794",
   "metadata": {},
   "outputs": [
    {
     "name": "stdout",
     "output_type": "stream",
     "text": [
      "x is of type: <class 'int'>\n",
      "y is of type: <class 'float'>\n",
      "20.6\n",
      "x is of type: <class 'float'>\n"
     ]
    }
   ],
   "source": [
    "x = 10\n",
    "print(\"x is of type:\",type(x))\n",
    "y = 10.6\n",
    "print(\"y is of type:\",type(y))\n",
    "x = x + y\n",
    "print(x)\n",
    "print(\"x is of type:\",type(x))"
   ]
  },
  {
   "cell_type": "markdown",
   "id": "f32b5d9c",
   "metadata": {},
   "source": [
    "# Explicit\n",
    "### Explicit conversion also known as type casting is when data type conversion takes place because you clearly defined it in your program. You basically force an expression to be of a specific type.\n"
   ]
  },
  {
   "cell_type": "code",
   "execution_count": 7,
   "id": "6fbd1856",
   "metadata": {},
   "outputs": [
    {
     "name": "stdout",
     "output_type": "stream",
     "text": [
      "12.0\n"
     ]
    }
   ],
   "source": [
    "a = 12\n",
    "print(float(a))"
   ]
  },
  {
   "cell_type": "code",
   "execution_count": 8,
   "id": "c23e9229",
   "metadata": {},
   "outputs": [
    {
     "name": "stdout",
     "output_type": "stream",
     "text": [
      "12.03\n",
      "12\n"
     ]
    }
   ],
   "source": [
    "w = 12.03\n",
    "print(w)\n",
    "print(int(w))"
   ]
  },
  {
   "cell_type": "code",
   "execution_count": 10,
   "id": "24841c7c",
   "metadata": {},
   "outputs": [
    {
     "name": "stdout",
     "output_type": "stream",
     "text": [
      "1.7142857142857142\n"
     ]
    }
   ],
   "source": [
    "a,b = 12,7\n",
    "c = a/b\n",
    "print(c)"
   ]
  },
  {
   "cell_type": "code",
   "execution_count": 11,
   "id": "87154abb",
   "metadata": {},
   "outputs": [
    {
     "name": "stdout",
     "output_type": "stream",
     "text": [
      "1\n"
     ]
    }
   ],
   "source": [
    "print(int(c))"
   ]
  },
  {
   "cell_type": "code",
   "execution_count": 15,
   "id": "756b679f",
   "metadata": {},
   "outputs": [
    {
     "name": "stdout",
     "output_type": "stream",
     "text": [
      "46.0\n",
      "<class 'float'>\n",
      "46\n",
      "<class 'float'>\n",
      "46.0\n",
      "<class 'float'>\n",
      "<class 'int'>\n",
      "<class 'int'>\n"
     ]
    }
   ],
   "source": [
    "a = 12\n",
    "b =34\n",
    "c = int(a) + float(b)\n",
    "print(c)\n",
    "print(type(c))\n",
    "print(int(c))\n",
    "print(type(c))\n",
    "print(float(c))\n",
    "print(type(c))\n",
    "print(type(a))\n",
    "print(type(b))"
   ]
  },
  {
   "cell_type": "markdown",
   "id": "9f806b5d",
   "metadata": {},
   "source": [
    "# Escape Sequence \n",
    "### Escape Sequence is a combination of characters (usually prefixed with an escape character), that has a non-literal character interpretation. Such that, the characters sequences which are considered as an escape sequence have a meaning other than the literal characters contained therein. Most Programming languages use a backslash \\ as an escape character. This character is used as an escape sequence initiator, any character (one or more) following this is interpreted as an escape sequence. If an escape sequence is designated to a Non-Printable Character or a Control Code, then the sequence is called a control character. "
   ]
  },
  {
   "cell_type": "markdown",
   "id": "b3f1f0b4",
   "metadata": {},
   "source": [
    "# Useful Escape Sequences\n",
    "### Escape sequence\tDescription\tExample\tOutput\n"
   ]
  },
  {
   "cell_type": "code",
   "execution_count": 16,
   "id": "ee1dcdc7",
   "metadata": {},
   "outputs": [
    {
     "name": "stdout",
     "output_type": "stream",
     "text": [
      "Hello\n",
      "World\n"
     ]
    }
   ],
   "source": [
    "### \\n   New line\n",
    "print(\"Hello\\nWorld\")"
   ]
  },
  {
   "cell_type": "code",
   "execution_count": 18,
   "id": "eb3e17c3",
   "metadata": {},
   "outputs": [
    {
     "name": "stdout",
     "output_type": "stream",
     "text": [
      "Hello\tWorld\n"
     ]
    }
   ],
   "source": [
    "### \\t Horizontal tab\n",
    "print(\"Hello\\tWorld\") \n"
   ]
  },
  {
   "cell_type": "code",
   "execution_count": 20,
   "id": "59197873",
   "metadata": {},
   "outputs": [
    {
     "name": "stdout",
     "output_type": "stream",
     "text": [
      "Hello 'World' \n"
     ]
    }
   ],
   "source": [
    "### \\' Single quote\n",
    "print(\"Hello \\'World\\' \")"
   ]
  },
  {
   "cell_type": "code",
   "execution_count": 21,
   "id": "67c53770",
   "metadata": {},
   "outputs": [
    {
     "name": "stdout",
     "output_type": "stream",
     "text": [
      "Hello \"World\" \n"
     ]
    }
   ],
   "source": [
    "### \\\"\t Double quote\t \n",
    "print(\"Hello \\\"World\\\" \")\t"
   ]
  },
  {
   "cell_type": "code",
   "execution_count": 22,
   "id": "004e179f",
   "metadata": {},
   "outputs": [
    {
     "name": "stdout",
     "output_type": "stream",
     "text": [
      "Hello \\World\n"
     ]
    }
   ],
   "source": [
    "### \\\\\t Backslash\n",
    "print(\"Hello \\\\World\")"
   ]
  },
  {
   "cell_type": "code",
   "execution_count": 23,
   "id": "182b8154",
   "metadata": {},
   "outputs": [
    {
     "ename": "SyntaxError",
     "evalue": "unexpected character after line continuation character (3267916284.py, line 3)",
     "output_type": "error",
     "traceback": [
      "\u001b[1;36m  Input \u001b[1;32mIn [23]\u001b[1;36m\u001b[0m\n\u001b[1;33m    c = b\\\\a\u001b[0m\n\u001b[1;37m          ^\u001b[0m\n\u001b[1;31mSyntaxError\u001b[0m\u001b[1;31m:\u001b[0m unexpected character after line continuation character\n"
     ]
    }
   ],
   "source": [
    "a =2\n",
    "b =3\n",
    "c = b\\\\a\n",
    "print(c)"
   ]
  },
  {
   "cell_type": "code",
   "execution_count": 24,
   "id": "361d6447",
   "metadata": {},
   "outputs": [
    {
     "name": "stdout",
     "output_type": "stream",
     "text": [
      "1\n"
     ]
    }
   ],
   "source": [
    "a =2\n",
    "b =3\n",
    "c = b//a\n",
    "print(c)"
   ]
  },
  {
   "cell_type": "code",
   "execution_count": 25,
   "id": "e92b9b4f",
   "metadata": {},
   "outputs": [
    {
     "name": "stdout",
     "output_type": "stream",
     "text": [
      "I love to use \t instead of using 4 spaces\n",
      "I love to use \\t instead of using 4 spaces\n"
     ]
    }
   ],
   "source": [
    "# sample string\n",
    "s = \"I love to use \\t instead of using 4 spaces\"\n",
    " \n",
    "# normal output\n",
    "print(s)\n",
    " \n",
    "# doubling line backslashes\n",
    "s = \"I love to use \\\\t instead of using 4 spaces\"\n",
    " \n",
    "# output after doubling\n",
    "print(s)"
   ]
  },
  {
   "cell_type": "markdown",
   "id": "9432ffb8",
   "metadata": {},
   "source": [
    "### Using r’….’ or R’…..’ construct. Commonly referred to as raw strings, which is used to preserve the escape sequences as literals. "
   ]
  },
  {
   "cell_type": "code",
   "execution_count": 26,
   "id": "28a95464",
   "metadata": {},
   "outputs": [
    {
     "name": "stdout",
     "output_type": "stream",
     "text": [
      "C:\\Program Files\n",
      "orton\u0007ppx\n",
      "C:\\Program Files\\norton\\appx\n"
     ]
    }
   ],
   "source": [
    "s = \"C:\\Program Files\\norton\\appx\"\n",
    " \n",
    "# normal output\n",
    "print(s)\n",
    " \n",
    "# changing the string into a raw string\n",
    "s = r\"C:\\Program Files\\norton\\appx\"\n",
    " \n",
    "# Outputting the raw versio of the string\n",
    "print(s)"
   ]
  }
 ],
 "metadata": {
  "kernelspec": {
   "display_name": "Python 3 (ipykernel)",
   "language": "python",
   "name": "python3"
  },
  "language_info": {
   "codemirror_mode": {
    "name": "ipython",
    "version": 3
   },
   "file_extension": ".py",
   "mimetype": "text/x-python",
   "name": "python",
   "nbconvert_exporter": "python",
   "pygments_lexer": "ipython3",
   "version": "3.9.12"
  }
 },
 "nbformat": 4,
 "nbformat_minor": 5
}
