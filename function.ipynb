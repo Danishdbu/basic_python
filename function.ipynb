{
 "cells": [
  {
   "cell_type": "markdown",
   "id": "dfcd9472",
   "metadata": {},
   "source": [
    "# FUNCTION\n",
    "### A function is a block of code which only runs when it is called.You can pass data, known as parameters, into a function.A function can return data as a result.\n",
    "\n"
   ]
  },
  {
   "cell_type": "markdown",
   "id": "aab2e842",
   "metadata": {},
   "source": [
    "### Functions help break our program into smaller and modular chunks. As our program grows larger and larger, functions make it more organized and manageable."
   ]
  },
  {
   "cell_type": "markdown",
   "id": "b1ede325",
   "metadata": {},
   "source": [
    "## Syntax of Function\n",
    "```def function_name(parameters):\n",
    "\t\"\"\"docstring\"\"\"\n",
    "\tstatement(s)```"
   ]
  },
  {
   "cell_type": "markdown",
   "id": "e664c749",
   "metadata": {},
   "source": [
    "## Above shown is a function definition that consists of the following components.\n",
    "\n",
    "### 1.Keyword` def` that marks the start of the function header.\n",
    "### 2.Optional documentation string (docstring) to describe what the function does."
   ]
  },
  {
   "cell_type": "code",
   "execution_count": 1,
   "id": "afcbe84f",
   "metadata": {},
   "outputs": [],
   "source": [
    "def greet(name):\n",
    "    \"\"\"\n",
    "    This function greets to\n",
    "    the person passed in as\n",
    "    a parameter\n",
    "    \"\"\"\n",
    "    print(\"Hello, \" + name + \". Good morning!\")"
   ]
  },
  {
   "cell_type": "code",
   "execution_count": 2,
   "id": "7fdbbb01",
   "metadata": {},
   "outputs": [
    {
     "name": "stdout",
     "output_type": "stream",
     "text": [
      "Hello, Paul. Good morning!\n"
     ]
    }
   ],
   "source": [
    "greet('Paul')"
   ]
  },
  {
   "cell_type": "markdown",
   "id": "8c0204e8",
   "metadata": {},
   "source": [
    "[code visualization best website](https://pythontutor.com/render.html#mode=display)\n",
    "# (https://pythontutor.com/render.html#mode=display)"
   ]
  },
  {
   "cell_type": "markdown",
   "id": "42ba2899",
   "metadata": {},
   "source": [
    "# The return statement\n",
    "### The return statement is used to exit a function and go back to the place from where it was called.\n",
    "\n",
    "## Syntax of return\n",
    "`return [expression_list]`"
   ]
  },
  {
   "cell_type": "code",
   "execution_count": 11,
   "id": "70522f38",
   "metadata": {},
   "outputs": [
    {
     "name": "stdout",
     "output_type": "stream",
     "text": [
      "2\n",
      "4\n"
     ]
    }
   ],
   "source": [
    "def absolute_value(num):\n",
    "    \"\"\"This function returns the absolute\n",
    "    value of the entered number\"\"\"\n",
    "\n",
    "    if num >= 0:\n",
    "        return num\n",
    "    else:\n",
    "        return -num\n",
    "\n",
    "\n",
    "print(absolute_value(2))\n",
    "\n",
    "print(absolute_value(-4))"
   ]
  },
  {
   "cell_type": "code",
   "execution_count": 14,
   "id": "5f3c3643",
   "metadata": {},
   "outputs": [
    {
     "name": "stdout",
     "output_type": "stream",
     "text": [
      "2\n",
      "None\n",
      "4\n",
      "None\n",
      "This function returns the absolute\n",
      "    value of the entered number\n"
     ]
    }
   ],
   "source": [
    "def absolute_value(num):\n",
    "    \"\"\"This function returns the absolute\n",
    "    value of the entered number\"\"\"\n",
    "\n",
    "    if num >= 0:\n",
    "        print(num) \n",
    "    else:\n",
    "        print(-num)\n",
    "\n",
    "\n",
    "print(absolute_value(2))\n",
    "\n",
    "print(absolute_value(-4))\n",
    "print(absolute_value.__doc__)"
   ]
  },
  {
   "cell_type": "markdown",
   "id": "5f32dead",
   "metadata": {},
   "source": [
    "# Docstrings\n",
    "### The first string after the function header is called the docstring and is short for documentation string. It is briefly used to explain what a function does.Although optional, documentation is a good programming practice. Unless you can remember what you had for dinner last week, always document your code.In the above example, we have a docstring immediately below the function header. We generally use triple quotes so that docstring can extend up to multiple lines. This string is available to us as the` __doc__ `attribute of the function."
   ]
  },
  {
   "cell_type": "code",
   "execution_count": 7,
   "id": "9f06138b",
   "metadata": {},
   "outputs": [
    {
     "name": "stdout",
     "output_type": "stream",
     "text": [
      "Takes in a number n, returns the square of n\n"
     ]
    }
   ],
   "source": [
    "def square(n):\n",
    "    '''Takes in a number n, returns the square of n'''\n",
    "    return n**2\n",
    "\n",
    "print(square.__doc__)"
   ]
  },
  {
   "cell_type": "code",
   "execution_count": 8,
   "id": "d8848a20",
   "metadata": {},
   "outputs": [
    {
     "name": "stdout",
     "output_type": "stream",
     "text": [
      "print(value, ..., sep=' ', end='\\n', file=sys.stdout, flush=False)\n",
      "\n",
      "Prints the values to a stream, or to sys.stdout by default.\n",
      "Optional keyword arguments:\n",
      "file:  a file-like object (stream); defaults to the current sys.stdout.\n",
      "sep:   string inserted between values, default a space.\n",
      "end:   string appended after the last value, default a newline.\n",
      "flush: whether to forcibly flush the stream.\n"
     ]
    }
   ],
   "source": [
    "print(print.__doc__)"
   ]
  },
  {
   "cell_type": "code",
   "execution_count": 9,
   "id": "8dacba9c",
   "metadata": {},
   "outputs": [
    {
     "name": "stdout",
     "output_type": "stream",
     "text": [
      "\n",
      "    Returns the sum of two decimal numbers in binary digits.\n",
      "\n",
      "            Parameters:\n",
      "                    a (int): A decimal integer\n",
      "                    b (int): Another decimal integer\n",
      "\n",
      "            Returns:\n",
      "                    binary_sum (str): Binary string of the sum of a and b\n",
      "    \n"
     ]
    }
   ],
   "source": [
    "def add_binary(a, b):\n",
    "    '''\n",
    "    Returns the sum of two decimal numbers in binary digits.\n",
    "\n",
    "            Parameters:\n",
    "                    a (int): A decimal integer\n",
    "                    b (int): Another decimal integer\n",
    "\n",
    "            Returns:\n",
    "                    binary_sum (str): Binary string of the sum of a and b\n",
    "    '''\n",
    "    binary_sum = bin(a+b)[2:]\n",
    "    return binary_sum\n",
    "\n",
    "\n",
    "print(add_binary.__doc__)"
   ]
  },
  {
   "cell_type": "markdown",
   "id": "f9e3bad5",
   "metadata": {},
   "source": [
    "### Note: We use triple quotation marks for multi-line strings."
   ]
  },
  {
   "cell_type": "code",
   "execution_count": 10,
   "id": "bf8b71e5",
   "metadata": {},
   "outputs": [
    {
     "name": "stdout",
     "output_type": "stream",
     "text": [
      "None\n"
     ]
    }
   ],
   "source": [
    "def square(n):\n",
    "    #Takes in a number n, returns the square of n\n",
    "    return n**2\n",
    "\n",
    "print(square.__doc__)"
   ]
  },
  {
   "cell_type": "markdown",
   "id": "0841adf6",
   "metadata": {},
   "source": [
    "# How Function works in Python?"
   ]
  },
  {
   "attachments": {
    "image.png": {
     "image/png": "[encoded data removed]"
    }
   },
   "cell_type": "markdown",
   "id": "ebe55aef",
   "metadata": {},
   "source": [
    "![image.png](attachment:image.png)"
   ]
  },
  {
   "cell_type": "markdown",
   "id": "9b1a85f5",
   "metadata": {},
   "source": [
    "# Types of Functions\n",
    "### Basically, we can divide functions into the following two types:\n",
    "\n",
    "### 1.[Built-in functions - ](https://www.programiz.com/python-programming/methods/built-in) Functions that are built into Python.\n",
    "### 2.[User-defined functions -](https://www.programiz.com/python-programming/user-defined-function) Functions defined by the users themselves."
   ]
  },
  {
   "cell_type": "code",
   "execution_count": 15,
   "id": "5654252b",
   "metadata": {},
   "outputs": [
    {
     "name": "stdout",
     "output_type": "stream",
     "text": [
      "The sum is 11\n"
     ]
    }
   ],
   "source": [
    "# Program to illustrate\n",
    "# the use of user-defined functions\n",
    "\n",
    "def add_numbers(x,y):\n",
    "   sum = x + y\n",
    "   return sum\n",
    "\n",
    "num1 = 5\n",
    "num2 = 6\n",
    "\n",
    "print(\"The sum is\", add_numbers(num1, num2))"
   ]
  },
  {
   "cell_type": "code",
   "execution_count": 7,
   "id": "117c8fd6",
   "metadata": {},
   "outputs": [],
   "source": [
    "import even"
   ]
  },
  {
   "cell_type": "code",
   "execution_count": 8,
   "id": "d9cc71e8",
   "metadata": {},
   "outputs": [
    {
     "data": {
      "text/plain": [
       "'even'"
      ]
     },
     "execution_count": 8,
     "metadata": {},
     "output_type": "execute_result"
    }
   ],
   "source": [
    "even.is_even(2)"
   ]
  },
  {
   "cell_type": "code",
   "execution_count": 9,
   "id": "e7c156eb",
   "metadata": {},
   "outputs": [
    {
     "data": {
      "text/plain": [
       "'odd'"
      ]
     },
     "execution_count": 9,
     "metadata": {},
     "output_type": "execute_result"
    }
   ],
   "source": [
    "even.is_even(7)"
   ]
  },
  {
   "cell_type": "code",
   "execution_count": 12,
   "id": "d534c8a6",
   "metadata": {
    "scrolled": true
   },
   "outputs": [
    {
     "ename": "TypeError",
     "evalue": "not all arguments converted during string formatting",
     "output_type": "error",
     "traceback": [
      "\u001b[1;31m---------------------------------------------------------------------------\u001b[0m",
      "\u001b[1;31mTypeError\u001b[0m                                 Traceback (most recent call last)",
      "Input \u001b[1;32mIn [12]\u001b[0m, in \u001b[0;36m<cell line: 1>\u001b[1;34m()\u001b[0m\n\u001b[1;32m----> 1\u001b[0m \u001b[43meven\u001b[49m\u001b[38;5;241;43m.\u001b[39;49m\u001b[43mis_even\u001b[49m\u001b[43m(\u001b[49m\u001b[38;5;124;43m\"\u001b[39;49m\u001b[38;5;124;43mhello\u001b[39;49m\u001b[38;5;124;43m\"\u001b[39;49m\u001b[43m)\u001b[49m\n",
      "File \u001b[1;32m~\\even.py:2\u001b[0m, in \u001b[0;36mis_even\u001b[1;34m(num)\u001b[0m\n\u001b[0;32m      1\u001b[0m \u001b[38;5;28;01mdef\u001b[39;00m \u001b[38;5;21mis_even\u001b[39m(num):\n\u001b[1;32m----> 2\u001b[0m     \u001b[38;5;28;01mif\u001b[39;00m \u001b[43mnum\u001b[49m\u001b[38;5;241;43m%\u001b[39;49m\u001b[38;5;241;43m2\u001b[39;49m\u001b[38;5;241m==\u001b[39m\u001b[38;5;241m0\u001b[39m:\n\u001b[0;32m      3\u001b[0m         \u001b[38;5;28;01mreturn\u001b[39;00m \u001b[38;5;124m\"\u001b[39m\u001b[38;5;124meven\u001b[39m\u001b[38;5;124m\"\u001b[39m\n\u001b[0;32m      4\u001b[0m     \u001b[38;5;28;01melse\u001b[39;00m:\n",
      "\u001b[1;31mTypeError\u001b[0m: not all arguments converted during string formatting"
     ]
    }
   ],
   "source": [
    "even.is_even(\"hello\") # here code cut"
   ]
  },
  {
   "cell_type": "markdown",
   "id": "64dce408",
   "metadata": {},
   "source": [
    "# for above this problem resolve "
   ]
  },
  {
   "cell_type": "code",
   "execution_count": 17,
   "id": "4d7c6e1b",
   "metadata": {},
   "outputs": [],
   "source": [
    "import even as fd"
   ]
  },
  {
   "cell_type": "code",
   "execution_count": 18,
   "id": "97a0e069",
   "metadata": {},
   "outputs": [
    {
     "ename": "TypeError",
     "evalue": "not all arguments converted during string formatting",
     "output_type": "error",
     "traceback": [
      "\u001b[1;31m---------------------------------------------------------------------------\u001b[0m",
      "\u001b[1;31mTypeError\u001b[0m                                 Traceback (most recent call last)",
      "Input \u001b[1;32mIn [18]\u001b[0m, in \u001b[0;36m<cell line: 1>\u001b[1;34m()\u001b[0m\n\u001b[1;32m----> 1\u001b[0m \u001b[43mfd\u001b[49m\u001b[38;5;241;43m.\u001b[39;49m\u001b[43mis_even\u001b[49m\u001b[43m(\u001b[49m\u001b[38;5;124;43m\"\u001b[39;49m\u001b[38;5;124;43mhello\u001b[39;49m\u001b[38;5;124;43m\"\u001b[39;49m\u001b[43m)\u001b[49m\n",
      "File \u001b[1;32m~\\even.py:2\u001b[0m, in \u001b[0;36mis_even\u001b[1;34m(num)\u001b[0m\n\u001b[0;32m      1\u001b[0m \u001b[38;5;28;01mdef\u001b[39;00m \u001b[38;5;21mis_even\u001b[39m(num):\n\u001b[1;32m----> 2\u001b[0m     \u001b[38;5;28;01mif\u001b[39;00m \u001b[43mnum\u001b[49m\u001b[38;5;241;43m%\u001b[39;49m\u001b[38;5;241;43m2\u001b[39;49m\u001b[38;5;241m==\u001b[39m\u001b[38;5;241m0\u001b[39m:\n\u001b[0;32m      3\u001b[0m         \u001b[38;5;28;01mreturn\u001b[39;00m \u001b[38;5;124m\"\u001b[39m\u001b[38;5;124meven\u001b[39m\u001b[38;5;124m\"\u001b[39m\n\u001b[0;32m      4\u001b[0m     \u001b[38;5;28;01melse\u001b[39;00m:\n",
      "\u001b[1;31mTypeError\u001b[0m: not all arguments converted during string formatting"
     ]
    }
   ],
   "source": [
    "fd.is_even(\"hello\")"
   ]
  },
  {
   "cell_type": "markdown",
   "id": "54bfea9c",
   "metadata": {},
   "source": [
    "# Parameters Vs Argument"
   ]
  },
  {
   "cell_type": "code",
   "execution_count": 19,
   "id": "f678c067",
   "metadata": {},
   "outputs": [],
   "source": [
    "def power(a,b):\n",
    "    return a**b"
   ]
  },
  {
   "cell_type": "code",
   "execution_count": 20,
   "id": "dd8fa4d8",
   "metadata": {},
   "outputs": [
    {
     "data": {
      "text/plain": [
       "8"
      ]
     },
     "execution_count": 20,
     "metadata": {},
     "output_type": "execute_result"
    }
   ],
   "source": [
    "power(2,3)"
   ]
  },
  {
   "cell_type": "code",
   "execution_count": 21,
   "id": "380cc17b",
   "metadata": {},
   "outputs": [
    {
     "data": {
      "text/plain": [
       "125"
      ]
     },
     "execution_count": 21,
     "metadata": {},
     "output_type": "execute_result"
    }
   ],
   "source": [
    "power(5,3)"
   ]
  },
  {
   "cell_type": "code",
   "execution_count": 22,
   "id": "536ac2c4",
   "metadata": {},
   "outputs": [
    {
     "ename": "TypeError",
     "evalue": "power() missing 1 required positional argument: 'b'",
     "output_type": "error",
     "traceback": [
      "\u001b[1;31m---------------------------------------------------------------------------\u001b[0m",
      "\u001b[1;31mTypeError\u001b[0m                                 Traceback (most recent call last)",
      "Input \u001b[1;32mIn [22]\u001b[0m, in \u001b[0;36m<cell line: 1>\u001b[1;34m()\u001b[0m\n\u001b[1;32m----> 1\u001b[0m \u001b[43mpower\u001b[49m\u001b[43m(\u001b[49m\u001b[38;5;241;43m3\u001b[39;49m\u001b[43m)\u001b[49m\n",
      "\u001b[1;31mTypeError\u001b[0m: power() missing 1 required positional argument: 'b'"
     ]
    }
   ],
   "source": [
    "power(3)"
   ]
  },
  {
   "cell_type": "markdown",
   "id": "cb9de060",
   "metadata": {},
   "source": [
    "# Default argument"
   ]
  },
  {
   "cell_type": "code",
   "execution_count": 23,
   "id": "9f1c3f12",
   "metadata": {},
   "outputs": [],
   "source": [
    "def power(a=1,b=1):\n",
    "    return a**b"
   ]
  },
  {
   "cell_type": "code",
   "execution_count": 24,
   "id": "3bca262b",
   "metadata": {},
   "outputs": [
    {
     "data": {
      "text/plain": [
       "8"
      ]
     },
     "execution_count": 24,
     "metadata": {},
     "output_type": "execute_result"
    }
   ],
   "source": [
    "power(2,3)"
   ]
  },
  {
   "cell_type": "code",
   "execution_count": 25,
   "id": "8582a5e6",
   "metadata": {},
   "outputs": [
    {
     "data": {
      "text/plain": [
       "2"
      ]
     },
     "execution_count": 25,
     "metadata": {},
     "output_type": "execute_result"
    }
   ],
   "source": [
    "power(2)"
   ]
  },
  {
   "cell_type": "code",
   "execution_count": 26,
   "id": "a72ef36c",
   "metadata": {},
   "outputs": [
    {
     "data": {
      "text/plain": [
       "1"
      ]
     },
     "execution_count": 26,
     "metadata": {},
     "output_type": "execute_result"
    }
   ],
   "source": [
    "power()"
   ]
  },
  {
   "cell_type": "markdown",
   "id": "21992812",
   "metadata": {},
   "source": [
    "# Positional argument"
   ]
  },
  {
   "cell_type": "code",
   "execution_count": 28,
   "id": "afa8770d",
   "metadata": {},
   "outputs": [
    {
     "data": {
      "text/plain": [
       "9"
      ]
     },
     "execution_count": 28,
     "metadata": {},
     "output_type": "execute_result"
    }
   ],
   "source": [
    "power(b=2,a=3) # positional argument works as when we call the function using given position argument a=3,b=2"
   ]
  },
  {
   "cell_type": "code",
   "execution_count": 29,
   "id": "ad58342a",
   "metadata": {},
   "outputs": [
    {
     "data": {
      "text/plain": [
       "243"
      ]
     },
     "execution_count": 29,
     "metadata": {},
     "output_type": "execute_result"
    }
   ],
   "source": [
    "power(b=5,a=3)"
   ]
  },
  {
   "cell_type": "markdown",
   "id": "5d2461bc",
   "metadata": {},
   "source": [
    "# Kyword argument"
   ]
  },
  {
   "cell_type": "markdown",
   "id": "85976a74",
   "metadata": {},
   "source": [
    "# Arbitrary argument"
   ]
  },
  {
   "cell_type": "code",
   "execution_count": 31,
   "id": "4c5ab27d",
   "metadata": {},
   "outputs": [
    {
     "name": "stdout",
     "output_type": "stream",
     "text": [
      "1 2 3\n"
     ]
    }
   ],
   "source": [
    "print(1,2,3)"
   ]
  },
  {
   "cell_type": "code",
   "execution_count": 32,
   "id": "33e38875",
   "metadata": {},
   "outputs": [
    {
     "name": "stdout",
     "output_type": "stream",
     "text": [
      "1 danish 3\n"
     ]
    }
   ],
   "source": [
    "print(1,\"danish\",3)"
   ]
  },
  {
   "cell_type": "code",
   "execution_count": 33,
   "id": "adffdcc5",
   "metadata": {},
   "outputs": [],
   "source": [
    "def flexi(*num):\n",
    "    pro = 1\n",
    "    for i in num:\n",
    "        pro = pro * i\n",
    "    print(pro)"
   ]
  },
  {
   "cell_type": "code",
   "execution_count": 34,
   "id": "851da178",
   "metadata": {},
   "outputs": [
    {
     "name": "stdout",
     "output_type": "stream",
     "text": [
      "1\n"
     ]
    }
   ],
   "source": [
    "flexi(1)"
   ]
  },
  {
   "cell_type": "code",
   "execution_count": 35,
   "id": "5e7cf872",
   "metadata": {},
   "outputs": [
    {
     "name": "stdout",
     "output_type": "stream",
     "text": [
      "3\n"
     ]
    }
   ],
   "source": [
    "flexi(1,3)"
   ]
  },
  {
   "cell_type": "code",
   "execution_count": 36,
   "id": "e7f91a9e",
   "metadata": {},
   "outputs": [
    {
     "name": "stdout",
     "output_type": "stream",
     "text": [
      "6\n"
     ]
    }
   ],
   "source": [
    "flexi(2,3)"
   ]
  },
  {
   "cell_type": "code",
   "execution_count": 37,
   "id": "55684126",
   "metadata": {},
   "outputs": [
    {
     "name": "stdout",
     "output_type": "stream",
     "text": [
      "120\n"
     ]
    }
   ],
   "source": [
    "flexi(1,2,3,4,5)"
   ]
  },
  {
   "cell_type": "code",
   "execution_count": 38,
   "id": "488cac42",
   "metadata": {},
   "outputs": [],
   "source": [
    "def flexi(*num):\n",
    "    pro = 1\n",
    "    print(num)\n",
    "    print(type(num))\n",
    "    for i in num:\n",
    "        pro = pro * i\n",
    "    print(pro)"
   ]
  },
  {
   "cell_type": "code",
   "execution_count": 39,
   "id": "08b96b3f",
   "metadata": {},
   "outputs": [
    {
     "name": "stdout",
     "output_type": "stream",
     "text": [
      "(2, 3)\n",
      "<class 'tuple'>\n",
      "6\n"
     ]
    }
   ],
   "source": [
    "flexi(2,3)"
   ]
  },
  {
   "cell_type": "code",
   "execution_count": 40,
   "id": "70df1590",
   "metadata": {},
   "outputs": [
    {
     "name": "stdout",
     "output_type": "stream",
     "text": [
      "()\n",
      "<class 'tuple'>\n",
      "1\n"
     ]
    }
   ],
   "source": [
    "flexi()"
   ]
  },
  {
   "cell_type": "markdown",
   "id": "4e7b3d7c",
   "metadata": {},
   "source": [
    "### you can't provide a default for args,for example func(*args = [1,2,3]) will raise a syntax error . because here it doesn't allowes the positional argument"
   ]
  },
  {
   "cell_type": "code",
   "execution_count": 42,
   "id": "44952ac9",
   "metadata": {},
   "outputs": [
    {
     "ename": "SyntaxError",
     "evalue": "invalid syntax (2804525589.py, line 1)",
     "output_type": "error",
     "traceback": [
      "\u001b[1;36m  Input \u001b[1;32mIn [42]\u001b[1;36m\u001b[0m\n\u001b[1;33m    flexi(*num =[1,2,3])\u001b[0m\n\u001b[1;37m               ^\u001b[0m\n\u001b[1;31mSyntaxError\u001b[0m\u001b[1;31m:\u001b[0m invalid syntax\n"
     ]
    }
   ],
   "source": [
    "flexi(*num =[1,2,3])"
   ]
  },
  {
   "cell_type": "code",
   "execution_count": 43,
   "id": "f1cf0489",
   "metadata": {},
   "outputs": [
    {
     "ename": "SyntaxError",
     "evalue": "invalid syntax (3012990642.py, line 1)",
     "output_type": "error",
     "traceback": [
      "\u001b[1;36m  Input \u001b[1;32mIn [43]\u001b[1;36m\u001b[0m\n\u001b[1;33m    flexi(*num =(1,2,3))\u001b[0m\n\u001b[1;37m               ^\u001b[0m\n\u001b[1;31mSyntaxError\u001b[0m\u001b[1;31m:\u001b[0m invalid syntax\n"
     ]
    }
   ],
   "source": [
    "flexi(*num =(1,2,3))"
   ]
  },
  {
   "cell_type": "code",
   "execution_count": 45,
   "id": "0fbc3fe4",
   "metadata": {},
   "outputs": [
    {
     "name": "stdout",
     "output_type": "stream",
     "text": [
      "(2, 3, 4)\n",
      "<class 'tuple'>\n",
      "24\n"
     ]
    }
   ],
   "source": [
    "h = (2,3,4)\n",
    "flexi(*h)"
   ]
  },
  {
   "cell_type": "markdown",
   "id": "e32b36b8",
   "metadata": {},
   "source": [
    "# Arbitrary number of keyword argument"
   ]
  },
  {
   "cell_type": "code",
   "execution_count": 46,
   "id": "88a0bc82",
   "metadata": {},
   "outputs": [],
   "source": [
    "def func(**kwargs):\n",
    "    for name,value in kwargs.items():\n",
    "        print(name,value)"
   ]
  },
  {
   "cell_type": "code",
   "execution_count": 48,
   "id": "4c2db4cb",
   "metadata": {},
   "outputs": [
    {
     "name": "stdout",
     "output_type": "stream",
     "text": [
      "danish 1\n",
      "bilal 2\n",
      "usman 3\n"
     ]
    }
   ],
   "source": [
    "func(danish=1,bilal=2,usman=3)"
   ]
  },
  {
   "cell_type": "code",
   "execution_count": 50,
   "id": "4b1b1b60",
   "metadata": {},
   "outputs": [],
   "source": [
    "func()"
   ]
  },
  {
   "cell_type": "code",
   "execution_count": 51,
   "id": "5d1270c4",
   "metadata": {},
   "outputs": [
    {
     "ename": "SyntaxError",
     "evalue": "expression cannot contain assignment, perhaps you meant \"==\"? (3838299764.py, line 1)",
     "output_type": "error",
     "traceback": [
      "\u001b[1;36m  Input \u001b[1;32mIn [51]\u001b[1;36m\u001b[0m\n\u001b[1;33m    func(\"danish\"=1,\"bilal\"=2,\"usman\"=3)\u001b[0m\n\u001b[1;37m         ^\u001b[0m\n\u001b[1;31mSyntaxError\u001b[0m\u001b[1;31m:\u001b[0m expression cannot contain assignment, perhaps you meant \"==\"?\n"
     ]
    }
   ],
   "source": [
    "func(\"danish\"=1,\"bilal\"=2,\"usman\"=3)"
   ]
  },
  {
   "cell_type": "code",
   "execution_count": 52,
   "id": "ffff621a",
   "metadata": {},
   "outputs": [
    {
     "name": "stdout",
     "output_type": "stream",
     "text": [
      "foo 1\n",
      "gaa 2\n"
     ]
    }
   ],
   "source": [
    "my_dic = {'foo':1,'gaa':2}\n",
    "func(**my_dic)"
   ]
  },
  {
   "cell_type": "code",
   "execution_count": 53,
   "id": "baa1746d",
   "metadata": {},
   "outputs": [],
   "source": [
    "def func(**kwargs):\n",
    "    print(kwargs)\n",
    "    print(type(kwargs))\n",
    "    for name,value in kwargs.items():\n",
    "        print(name,value)"
   ]
  },
  {
   "cell_type": "code",
   "execution_count": 55,
   "id": "05a3b80a",
   "metadata": {},
   "outputs": [
    {
     "name": "stdout",
     "output_type": "stream",
     "text": [
      "{'danish': 1, 'bilal': 2, 'usman': 3}\n",
      "<class 'dict'>\n",
      "danish 1\n",
      "bilal 2\n",
      "usman 3\n"
     ]
    }
   ],
   "source": [
    "func(danish=1,bilal=2,usman=3)"
   ]
  },
  {
   "cell_type": "markdown",
   "id": "2f471e38",
   "metadata": {},
   "source": [
    "# Lambda function\n",
    "### lambda has no return value, it is a function type, it has one line code,not used for code reusability,no name like  def power()"
   ]
  },
  {
   "cell_type": "code",
   "execution_count": 5,
   "id": "f6126d9b",
   "metadata": {},
   "outputs": [],
   "source": [
    "x = lambda x: x**2"
   ]
  },
  {
   "cell_type": "code",
   "execution_count": 6,
   "id": "8e035674",
   "metadata": {},
   "outputs": [
    {
     "data": {
      "text/plain": [
       "64"
      ]
     },
     "execution_count": 6,
     "metadata": {},
     "output_type": "execute_result"
    }
   ],
   "source": [
    "x(8)"
   ]
  },
  {
   "cell_type": "code",
   "execution_count": 7,
   "id": "fbdb3a35",
   "metadata": {},
   "outputs": [
    {
     "data": {
      "text/plain": [
       "6"
      ]
     },
     "execution_count": 7,
     "metadata": {},
     "output_type": "execute_result"
    }
   ],
   "source": [
    "e = lambda x,y: x+y\n",
    "e(2,4)"
   ]
  },
  {
   "cell_type": "markdown",
   "id": "80bac31f",
   "metadata": {},
   "source": [
    "# Why \n",
    "### Along with higher order function"
   ]
  },
  {
   "cell_type": "code",
   "execution_count": 9,
   "id": "8214ef1d",
   "metadata": {},
   "outputs": [
    {
     "data": {
      "text/plain": [
       "False"
      ]
     },
     "execution_count": 9,
     "metadata": {},
     "output_type": "execute_result"
    }
   ],
   "source": [
    "b = lambda x: x[0] == 'a'\n",
    "b('banana')"
   ]
  },
  {
   "cell_type": "code",
   "execution_count": 10,
   "id": "5f08d015",
   "metadata": {},
   "outputs": [],
   "source": [
    "b = lambda x:\"Even\" if x%2 == 0 else \"odd\""
   ]
  },
  {
   "cell_type": "code",
   "execution_count": 11,
   "id": "1bb17f08",
   "metadata": {},
   "outputs": [
    {
     "data": {
      "text/plain": [
       "'odd'"
      ]
     },
     "execution_count": 11,
     "metadata": {},
     "output_type": "execute_result"
    }
   ],
   "source": [
    "b(5)"
   ]
  },
  {
   "cell_type": "code",
   "execution_count": 12,
   "id": "118b35ad",
   "metadata": {},
   "outputs": [
    {
     "data": {
      "text/plain": [
       "'Even'"
      ]
     },
     "execution_count": 12,
     "metadata": {},
     "output_type": "execute_result"
    }
   ],
   "source": [
    "b(8)"
   ]
  },
  {
   "cell_type": "markdown",
   "id": "66087745",
   "metadata": {},
   "source": [
    "# map"
   ]
  },
  {
   "cell_type": "code",
   "execution_count": 14,
   "id": "17ce9ed6",
   "metadata": {},
   "outputs": [],
   "source": [
    "l = [1,2,3,12,3,4,5]\n",
    "p =map(lambda x:x*2,l)"
   ]
  },
  {
   "cell_type": "code",
   "execution_count": 15,
   "id": "be9d020b",
   "metadata": {},
   "outputs": [
    {
     "name": "stdout",
     "output_type": "stream",
     "text": [
      "<map object at 0x0000018BAB9ACCD0>\n"
     ]
    }
   ],
   "source": [
    "print(p)"
   ]
  },
  {
   "cell_type": "code",
   "execution_count": 16,
   "id": "057a5274",
   "metadata": {},
   "outputs": [
    {
     "data": {
      "text/plain": [
       "[2, 4, 6, 24, 6, 8, 10]"
      ]
     },
     "execution_count": 16,
     "metadata": {},
     "output_type": "execute_result"
    }
   ],
   "source": [
    "list(p)"
   ]
  },
  {
   "cell_type": "code",
   "execution_count": 18,
   "id": "2f0e92e4",
   "metadata": {},
   "outputs": [],
   "source": [
    "student = [{\"name\": \"bilal\",\"age\":12,\"inter nuber in 500 \":342},\n",
    "          {\"name\": \"usman\",\"age\":14,\"inter nuber in 500 \":408},\n",
    "          {\"name\": \"danish \",\"age\":16,\"inter nuber in 500 \":375},\n",
    "          {\"name\": \" varish\",\"age\":13,\"inter nuber in 500 \":405}]"
   ]
  },
  {
   "cell_type": "code",
   "execution_count": 21,
   "id": "bdbc426b",
   "metadata": {},
   "outputs": [
    {
     "data": {
      "text/plain": [
       "<map at 0x18bab991760>"
      ]
     },
     "execution_count": 21,
     "metadata": {},
     "output_type": "execute_result"
    }
   ],
   "source": [
    "map(lambda student:student[\"name\"], student)"
   ]
  },
  {
   "cell_type": "code",
   "execution_count": 22,
   "id": "1004e0d0",
   "metadata": {},
   "outputs": [
    {
     "data": {
      "text/plain": [
       "['bilal', 'usman', 'danish ', ' varish']"
      ]
     },
     "execution_count": 22,
     "metadata": {},
     "output_type": "execute_result"
    }
   ],
   "source": [
    "list(map(lambda student:student[\"name\"], student))"
   ]
  },
  {
   "cell_type": "code",
   "execution_count": 23,
   "id": "49f29c35",
   "metadata": {},
   "outputs": [
    {
     "data": {
      "text/plain": [
       "[12, 14, 16, 13]"
      ]
     },
     "execution_count": 23,
     "metadata": {},
     "output_type": "execute_result"
    }
   ],
   "source": [
    "list(map(lambda student:student[\"age\"], student))"
   ]
  },
  {
   "cell_type": "code",
   "execution_count": null,
   "id": "214dbc60",
   "metadata": {},
   "outputs": [],
   "source": []
  }
 ],
 "metadata": {
  "kernelspec": {
   "display_name": "Python 3 (ipykernel)",
   "language": "python",
   "name": "python3"
  },
  "language_info": {
   "codemirror_mode": {
    "name": "ipython",
    "version": 3
   },
   "file_extension": ".py",
   "mimetype": "text/x-python",
   "name": "python",
   "nbconvert_exporter": "python",
   "pygments_lexer": "ipython3",
   "version": "3.9.12"
  }
 },
 "nbformat": 4,
 "nbformat_minor": 5
}
