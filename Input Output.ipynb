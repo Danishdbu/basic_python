{
 "cells": [
  {
   "cell_type": "markdown",
   "id": "4fdf7f68",
   "metadata": {},
   "source": [
    "# Taking input in Python\n",
    "### Developers often have a need to interact with users, either to get data or to provide some sort of result. Most programs today use a dialog box as a way of asking the user to provide some type of input. While Python provides us with two inbuilt functions to read the input from the keyboard. \n",
    "## input ( prompt )\n",
    "## raw_input ( prompt )"
   ]
  },
  {
   "cell_type": "markdown",
   "id": "2f3c79a7",
   "metadata": {},
   "source": [
    "# input ( ) :\n",
    "### This function first takes the input from the user and convert it into string. Type of the returned object always will be <type ‘str’>. It does not evaluate the expression it just return the complete statement as String."
   ]
  },
  {
   "cell_type": "code",
   "execution_count": 1,
   "id": "554dbd45",
   "metadata": {},
   "outputs": [
    {
     "name": "stdout",
     "output_type": "stream",
     "text": [
      "Enter your value: 12\n",
      "12\n"
     ]
    }
   ],
   "source": [
    "v = input(\"Enter your value: \")\n",
    "print(v)"
   ]
  },
  {
   "cell_type": "markdown",
   "id": "20c50b2d",
   "metadata": {},
   "source": [
    "## How the input function works in Python : \n",
    "### When input() function executes program flow will be stopped until the user has given an input.\n",
    "### The text or message display on the output screen to ask a user to enter input value is optional i.e. the prompt, will be printed on the screen is optional.\n",
    "### Whatever you enter as input, input function convert it into a string. if you enter an integer value still input() function convert it into a string. You need to explicitly convert it into an integer in your code using typecasting. "
   ]
  },
  {
   "cell_type": "code",
   "execution_count": 1,
   "id": "c527c5c6",
   "metadata": {
    "scrolled": true
   },
   "outputs": [
    {
     "name": "stdout",
     "output_type": "stream",
     "text": [
      "Enter number12\n",
      "12\n",
      "Enter name : \"danish\"\n",
      "\"danish\"\n",
      "type of number <class 'str'>\n",
      "type of name <class 'str'>\n"
     ]
    }
   ],
   "source": [
    "num = input (\"Enter number\")\n",
    "print(num)\n",
    "name1 = input(\"Enter name : \")\n",
    "print(name1)\n",
    "print (\"type of number\", type(num))\n",
    "print (\"type of name\", type(name1))"
   ]
  },
  {
   "cell_type": "code",
   "execution_count": 1,
   "id": "d3c46570",
   "metadata": {},
   "outputs": [
    {
     "name": "stdout",
     "output_type": "stream",
     "text": [
      "Enter number12\n",
      "Enter number31\n",
      "43\n"
     ]
    }
   ],
   "source": [
    "a = int(input(\"Enter number\"))\n",
    "b = int(input(\"Enter number\"))\n",
    "c = a+b\n",
    "print(c)"
   ]
  },
  {
   "cell_type": "code",
   "execution_count": 1,
   "id": "f8957bb9",
   "metadata": {},
   "outputs": [
    {
     "name": "stdout",
     "output_type": "stream",
     "text": [
      "23\n",
      "23.0\n"
     ]
    }
   ],
   "source": [
    "a = float(input())\n",
    "print(a)"
   ]
  },
  {
   "cell_type": "code",
   "execution_count": 3,
   "id": "8bd5d863",
   "metadata": {},
   "outputs": [
    {
     "name": "stdout",
     "output_type": "stream",
     "text": [
      "12\n",
      "24.3456\n",
      "36.345600000000005\n"
     ]
    }
   ],
   "source": [
    "a = float(input())\n",
    "b = float(input ())\n",
    "print(a+b)"
   ]
  },
  {
   "cell_type": "markdown",
   "id": "f4f7c0df",
   "metadata": {},
   "source": [
    "# Escape sequence:\n",
    "###  Escape sequence are the special character used for formatting our string. like if we printing a large string usin g print statement then we can used `\\n` escape sequence which add a new line.\n",
    "| SEQUENCE     |   DESCRIPTION  |\n",
    "---------------|----------------|\n",
    "\\n             | new line           |\n",
    "\\t             | tab(create space) |\n",
    "\\r            | return                  |\n",
    " (\\\"\"  )    | quotion mark in a double quoted string|\n",
    "\\''  (use only one quotation)   | quotion mark in a single quoted string  |\n",
    "\\\\     |  backslash|\n"
   ]
  },
  {
   "cell_type": "code",
   "execution_count": 1,
   "id": "532392c9",
   "metadata": {},
   "outputs": [],
   "source": [
    "#### \\'    \\\""
   ]
  },
  {
   "cell_type": "markdown",
   "id": "1869544c",
   "metadata": {},
   "source": [
    "# sep and end argument:\n",
    "### The print()  function provides a sep argument that can change the character that's used for separating string from one space to something else.\n",
    "###  The print()  function also provides an end argument that can change the ending character for print() function from a new line character (\\n) to something else.\n",
    "### by default the end argument has a \\n value which is known as new escape sequence for new line"
   ]
  },
  {
   "cell_type": "code",
   "execution_count": 2,
   "id": "274f58c7",
   "metadata": {},
   "outputs": [
    {
     "name": "stdout",
     "output_type": "stream",
     "text": [
      "1 2 3 4 5\n"
     ]
    }
   ],
   "source": [
    "print(1,2,3,4,5)"
   ]
  },
  {
   "cell_type": "code",
   "execution_count": 3,
   "id": "209c35b0",
   "metadata": {},
   "outputs": [
    {
     "name": "stdout",
     "output_type": "stream",
     "text": [
      "12345\n"
     ]
    }
   ],
   "source": [
    "print(1,2,3,4,5, sep=\"\")"
   ]
  },
  {
   "cell_type": "code",
   "execution_count": 5,
   "id": "349c8c54",
   "metadata": {},
   "outputs": [
    {
     "name": "stdout",
     "output_type": "stream",
     "text": [
      "['q', 12, 34, 'ram']\n"
     ]
    }
   ],
   "source": [
    "a= ['q',12,34,\"ram\"] # not work for list\n",
    "print(a,sep=\">\")"
   ]
  },
  {
   "cell_type": "code",
   "execution_count": 9,
   "id": "f1262542",
   "metadata": {},
   "outputs": [
    {
     "name": "stdout",
     "output_type": "stream",
     "text": [
      "(23, 12, 34, 12)\n"
     ]
    }
   ],
   "source": [
    "a= (23,12,34,12)\n",
    "print(a,sep=\"=>\")"
   ]
  },
  {
   "cell_type": "code",
   "execution_count": 10,
   "id": "404a09e5",
   "metadata": {},
   "outputs": [
    {
     "name": "stdout",
     "output_type": "stream",
     "text": [
      "1=>2=>3=>4=>5\n"
     ]
    }
   ],
   "source": [
    "print(1,2,3,4,5, sep=\"=>\")"
   ]
  },
  {
   "cell_type": "code",
   "execution_count": 14,
   "id": "cdc0a88c",
   "metadata": {},
   "outputs": [
    {
     "name": "stdout",
     "output_type": "stream",
     "text": [
      "1 2 3 4 5++"
     ]
    }
   ],
   "source": [
    "print(1,2,3,4,5, end=\"++\")"
   ]
  },
  {
   "cell_type": "code",
   "execution_count": 15,
   "id": "61b1e498",
   "metadata": {},
   "outputs": [
    {
     "name": "stdout",
     "output_type": "stream",
     "text": [
      "[1, 2, 3, 4, 5]\n"
     ]
    }
   ],
   "source": [
    "l = [1,2,3,4,5]\n",
    "print(l)"
   ]
  },
  {
   "cell_type": "code",
   "execution_count": 1,
   "id": "73971698",
   "metadata": {},
   "outputs": [
    {
     "name": "stdout",
     "output_type": "stream",
     "text": [
      "1 2 3 4 5"
     ]
    }
   ],
   "source": [
    "print(1,2,3,4,5, end=\"\")"
   ]
  },
  {
   "cell_type": "code",
   "execution_count": 3,
   "id": "1d2ca7d5",
   "metadata": {},
   "outputs": [
    {
     "name": "stdout",
     "output_type": "stream",
     "text": [
      "1 2 3 4 5 "
     ]
    }
   ],
   "source": [
    "p = [1, 2, 3, 4, 5]\n",
    "for i in p:\n",
    "    print(i,end=\" \")"
   ]
  },
  {
   "cell_type": "code",
   "execution_count": 4,
   "id": "f52d8672",
   "metadata": {},
   "outputs": [
    {
     "name": "stdout",
     "output_type": "stream",
     "text": [
      "1 ,2 ,3 ,4 ,5 ,"
     ]
    }
   ],
   "source": [
    "p = [1, 2, 3, 4, 5]\n",
    "for i in p:\n",
    "    print(i,end=\" ,\")"
   ]
  },
  {
   "cell_type": "code",
   "execution_count": null,
   "id": "26ecbdf9",
   "metadata": {},
   "outputs": [],
   "source": []
  }
 ],
 "metadata": {
  "kernelspec": {
   "display_name": "Python 3 (ipykernel)",
   "language": "python",
   "name": "python3"
  },
  "language_info": {
   "codemirror_mode": {
    "name": "ipython",
    "version": 3
   },
   "file_extension": ".py",
   "mimetype": "text/x-python",
   "name": "python",
   "nbconvert_exporter": "python",
   "pygments_lexer": "ipython3",
   "version": "3.9.12"
  }
 },
 "nbformat": 4,
 "nbformat_minor": 5
}
