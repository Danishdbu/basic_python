{
 "cells": [
  {
   "cell_type": "markdown",
   "id": "6b314ca2",
   "metadata": {},
   "source": [
    "# Data types in Python\n",
    "### Every value in Python has a datatype. Since everything is an object in Python programming, data types are actually classes and variables are instance (object) of these classes.\n",
    "\n",
    "### There are various data types in Python. Some of the important types are listed below.\n",
    "#### Text Type:\tstr\n",
    "#### Numeric Types:\tint, float, complex\n",
    "#### Sequence Types:\tlist, tuple, range\n",
    "#### Mapping Type:\tdict\n",
    "#### Set Types:\tset, frozenset\n",
    "#### Boolean Type:\tbool\n",
    "####  Binary Types:\tbytes, bytearray, memoryview\n",
    "#### None Type:\tNoneType\n",
    "#### Getting the Data Type"
   ]
  },
  {
   "cell_type": "markdown",
   "id": "ad1537f3",
   "metadata": {},
   "source": [
    "## Example\tData Type\n",
    "| Example                                                  |   Data type       |\n",
    "-----------------------------------------------------------|-------------------|\n",
    "x = \"Hello World\"\t                                       |       str         |    \n",
    "x = 20\t                                                   |       int         |\n",
    "x = 20.5\t                                               |       float       |\n",
    "x = 1j\t                                                   |       complex     |\n",
    "x = [\"apple\", \"banana\", \"cherry\"]\t                       |       list        |\n",
    "x = (\"apple\", \"banana\", \"cherry\")\t                       |       tuple       |\n",
    "x = range(6)\t                                           |       range       |\n",
    "x = {\"name\" : \"John\", \"age\" : 36}\t                       |       dict        |\n",
    "x = {\"apple\", \"banana\", \"cherry\"}\t                       |       set         |\n",
    "x = frozenset({\"apple\", \"banana\", \"cherry\"})\t           |       frozenset   |\n",
    "x = True\t                                               |       bool        |\n",
    "x = b\"Hello\"\t                                           |       bytes       |\n",
    "x = bytearray(5)\t                                       |       bytearray   |\n",
    "x = memoryview(bytes(5))\t                               |       memoryview  |\n",
    "x = None\t                                               |       NoneType    |\n",
    "\n",
    "**only we use some data type like set, tuple, dic, list**"
   ]
  },
  {
   "cell_type": "markdown",
   "id": "3cc751d7",
   "metadata": {},
   "source": []
  },
  {
   "cell_type": "code",
   "execution_count": null,
   "id": "da794637",
   "metadata": {},
   "outputs": [],
   "source": []
  },
  {
   "cell_type": "code",
   "execution_count": 1,
   "id": "c75508fe",
   "metadata": {},
   "outputs": [
    {
     "data": {
      "text/plain": [
       "-1"
      ]
     },
     "execution_count": 1,
     "metadata": {},
     "output_type": "execute_result"
    }
   ],
   "source": [
    "2-3"
   ]
  },
  {
   "cell_type": "code",
   "execution_count": null,
   "id": "e45ce89b",
   "metadata": {},
   "outputs": [],
   "source": []
  }
 ],
 "metadata": {
  "kernelspec": {
   "display_name": "Python 3 (ipykernel)",
   "language": "python",
   "name": "python3"
  },
  "language_info": {
   "codemirror_mode": {
    "name": "ipython",
    "version": 3
   },
   "file_extension": ".py",
   "mimetype": "text/x-python",
   "name": "python",
   "nbconvert_exporter": "python",
   "pygments_lexer": "ipython3",
   "version": "3.9.12"
  }
 },
 "nbformat": 4,
 "nbformat_minor": 5
}
