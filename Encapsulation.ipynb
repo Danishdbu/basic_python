{
  "nbformat": 4,
  "nbformat_minor": 0,
  "metadata": {
    "colab": {
      "provenance": []
    },
    "kernelspec": {
      "name": "python3",
      "display_name": "Python 3"
    },
    "language_info": {
      "name": "python"
    }
  },
  "cells": [
    {
      "cell_type": "code",
      "execution_count": 15,
      "metadata": {
        "colab": {
          "base_uri": "https://localhost:8080/"
        },
        "id": "J-R4-3mXENIt",
        "outputId": "19a33c2a-12bd-4b9e-c8f9-df16cd37b278"
      },
      "outputs": [
        {
          "output_type": "stream",
          "name": "stdout",
          "text": [
            "Instance attributes\n",
            "Yoo\n",
            "23\n"
          ]
        }
      ],
      "source": [
        "class Dog():# class\n",
        "  \"\"\"Instance attributes\"\"\"\n",
        "  hight = 12 # class attribut\n",
        "  def __init__(self, name=\"Yoo\", age=23): # data / state\n",
        "    # Instance attributes\n",
        "    self.name = name\n",
        "    self.age = age\n",
        "\n",
        "  def speed(self): # method / behavior\n",
        "    print(\"My speed is fast than you\")\n",
        "\n",
        "\n",
        "obj = Dog() # object\n",
        "print(obj.__doc__)\n",
        "print(obj.name)\n",
        "print(obj.age)"
      ]
    },
    {
      "cell_type": "code",
      "source": [
        "#incapsulation\n",
        "class Protected:\n",
        "    def __init__(self):\n",
        "        self.age = 30\n",
        "\n",
        "class Subclass(Protected):\n",
        "    def display_age(self):\n",
        "        print(self.age)\n",
        "\n",
        "obj = Subclass()\n",
        "obj.display_age()"
      ],
      "metadata": {
        "colab": {
          "base_uri": "https://localhost:8080/"
        },
        "id": "MwZihyKAFLZB",
        "outputId": "0c9fcbce-fb31-49f3-b078-8118379fede6"
      },
      "execution_count": 22,
      "outputs": [
        {
          "output_type": "stream",
          "name": "stdout",
          "text": [
            "30\n"
          ]
        }
      ]
    },
    {
      "cell_type": "code",
      "source": [
        "#protected\n",
        "class Animal():\n",
        "  def __init__(self,name,color):\n",
        "    self._name = name\n",
        "    self._color = color\n",
        "\n",
        "  def behave(self):\n",
        "    print(f'{self._name} bark and color is {self._color}')\n",
        "\n",
        "obj = Animal(\"Dog\",\"Red\")\n",
        "obj.behave()\n",
        "print(obj._name)"
      ],
      "metadata": {
        "colab": {
          "base_uri": "https://localhost:8080/"
        },
        "id": "cO-6MfYpF47A",
        "outputId": "f9a2b39e-ca5a-4689-a4c2-96e2df679e8d"
      },
      "execution_count": 26,
      "outputs": [
        {
          "output_type": "stream",
          "name": "stdout",
          "text": [
            "Dog bark and color is Red\n",
            "Dog\n"
          ]
        }
      ]
    },
    {
      "cell_type": "code",
      "source": [
        "#protected\n",
        "class Animal():\n",
        "  def __init__(self,name,color):\n",
        "    self._name = name\n",
        "    self._color = color\n",
        "\n",
        "  def behave(self):\n",
        "    print(f'{self._name} bark and color is {self._color}')\n",
        "class Cat(Animal):\n",
        "  def behave(self):\n",
        "    print(f'{self._name} Miaun and color is {self._color}')\n",
        "\n",
        "obj = Animal(\"Dog\",\"Red\")\n",
        "obj2 = Cat(\"Dani\",\"Black\")\n",
        "obj.behave()\n",
        "obj2.behave()\n",
        "print(obj._name)"
      ],
      "metadata": {
        "colab": {
          "base_uri": "https://localhost:8080/"
        },
        "id": "u1VgP7MAH1Ix",
        "outputId": "0caa180b-9331-4c2b-f123-eebd3d236963"
      },
      "execution_count": 30,
      "outputs": [
        {
          "output_type": "stream",
          "name": "stdout",
          "text": [
            "Dog bark and color is Red\n",
            "Dani Miaun and color is Black\n",
            "Dog\n"
          ]
        }
      ]
    },
    {
      "cell_type": "code",
      "source": [
        "# private\n",
        "class Animal():\n",
        "  def __init__(self,name,color):\n",
        "    self.__name = name\n",
        "    self.__color = color\n",
        "\n",
        "  def behave(self):\n",
        "    print(f'{self.__name} bark and color is {self.__color}')\n",
        "\n",
        "obj = Animal(\"Dog\",\"Red\")\n",
        "obj.behave()\n"
      ],
      "metadata": {
        "colab": {
          "base_uri": "https://localhost:8080/"
        },
        "id": "HSjPHmjVHIr_",
        "outputId": "92c68ed3-80b1-4d24-c540-f49341ee8bdc"
      },
      "execution_count": 31,
      "outputs": [
        {
          "output_type": "stream",
          "name": "stdout",
          "text": [
            "Dog bark and color is Red\n"
          ]
        }
      ]
    },
    {
      "cell_type": "code",
      "source": [
        "class Animal():\n",
        "  def __init__(self,name,color):\n",
        "    self.__name = name\n",
        "    self.__color = color\n",
        "\n",
        "  def behave(self):\n",
        "    print(f'{self.__name} bark and color is {self.__color}')\n",
        "class Cat(Animal):\n",
        "  def behave(self):\n",
        "    print(f'{self.__name} Miaun and color is {self.__color}') # we can not access in subclass , solution is getter and setter\n",
        "\n",
        "obj = Animal(\"Dog\",\"Red\")\n",
        "obj2 = Cat(\"Dani\",\"Black\")\n",
        "obj.behave()\n",
        "obj2.behave()\n",
        "print(obj._name)"
      ],
      "metadata": {
        "colab": {
          "base_uri": "https://localhost:8080/",
          "height": 332
        },
        "id": "JnffSU8pHaxY",
        "outputId": "e47bb6be-53cb-4cfa-bedd-998f995a8d02"
      },
      "execution_count": 32,
      "outputs": [
        {
          "output_type": "stream",
          "name": "stdout",
          "text": [
            "Dog bark and color is Red\n"
          ]
        },
        {
          "output_type": "error",
          "ename": "AttributeError",
          "evalue": "'Cat' object has no attribute '_Cat__name'",
          "traceback": [
            "\u001b[0;31m---------------------------------------------------------------------------\u001b[0m",
            "\u001b[0;31mAttributeError\u001b[0m                            Traceback (most recent call last)",
            "\u001b[0;32m/tmp/ipython-input-32-516950515.py\u001b[0m in \u001b[0;36m<cell line: 0>\u001b[0;34m()\u001b[0m\n\u001b[1;32m     13\u001b[0m \u001b[0mobj2\u001b[0m \u001b[0;34m=\u001b[0m \u001b[0mCat\u001b[0m\u001b[0;34m(\u001b[0m\u001b[0;34m\"Dani\"\u001b[0m\u001b[0;34m,\u001b[0m\u001b[0;34m\"Black\"\u001b[0m\u001b[0;34m)\u001b[0m\u001b[0;34m\u001b[0m\u001b[0;34m\u001b[0m\u001b[0m\n\u001b[1;32m     14\u001b[0m \u001b[0mobj\u001b[0m\u001b[0;34m.\u001b[0m\u001b[0mbehave\u001b[0m\u001b[0;34m(\u001b[0m\u001b[0;34m)\u001b[0m\u001b[0;34m\u001b[0m\u001b[0;34m\u001b[0m\u001b[0m\n\u001b[0;32m---> 15\u001b[0;31m \u001b[0mobj2\u001b[0m\u001b[0;34m.\u001b[0m\u001b[0mbehave\u001b[0m\u001b[0;34m(\u001b[0m\u001b[0;34m)\u001b[0m\u001b[0;34m\u001b[0m\u001b[0;34m\u001b[0m\u001b[0m\n\u001b[0m\u001b[1;32m     16\u001b[0m \u001b[0mprint\u001b[0m\u001b[0;34m(\u001b[0m\u001b[0mobj\u001b[0m\u001b[0;34m.\u001b[0m\u001b[0m_name\u001b[0m\u001b[0;34m)\u001b[0m\u001b[0;34m\u001b[0m\u001b[0;34m\u001b[0m\u001b[0m\n",
            "\u001b[0;32m/tmp/ipython-input-32-516950515.py\u001b[0m in \u001b[0;36mbehave\u001b[0;34m(self)\u001b[0m\n\u001b[1;32m      8\u001b[0m \u001b[0;32mclass\u001b[0m \u001b[0mCat\u001b[0m\u001b[0;34m(\u001b[0m\u001b[0mAnimal\u001b[0m\u001b[0;34m)\u001b[0m\u001b[0;34m:\u001b[0m\u001b[0;34m\u001b[0m\u001b[0;34m\u001b[0m\u001b[0m\n\u001b[1;32m      9\u001b[0m   \u001b[0;32mdef\u001b[0m \u001b[0mbehave\u001b[0m\u001b[0;34m(\u001b[0m\u001b[0mself\u001b[0m\u001b[0;34m)\u001b[0m\u001b[0;34m:\u001b[0m\u001b[0;34m\u001b[0m\u001b[0;34m\u001b[0m\u001b[0m\n\u001b[0;32m---> 10\u001b[0;31m     \u001b[0mprint\u001b[0m\u001b[0;34m(\u001b[0m\u001b[0;34mf'{self.__name} Miaun and color is {self.__color}'\u001b[0m\u001b[0;34m)\u001b[0m\u001b[0;34m\u001b[0m\u001b[0;34m\u001b[0m\u001b[0m\n\u001b[0m\u001b[1;32m     11\u001b[0m \u001b[0;34m\u001b[0m\u001b[0m\n\u001b[1;32m     12\u001b[0m \u001b[0mobj\u001b[0m \u001b[0;34m=\u001b[0m \u001b[0mAnimal\u001b[0m\u001b[0;34m(\u001b[0m\u001b[0;34m\"Dog\"\u001b[0m\u001b[0;34m,\u001b[0m\u001b[0;34m\"Red\"\u001b[0m\u001b[0;34m)\u001b[0m\u001b[0;34m\u001b[0m\u001b[0;34m\u001b[0m\u001b[0m\n",
            "\u001b[0;31mAttributeError\u001b[0m: 'Cat' object has no attribute '_Cat__name'"
          ]
        }
      ]
    },
    {
      "cell_type": "code",
      "source": [
        "class Animal():\n",
        "  def __init__(self,name,color):\n",
        "    self.__name = name\n",
        "    self.__color = color\n",
        "  def get_name(self):\n",
        "        return self.__name\n",
        "\n",
        "  def get_color(self):\n",
        "      return self.__color\n",
        "\n",
        "  def behave(self):\n",
        "    print(f'{self.__name} bark and color is {self.__color}')\n",
        "class Cat(Animal):\n",
        "  def behave(self):\n",
        "    print(f'{self.get_name()} Miaun and color is {self.get_color()}') # getter and setter\n",
        "\n",
        "obj = Animal(\"Dog\",\"Red\")\n",
        "obj2 = Cat(\"Cat\",\"Black\")\n",
        "obj.behave()\n",
        "obj2.behave()\n"
      ],
      "metadata": {
        "colab": {
          "base_uri": "https://localhost:8080/"
        },
        "id": "QZGhVsDbJgAx",
        "outputId": "5f0b1f1d-06a8-4e53-fd62-fc355a8cafba"
      },
      "execution_count": 36,
      "outputs": [
        {
          "output_type": "stream",
          "name": "stdout",
          "text": [
            "Dog bark and color is Red\n",
            "Cat Miaun and color is Black\n"
          ]
        }
      ]
    },
    {
      "cell_type": "code",
      "source": [
        "class Account:\n",
        "    def __init__(self, account_holder):\n",
        "        self.account_holder = account_holder\n",
        "        self.__balance = 0  # 🔐 Private attribute (encapsulation)\n",
        "\n",
        "    def credit(self, amount):\n",
        "        if amount > 0:\n",
        "            self.__balance += amount\n",
        "            print(f\"✅ Credited ₹{amount} to {self.account_holder}'s account.\")\n",
        "        else:\n",
        "            print(\"❌ Invalid credit amount.\")\n",
        "\n",
        "    def debit(self, amount):\n",
        "        if 0 < amount <= self.__balance:\n",
        "            self.__balance -= amount\n",
        "            print(f\"✅ Debited ₹{amount} from {self.account_holder}'s account.\")\n",
        "        else:\n",
        "            print(\"❌ Insufficient balance or invalid amount.\")\n",
        "\n",
        "    def get_balance(self):\n",
        "        return self.__balance  # ✔️ Read-only access to private balance\n",
        "\n",
        "\n",
        "\n",
        "\n",
        "acc1 = Account(\"Danish\")\n",
        "\n",
        "acc1.credit(5000)       # ✅ Add money\n",
        "acc1.debit(1500)        # ✅ Remove money\n",
        "acc1.debit(6000)        # ❌ More than balance\n",
        "print(f\"💰 Final Balance: ₹{acc1.get_balance()}\")\n",
        "\n",
        "# ❌ Direct access is not allowed\n",
        "# print(acc1.__balance)       # AttributeError\n",
        "# print(acc1._Account__balance + 10000)  # ⚠️ Not recommended (name mangling access)\n"
      ],
      "metadata": {
        "colab": {
          "base_uri": "https://localhost:8080/"
        },
        "id": "aYxNIRfZKyrp",
        "outputId": "957e8e13-bff2-4dfa-edac-7842e7e90037"
      },
      "execution_count": 40,
      "outputs": [
        {
          "output_type": "stream",
          "name": "stdout",
          "text": [
            "✅ Credited ₹5000 to Danish's account.\n",
            "✅ Debited ₹1500 from Danish's account.\n",
            "❌ Insufficient balance or invalid amount.\n",
            "💰 Final Balance: ₹3500\n"
          ]
        }
      ]
    }
  ]
}