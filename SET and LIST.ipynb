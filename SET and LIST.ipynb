{
 "cells": [
  {
   "cell_type": "markdown",
   "id": "e91b5264",
   "metadata": {},
   "source": [
    "# Data types in Python\n",
    "### Every value in Python has a datatype. Since everything is an object in Python programming, data types are actually classes and variables are instance (object) of these classes.\n",
    "\n",
    "### There are various data types in Python. Some of the important types are listed below.\n",
    "#### Text Type:\tstr\n",
    "#### Numeric Types:\tint, float, complex\n",
    "#### Sequence Types:\tlist, tuple, range\n",
    "#### Mapping Type:\tdict\n",
    "#### Set Types:\tset, frozenset\n",
    "#### Boolean Type:\tbool\n",
    "####  Binary Types:\tbytes, bytearray, memoryview\n",
    "#### None Type:\tNoneType\n",
    "#### Getting the Data Type"
   ]
  },
  {
   "cell_type": "markdown",
   "id": "9355760c",
   "metadata": {},
   "source": [
    "## Example\tData Type\n",
    "| Example                                                  |   Data type       |\n",
    "-----------------------------------------------------------|-------------------|\n",
    "x = \"Hello World\"\t                                       |       str         |    \n",
    "x = 20\t                                                   |       int         |\n",
    "x = 20.5\t                                               |       float       |\n",
    "x = 1j\t                                                   |       complex     |\n",
    "x = [\"apple\", \"banana\", \"cherry\"]\t                       |       list        |\n",
    "x = (\"apple\", \"banana\", \"cherry\")\t                       |       tuple       |\n",
    "x = range(6)\t                                           |       range       |\n",
    "x = {\"name\" : \"John\", \"age\" : 36}\t                       |       dict        |\n",
    "x = {\"apple\", \"banana\", \"cherry\"}\t                       |       set         |\n",
    "x = frozenset({\"apple\", \"banana\", \"cherry\"})\t           |       frozenset   |\n",
    "x = True\t                                               |       bool        |\n",
    "x = b\"Hello\"\t                                           |       bytes       |\n",
    "x = bytearray(5)\t                                       |       bytearray   |\n",
    "x = memoryview(bytes(5))\t                               |       memoryview  |\n",
    "x = None\t                                               |       NoneType    |\n",
    "\n",
    "**only we use some data type like set, tuple, dic, list**"
   ]
  },
  {
   "cell_type": "markdown",
   "id": "d5cb9354",
   "metadata": {},
   "source": [
    "# 1.Set\n",
    "### Sets are used to store multiple items in a single variable.\n",
    "\n",
    "### Set is one of 4 built-in data types in Python used to store collections of data, the other 3 are List, Tuple, and Dictionary, all with different qualities and usage.\n",
    "\n",
    "### A set is a collection which is unordered, unchangeable*, and unindexed.\n",
    "\n",
    "### ` Note: Set items are unchangeable, but you can remove items and add new items.`"
   ]
  },
  {
   "cell_type": "markdown",
   "id": "621230e0",
   "metadata": {},
   "source": [
    "## Set Items\n",
    "***Set items are unordered, unchangeable, and do not allow duplicate values.***\n",
    "## Unordered\n",
    "*** Unordered means that the items in a set do not have a defined order.*** \n",
    "\n",
    "*** Set items can appear in a different order every time you use them, and cannot be referred to by index or key.*** \n",
    "\n",
    "## Unchangeable\n",
    "*** Set items are unchangeable, meaning that we cannot change the items after the set has been created.***"
   ]
  },
  {
   "cell_type": "code",
   "execution_count": 9,
   "id": "43581ff8",
   "metadata": {},
   "outputs": [
    {
     "name": "stdout",
     "output_type": "stream",
     "text": [
      "{64, 23, 24, 11, 12, 13}\n"
     ]
    }
   ],
   "source": [
    "set1 = {12,11,13,24,64,23} # set1 gives unordered ouput \n",
    "print(set1)      # {64, 23, 24, 11, 12, 13}"
   ]
  },
  {
   "cell_type": "markdown",
   "id": "0b3b75e9",
   "metadata": {},
   "source": [
    "## Duplicates Not Allowed\n",
    "#### Sets cannot have two items with the same value.\n",
    "\n"
   ]
  },
  {
   "cell_type": "code",
   "execution_count": 11,
   "id": "f8cbfddb",
   "metadata": {},
   "outputs": [
    {
     "name": "stdout",
     "output_type": "stream",
     "text": [
      "{64, 24, 11, 12, 13}\n"
     ]
    }
   ],
   "source": [
    "a = {12,11,13,24,64,24,11}\n",
    "print(a)"
   ]
  },
  {
   "cell_type": "markdown",
   "id": "b045967a",
   "metadata": {},
   "source": [
    "# How do you create a set in Python?\n",
    "### We can create the sets in Python using either of the following two ways:\n",
    "\n",
    "   1.**Enclosing elements within curly braces {}**\n",
    "   2.**By using the set() function**\n",
    "## Using curly braces\n",
    "### Sets in Python can be created with the help of curly braces {}."
   ]
  },
  {
   "cell_type": "code",
   "execution_count": 2,
   "id": "047982b4",
   "metadata": {},
   "outputs": [
    {
     "name": "stdout",
     "output_type": "stream",
     "text": [
      "{'Vidhya', 'Data ', 'Engineer', 'ram'}\n"
     ]
    }
   ],
   "source": [
    "my_set = {'Vidhya', 'Data ', 'ram', 'Engineer'}\n",
    "print(my_set)"
   ]
  },
  {
   "cell_type": "markdown",
   "id": "64383a9e",
   "metadata": {},
   "source": [
    "# Using set() function\n",
    "### Sets in Python can also be created using the built-in function set([iterable]). This function takes an iterable (i.e. any type of sequence, collection, or iterator), as an argument and returns a set that contains unique items from the input i.e, duplicated values are removed."
   ]
  },
  {
   "cell_type": "code",
   "execution_count": 4,
   "id": "39d274e4",
   "metadata": {},
   "outputs": [
    {
     "name": "stdout",
     "output_type": "stream",
     "text": [
      "{1, 2, 33, 'ram', 'tar'}\n",
      "<class 'set'>\n"
     ]
    }
   ],
   "source": [
    "my_set = set([1,2,\"ram\",33,'tar'])\n",
    "print(my_set)\n",
    "# Check the Data Type of my_set\n",
    "print(type(my_set))"
   ]
  },
  {
   "cell_type": "code",
   "execution_count": 12,
   "id": "9e81b234",
   "metadata": {},
   "outputs": [
    {
     "name": "stdout",
     "output_type": "stream",
     "text": [
      "{1, 2, 3, 4}\n"
     ]
    }
   ],
   "source": [
    "s = set((1,2,3,4,1,2))\n",
    "print(s)"
   ]
  },
  {
   "cell_type": "markdown",
   "id": "b7c3f9d6",
   "metadata": {},
   "source": [
    "# Basic Functionalities on Sets in Python\n",
    "### We can perform a number of operations such as adding elements, deleting elements, finding the length of a set, etc. To know what all methods can be used on sets, we can use the dir() function. Let’s see this on a given set.\n",
    "\n"
   ]
  },
  {
   "cell_type": "code",
   "execution_count": 1,
   "id": "a8f9a24f",
   "metadata": {},
   "outputs": [
    {
     "name": "stdout",
     "output_type": "stream",
     "text": [
      "['__and__', '__class__', '__class_getitem__', '__contains__', '__delattr__', '__dir__', '__doc__', '__eq__', '__format__', '__ge__', '__getattribute__', '__gt__', '__hash__', '__iand__', '__init__', '__init_subclass__', '__ior__', '__isub__', '__iter__', '__ixor__', '__le__', '__len__', '__lt__', '__ne__', '__new__', '__or__', '__rand__', '__reduce__', '__reduce_ex__', '__repr__', '__ror__', '__rsub__', '__rxor__', '__setattr__', '__sizeof__', '__str__', '__sub__', '__subclasshook__', '__xor__', 'add', 'clear', 'copy', 'difference', 'difference_update', 'discard', 'intersection', 'intersection_update', 'isdisjoint', 'issubset', 'issuperset', 'pop', 'remove', 'symmetric_difference', 'symmetric_difference_update', 'union', 'update']\n"
     ]
    }
   ],
   "source": [
    "my_set = {'Analytics Vidhya', 'Data Scientist', 'Data Analyst', 'Data Engineer'}\n",
    "print(list(dir(my_set)))"
   ]
  },
  {
   "cell_type": "markdown",
   "id": "2f221d57",
   "metadata": {},
   "source": [
    "## Finding the Length of a Python Set"
   ]
  },
  {
   "cell_type": "code",
   "execution_count": 6,
   "id": "a4a32121",
   "metadata": {},
   "outputs": [
    {
     "name": "stdout",
     "output_type": "stream",
     "text": [
      "5\n"
     ]
    }
   ],
   "source": [
    "my_set = {1,2,\"ram\",33,'tar'}\n",
    "print(len(my_set))"
   ]
  },
  {
   "cell_type": "code",
   "execution_count": 7,
   "id": "f440b130",
   "metadata": {},
   "outputs": [
    {
     "data": {
      "text/plain": [
       "5"
      ]
     },
     "execution_count": 7,
     "metadata": {},
     "output_type": "execute_result"
    }
   ],
   "source": [
    "len(my_set)"
   ]
  },
  {
   "cell_type": "markdown",
   "id": "06e892e4",
   "metadata": {},
   "source": [
    "## Access Items\n",
    "### You cannot access items in a set by referring to an index or a key.\n",
    "\n",
    "### But you can loop through the set items using a for loop, or ask if a specified value is present in a set, by using the in keyword.\n",
    "\n",
    "\n",
    "\n"
   ]
  },
  {
   "cell_type": "code",
   "execution_count": 13,
   "id": "e82332be",
   "metadata": {},
   "outputs": [
    {
     "name": "stdout",
     "output_type": "stream",
     "text": [
      "cherry\n",
      "apple\n",
      "banana\n"
     ]
    }
   ],
   "source": [
    "thisset = {\"apple\", \"banana\", \"cherry\"}\n",
    "\n",
    "for x in thisset:\n",
    "  print(x)"
   ]
  },
  {
   "cell_type": "code",
   "execution_count": 14,
   "id": "97289d40",
   "metadata": {},
   "outputs": [
    {
     "name": "stdout",
     "output_type": "stream",
     "text": [
      "True\n"
     ]
    }
   ],
   "source": [
    "thisset = {\"apple\", \"banana\", \"cherry\"}\n",
    "\n",
    "print(\"banana\" in thisset)"
   ]
  },
  {
   "cell_type": "markdown",
   "id": "869b3210",
   "metadata": {},
   "source": [
    "## Add Items\n",
    "#### Once a set is created, you cannot change its items, but you can add new items.\n",
    "\n",
    "### `To add one item to a set use the add() method`"
   ]
  },
  {
   "cell_type": "code",
   "execution_count": 16,
   "id": "86c90976",
   "metadata": {},
   "outputs": [
    {
     "name": "stdout",
     "output_type": "stream",
     "text": [
      "{'cherry', 'apple', 'orange', 'banana'}\n"
     ]
    }
   ],
   "source": [
    "thisset = {\"apple\", \"banana\", \"cherry\"}\n",
    "\n",
    "thisset.add(\"orange\")\n",
    "\n",
    "print(thisset)"
   ]
  },
  {
   "cell_type": "markdown",
   "id": "68b09ee9",
   "metadata": {},
   "source": [
    "## Add Sets\n",
    "### To add items from another set into the current set, use the update() method."
   ]
  },
  {
   "cell_type": "code",
   "execution_count": 17,
   "id": "21c2b6a5",
   "metadata": {},
   "outputs": [
    {
     "name": "stdout",
     "output_type": "stream",
     "text": [
      "{'papaya', 'banana', 'cherry', 'mango', 'apple', 'pineapple'}\n"
     ]
    }
   ],
   "source": [
    "thisset = {\"apple\", \"banana\", \"cherry\"}\n",
    "tropical = {\"pineapple\", \"mango\", \"papaya\"}\n",
    "\n",
    "thisset.update(tropical)\n",
    "\n",
    "print(thisset)"
   ]
  },
  {
   "cell_type": "code",
   "execution_count": 19,
   "id": "a4eb6af1",
   "metadata": {},
   "outputs": [
    {
     "name": "stdout",
     "output_type": "stream",
     "text": [
      "{64, 1, 2, 3, 4, 33, 11, 12, 13, 23, 24, 'ram', 'tar'}\n"
     ]
    }
   ],
   "source": [
    "set1.update(my_set)\n",
    "print(set1)"
   ]
  },
  {
   "cell_type": "markdown",
   "id": "f39dcaee",
   "metadata": {},
   "source": [
    "# Add Any Iterable\n",
    "### The object in the update() method does not have to be a set, it can be any iterable object (tuples, lists, dictionaries etc.)"
   ]
  },
  {
   "cell_type": "code",
   "execution_count": 24,
   "id": "837db0ff",
   "metadata": {},
   "outputs": [
    {
     "name": "stdout",
     "output_type": "stream",
     "text": [
      "{'kiwi', 'banana', 'cherry', 'apple', 'orange'}\n"
     ]
    }
   ],
   "source": [
    "thisset = {\"apple\", \"banana\", \"cherry\"}\n",
    "mylist = [\"kiwi\", \"orange\"] \n",
    "thisset.update(mylist)\n",
    "print(thisset)"
   ]
  },
  {
   "cell_type": "code",
   "execution_count": 25,
   "id": "0974d4e1",
   "metadata": {},
   "outputs": [
    {
     "name": "stdout",
     "output_type": "stream",
     "text": [
      "{'rag', 'banana', 'cherry', 'apple', 'ram', 'rani'}\n"
     ]
    }
   ],
   "source": [
    "thisset = {\"apple\", \"banana\", \"cherry\"}\n",
    "mydic = {\"ram\":1,\"rag\":2,\"rani\":3} \n",
    "thisset.update(mydic)\n",
    "print(thisset)"
   ]
  },
  {
   "cell_type": "code",
   "execution_count": 26,
   "id": "7313008a",
   "metadata": {},
   "outputs": [
    {
     "name": "stdout",
     "output_type": "stream",
     "text": [
      "{'dog', 'don', 34, 'as', 23, 12, 'nam'}\n"
     ]
    }
   ],
   "source": [
    "s1 = {12,'dog','as',23,34}\n",
    "mytup = (12,\"don\",\"nam\",23)\n",
    "s1.update(mytup)\n",
    "print(s1)"
   ]
  },
  {
   "cell_type": "markdown",
   "id": "b6aa80af",
   "metadata": {},
   "source": [
    "# Mathematical operations on Python Sets\n",
    "### We can use sets in Python to compute mathematical operations such as,\n",
    "    1.Union,\n",
    "    2.Intersection,\n",
    "    3.Difference, and\n",
    "    4.Symmetric difference\n",
    "### These logical operations can be represented with a diagram, which is known as the Venn diagram. Venn diagrams are widely used in Mathematics, Statistics, and Computer science to visualize the differences and similarities between the sets."
   ]
  },
  {
   "attachments": {
    "image.png": {
     "image/png": "[encoded data removed]"
    }
   },
   "cell_type": "markdown",
   "id": "72837c07",
   "metadata": {},
   "source": [
    "![image.png](attachment:image.png)"
   ]
  },
  {
   "cell_type": "markdown",
   "id": "812b6641",
   "metadata": {},
   "source": [
    "# 1. Union of Sets\n",
    "### The union of two sets A and B is defined as the set containing the elements that are in A, B, or both, and is denoted by A ∪ B.\n",
    "### To compute this operation with Python, we can use either of the following two ways:\n",
    "        Using the ‘ | ‘ operator\n",
    "        Using set.union() method"
   ]
  },
  {
   "cell_type": "code",
   "execution_count": 27,
   "id": "ba389c38",
   "metadata": {},
   "outputs": [
    {
     "name": "stdout",
     "output_type": "stream",
     "text": [
      " The union of two sets is given byn {1, 3.45, '1', 'Analytics Vidhya'}\n"
     ]
    }
   ],
   "source": [
    "my_set_1 = {1, 'Analytics Vidhya', 3.45}\n",
    "my_set_2 = {'1', 3.45, 'Analytics Vidhya', 1}\n",
    "print(\" The union of two sets is given byn\", my_set_1 | my_set_2)"
   ]
  },
  {
   "cell_type": "code",
   "execution_count": 28,
   "id": "802ae75a",
   "metadata": {},
   "outputs": [
    {
     "name": "stdout",
     "output_type": "stream",
     "text": [
      "Union using union() function\n",
      "{'Archil', 'Jay', 'Karan', 'Idrish', 'Arjun'}\n",
      "\n",
      "Union using '|' operator\n",
      "{'Deepanshu', 'Archil', 'Raju', 'Jay', 'Idrish'}\n"
     ]
    }
   ],
   "source": [
    "people = {\"Jay\", \"Idrish\", \"Archil\"}\n",
    "vampires = {\"Karan\", \"Arjun\"}\n",
    "dracula = {\"Deepanshu\", \"Raju\"}\n",
    " \n",
    "# Union using union()\n",
    "# function\n",
    "population = people.union(vampires)\n",
    " \n",
    "print(\"Union using union() function\")\n",
    "print(population)\n",
    " \n",
    "# Union using \"|\"\n",
    "# operator\n",
    "population = people|dracula\n",
    " \n",
    "print(\"\\nUnion using '|' operator\")\n",
    "print(population)"
   ]
  },
  {
   "cell_type": "markdown",
   "id": "e97522a8",
   "metadata": {},
   "source": [
    "# 2. Intersection of Sets\n",
    "### The intersection of two sets A and B is defined as the set that consists of the elements that are common to both sets and is denoted by A ∩ B.\n",
    "### In Python, we can compute the intersection of two sets using either of the following two ways: \n",
    "\n",
    "     Using the ‘&’ operator\n",
    "     Using set.intersection() method"
   ]
  },
  {
   "cell_type": "code",
   "execution_count": 2,
   "id": "83317c74",
   "metadata": {},
   "outputs": [
    {
     "name": "stdout",
     "output_type": "stream",
     "text": [
      " The intersection of two sets is given byn {'Analytics Vidhya', 1, 3.45}\n"
     ]
    }
   ],
   "source": [
    "my_set_1 = {2,1, 'Analytics Vidhya', 3.45}\n",
    "my_set_2 = {'1', 3.45, 'Analytics Vidhya', 1}\n",
    "print(\" The intersection of two sets is given byn\", my_set_1 & my_set_2)"
   ]
  },
  {
   "cell_type": "code",
   "execution_count": 5,
   "id": "2bcc6648",
   "metadata": {},
   "outputs": [
    {
     "name": "stdout",
     "output_type": "stream",
     "text": [
      " The intersection of two sets is given byn {1, 3.4, 4.4}\n"
     ]
    }
   ],
   "source": [
    "my_set_1 = {1, 3.4,5,2,4.4}\n",
    "my_set_2 = {'1', 3.4,0.5, 'Analytics Vidhya', 1,4.4}\n",
    "print(\" The intersection of two sets is given byn\", my_set_1.intersection(my_set_2))"
   ]
  },
  {
   "cell_type": "code",
   "execution_count": 7,
   "id": "75244c2c",
   "metadata": {},
   "outputs": [
    {
     "name": "stdout",
     "output_type": "stream",
     "text": [
      "Intersection using intersection() function\n",
      "{3, 4}\n",
      "\n",
      "Intersection using '&' operator\n",
      "{3, 4}\n"
     ]
    }
   ],
   "source": [
    "set1 = set()\n",
    "set2 = set()\n",
    " \n",
    "for i in range(5):\n",
    "    set1.add(i)\n",
    "    \n",
    "for i in range(3,9):\n",
    "    set2.add(i)\n",
    " \n",
    "# Intersection using\n",
    "# intersection() function\n",
    "set3 = set1.intersection(set2)\n",
    " \n",
    "print(\"Intersection using intersection() function\")\n",
    "print(set3)\n",
    " \n",
    "# Intersection using\n",
    "# \"&\" operator\n",
    "set3 = set1 & set2\n",
    " \n",
    "print(\"\\nIntersection using '&' operator\")\n",
    "print(set3)"
   ]
  },
  {
   "cell_type": "markdown",
   "id": "d0507bab",
   "metadata": {},
   "source": [
    "# 3. Difference of Sets\n",
    "### When we take the difference between two sets, then it produces a new set that consists of elements that are present only in one of those sets. This means that all elements except the common elements of those sets will be returned.\n",
    "\n",
    "### In simple and short terms, we can say that the difference between two sets A and B is defined as the set of all elements of set A that are not contained in set B and is denoted by A-B."
   ]
  },
  {
   "cell_type": "markdown",
   "id": "5dc7afb4",
   "metadata": {},
   "source": [
    "### To compute the difference between two sets in Python, we can use either of the following two ways:\n",
    "\n",
    "    Using the ‘-‘ operator\n",
    "    Using set.difference() method"
   ]
  },
  {
   "cell_type": "code",
   "execution_count": 6,
   "id": "dfe933f1",
   "metadata": {},
   "outputs": [
    {
     "name": "stdout",
     "output_type": "stream",
     "text": [
      " The difference of set 1 from set 2 is given byn {12, 13, 'An', 'on'}\n",
      " The difference of set 2 from set 1 is given byn {' on', '1'}\n"
     ]
    }
   ],
   "source": [
    "set_1 = {1, 'An',12,'on',13, 3.45}\n",
    "set_2 = {'1', 3.45, ' on', 1}\n",
    "print(\" The difference of set 1 from set 2 is given byn\", set_1 - set_2)\n",
    "print(\" The difference of set 2 from set 1 is given byn\", set_2 - set_1)"
   ]
  },
  {
   "cell_type": "code",
   "execution_count": 8,
   "id": "644373e8",
   "metadata": {},
   "outputs": [
    {
     "name": "stdout",
     "output_type": "stream",
     "text": [
      " Difference of two sets using difference() function\n",
      "{0, 1, 2}\n",
      "\n",
      "Difference of two sets using '-' operator\n",
      "{0, 1, 2}\n"
     ]
    }
   ],
   "source": [
    "set1 = set()\n",
    "set2 = set()\n",
    " \n",
    "for i in range(5):\n",
    "    set1.add(i)\n",
    "for i in range(3,9):\n",
    "    set2.add(i)\n",
    " \n",
    "# Difference of two sets\n",
    "# using difference() function\n",
    "set3 = set1.difference(set2)\n",
    " \n",
    "print(\" Difference of two sets using difference() function\")\n",
    "print(set3)\n",
    " \n",
    "# Difference of two sets\n",
    "# using '-' operator\n",
    "set3 = set1 - set2\n",
    " \n",
    "print(\"\\nDifference of two sets using '-' operator\")\n",
    "print(set3)"
   ]
  },
  {
   "cell_type": "markdown",
   "id": "c372d167",
   "metadata": {},
   "source": [
    "# 4. Symmetric difference of Sets\n",
    "### The symmetric difference of two sets A and B is defined as the set of elements that are in either of the sets A and B, but not in both, and is denoted by A △ B.\n",
    "### In Python, we can find the symmetric difference of two sets using either of the following two ways:\n",
    "\n",
    "    Using the ‘^’ operator\n",
    "    Using set.symmetric_difference() method\n"
   ]
  },
  {
   "cell_type": "code",
   "execution_count": 9,
   "id": "fb141075",
   "metadata": {},
   "outputs": [
    {
     "name": "stdout",
     "output_type": "stream",
     "text": [
      " The symmetric difference of two sets is given byn {3, 6, 11, 12, '1', 31}\n",
      " The symmetric difference of two sets is given byn {3, 6, 11, 12, '1', 31}\n"
     ]
    }
   ],
   "source": [
    "# Symmetric Difference of two sets using '^' operator \n",
    "my_1 = {1,11 , 3.45,3,31,6,24}\n",
    "my_2 = {'1', 3.45, 12, 1,24}\n",
    "print(\" The symmetric difference of two sets is given byn\", my_1 ^ my_2)\n",
    "print(\" The symmetric difference of two sets is given byn\", my_2 ^ my_1)"
   ]
  },
  {
   "cell_type": "code",
   "execution_count": 10,
   "id": "82e4a8ad",
   "metadata": {},
   "outputs": [
    {
     "name": "stdout",
     "output_type": "stream",
     "text": [
      "{1, 2}\n",
      "{1, 2}\n"
     ]
    }
   ],
   "source": [
    "c= {12,1,2,3,4}\n",
    "b= {12,3,4}\n",
    "print(c^b)\n",
    "print(b^c)"
   ]
  },
  {
   "cell_type": "code",
   "execution_count": 11,
   "id": "9ab4a5c1",
   "metadata": {},
   "outputs": [
    {
     "name": "stdout",
     "output_type": "stream",
     "text": [
      " The symmetric difference of two sets is given byn {'1'}\n",
      " The symmetric difference of two sets is given byn {'1'}\n"
     ]
    }
   ],
   "source": [
    "# Symmetric Difference of two sets using set.symmetric_difference() method\n",
    "my_set_1 = {1, 'Analytics Vidhya', 3.45}\n",
    "my_set_2 = {'1', 3.45, 'Analytics Vidhya', 1}\n",
    "print(\" The symmetric difference of two sets is given byn\", my_set_1.symmetric_difference(my_set_2))\n",
    "print(\" The symmetric difference of two sets is given byn\", my_set_2.symmetric_difference(my_set_1))"
   ]
  },
  {
   "cell_type": "markdown",
   "id": "82c7f8f3",
   "metadata": {},
   "source": [
    "# Operators for Sets\n",
    "### Sets and frozen sets support the following operators:\n",
    " \n",
    "\n",
    "|  Operators  |  Notes  |\n",
    "--------------|---------|\n",
    "key in s |   containment check|\n",
    "key not in s |  non-containment check  |\n",
    "s1 == s2   |s1 is equivalent to s2|\n",
    "s1 != s2   |s1 is not equivalent to s2|\n",
    "s1 <= s2   |s1 is subset of s2             |\n",
    "s1 < s2    |s1 is proper subset of s2|\n",
    "s1 >= s2   |s1 is superset of s2|\n",
    "s1 > s2    |s1 is proper superset of s2|\n",
    "s1 union s2   |the union of s1 and s2|\n",
    "s1 & s2    |the intersection of s1 and s2|\n",
    "s1 – s2    |the set of elements in s1 but not s2|\n",
    "s1 ˆ s2    |the set of elements in precisely one of s1 or s2|"
   ]
  },
  {
   "cell_type": "code",
   "execution_count": 16,
   "id": "6c559dc9",
   "metadata": {},
   "outputs": [
    {
     "name": "stdout",
     "output_type": "stream",
     "text": [
      "Set1 =  {1, 2, 3, 4, 5}\n",
      "Set2 =  {3, 4, 5, 6, 7}\n",
      "\n",
      "\n",
      "Union of Set1 & Set2: Set3 =  {1, 2, 3, 4, 5, 6, 7}\n",
      "Intersection of Set1 & Set2: Set4 =  {3, 4, 5}\n",
      "\n",
      "\n",
      "Set3 is superset of Set4\n",
      "Set4 is subset of Set3\n",
      "\n",
      "\n",
      "Elements in Set3 and not in Set4: Set5 =  {1, 2, 6, 7}\n",
      "\n",
      "\n",
      "Set4 and Set5 have nothing in common\n",
      "\n",
      "After applying clear on sets Set5: \n",
      "Set5 =  set()\n"
     ]
    }
   ],
   "source": [
    "# Creating two sets\n",
    "set1 = set()\n",
    "set2 = set()\n",
    " \n",
    "# Adding elements to set1\n",
    "for i in range(1, 6):\n",
    "    set1.add(i)\n",
    " \n",
    "# Adding elements to set2\n",
    "for i in range(3, 8):\n",
    "    set2.add(i)\n",
    "print(\"Set1 = \", set1)\n",
    "print(\"Set2 = \", set2)\n",
    "print(\"\\n\")\n",
    " \n",
    "# Union of set1 and set2\n",
    "set3 = set1 | set2# set1.union(set2)\n",
    "print(\"Union of Set1 & Set2: Set3 = \", set3)\n",
    " \n",
    "# Intersection of set1 and set2\n",
    "set4 = set1 & set2# set1.intersection(set2)\n",
    "print(\"Intersection of Set1 & Set2: Set4 = \", set4)\n",
    "print(\"\\n\")\n",
    " \n",
    "# Checking relation between set3 and set4\n",
    "if set3 > set4: # set3.issuperset(set4)\n",
    "    print(\"Set3 is superset of Set4\")\n",
    "elif set3 < set4: # set3.issubset(set4)\n",
    "    print(\"Set3 is subset of Set4\")\n",
    "else : # set3 == set4\n",
    "    print(\"Set3 is same as Set4\")\n",
    " \n",
    "# displaying relation between set4 and set3\n",
    "if set4 < set3: # set4.issubset(set3)\n",
    "    print(\"Set4 is subset of Set3\")\n",
    "    print(\"\\n\")\n",
    " \n",
    "# difference between set3 and set4\n",
    "set5 = set3 - set4\n",
    "print(\"Elements in Set3 and not in Set4: Set5 = \", set5)\n",
    "print(\"\\n\")\n",
    " \n",
    "# check if set4 and set5 are disjoint sets\n",
    "if set4.isdisjoint(set5):\n",
    "    print(\"Set4 and Set5 have nothing in common\\n\")\n",
    " \n",
    "# Removing all the values of set5\n",
    "set5.clear()\n",
    " \n",
    "print(\"After applying clear on sets Set5: \")\n",
    "print(\"Set5 = \", set5)"
   ]
  },
  {
   "cell_type": "markdown",
   "id": "e7995bc5",
   "metadata": {},
   "source": [
    "# Remove Item\n",
    "### To remove an item in a set, use the remove(), or the discard() method."
   ]
  },
  {
   "cell_type": "code",
   "execution_count": 17,
   "id": "281a5aa3",
   "metadata": {},
   "outputs": [
    {
     "name": "stdout",
     "output_type": "stream",
     "text": [
      "{'apple', 'cherry'}\n"
     ]
    }
   ],
   "source": [
    "thisset = {\"apple\", \"banana\", \"cherry\"}\n",
    "\n",
    "thisset.remove(\"banana\")\n",
    "\n",
    "print(thisset)\n"
   ]
  },
  {
   "cell_type": "code",
   "execution_count": 18,
   "id": "9ca11b76",
   "metadata": {},
   "outputs": [
    {
     "ename": "KeyError",
     "evalue": "8",
     "output_type": "error",
     "traceback": [
      "\u001b[1;31m---------------------------------------------------------------------------\u001b[0m",
      "\u001b[1;31mKeyError\u001b[0m                                  Traceback (most recent call last)",
      "Input \u001b[1;32mIn [18]\u001b[0m, in \u001b[0;36m<cell line: 2>\u001b[1;34m()\u001b[0m\n\u001b[0;32m      1\u001b[0m b\u001b[38;5;241m=\u001b[39m{\u001b[38;5;241m1\u001b[39m, \u001b[38;5;241m2\u001b[39m, \u001b[38;5;241m3\u001b[39m, \u001b[38;5;241m4\u001b[39m, \u001b[38;5;241m5\u001b[39m, \u001b[38;5;241m6\u001b[39m, \u001b[38;5;241m7\u001b[39m}\n\u001b[1;32m----> 2\u001b[0m \u001b[43mb\u001b[49m\u001b[38;5;241;43m.\u001b[39;49m\u001b[43mremove\u001b[49m\u001b[43m(\u001b[49m\u001b[38;5;241;43m8\u001b[39;49m\u001b[43m)\u001b[49m\n\u001b[0;32m      3\u001b[0m \u001b[38;5;28mprint\u001b[39m(b)\n",
      "\u001b[1;31mKeyError\u001b[0m: 8"
     ]
    }
   ],
   "source": [
    "b={1, 2, 3, 4, 5, 6, 7} \n",
    "b.remove(8)\n",
    "print(b)"
   ]
  },
  {
   "cell_type": "code",
   "execution_count": 1,
   "id": "60118898",
   "metadata": {},
   "outputs": [
    {
     "name": "stdout",
     "output_type": "stream",
     "text": [
      "{'cherry', 'apple'}\n"
     ]
    }
   ],
   "source": [
    "thisset = {\"apple\", \"banana\", \"cherry\"}\n",
    "\n",
    "thisset.discard(\"banana\")\n",
    "\n",
    "print(thisset)"
   ]
  },
  {
   "cell_type": "markdown",
   "id": "5d56e484",
   "metadata": {},
   "source": [
    "### If the item to remove does not exist, discard() will NOT raise an error."
   ]
  },
  {
   "cell_type": "code",
   "execution_count": 2,
   "id": "71141e28",
   "metadata": {},
   "outputs": [
    {
     "name": "stdout",
     "output_type": "stream",
     "text": [
      "{1, 2, 3, 4, 5, 6, 7}\n"
     ]
    }
   ],
   "source": [
    "b={1, 2, 3, 4, 5, 6, 7} \n",
    "b.discard(8)\n",
    "print(b)"
   ]
  },
  {
   "cell_type": "markdown",
   "id": "25480909",
   "metadata": {},
   "source": [
    "### You can also use the` pop()` method to remove an item, but this method will remove the last item. Remember that sets are unordered, so you will not know what item that gets removed."
   ]
  },
  {
   "cell_type": "code",
   "execution_count": 3,
   "id": "e6feb394",
   "metadata": {},
   "outputs": [
    {
     "name": "stdout",
     "output_type": "stream",
     "text": [
      "cherry\n",
      "{'banana', 'apple'}\n"
     ]
    }
   ],
   "source": [
    "thisset = {\"apple\", \"banana\", \"cherry\"}\n",
    "\n",
    "x = thisset.pop()\n",
    "\n",
    "print(x)\n",
    "\n",
    "print(thisset)"
   ]
  },
  {
   "cell_type": "code",
   "execution_count": 7,
   "id": "d247091a",
   "metadata": {},
   "outputs": [
    {
     "name": "stdout",
     "output_type": "stream",
     "text": [
      "{'r', 'W', 'o', 'l', 'e', 'd', 'H'}\n",
      "r\n",
      "{'o', 'l', 'e', 'd', 'H'}\n",
      "set()\n"
     ]
    }
   ],
   "source": [
    "# initialize my_set\n",
    "# Output: set of unique elements\n",
    "my_set = set(\"HelloWorld\")\n",
    "print(my_set)\n",
    "\n",
    "# pop an element\n",
    "# Output: random element\n",
    "print(my_set.pop())\n",
    "\n",
    "# pop another element\n",
    "my_set.pop()\n",
    "print(my_set)\n",
    "\n",
    "# clear my_set\n",
    "# Output: set()\n",
    "my_set.clear()\n",
    "print(my_set)"
   ]
  },
  {
   "cell_type": "code",
   "execution_count": 4,
   "id": "a2a375cd",
   "metadata": {},
   "outputs": [
    {
     "name": "stdout",
     "output_type": "stream",
     "text": [
      "set()\n"
     ]
    }
   ],
   "source": [
    "thisset = {\"apple\", \"banana\", \"cherry\"}\n",
    "\n",
    "thisset.clear()\n",
    "\n",
    "print(thisset)"
   ]
  },
  {
   "cell_type": "code",
   "execution_count": 6,
   "id": "cb922af9",
   "metadata": {},
   "outputs": [
    {
     "ename": "NameError",
     "evalue": "name 'thisset' is not defined",
     "output_type": "error",
     "traceback": [
      "\u001b[1;31m---------------------------------------------------------------------------\u001b[0m",
      "\u001b[1;31mNameError\u001b[0m                                 Traceback (most recent call last)",
      "Input \u001b[1;32mIn [6]\u001b[0m, in \u001b[0;36m<cell line: 7>\u001b[1;34m()\u001b[0m\n\u001b[0;32m      3\u001b[0m thisset \u001b[38;5;241m=\u001b[39m {\u001b[38;5;124m\"\u001b[39m\u001b[38;5;124mapple\u001b[39m\u001b[38;5;124m\"\u001b[39m, \u001b[38;5;124m\"\u001b[39m\u001b[38;5;124mbanana\u001b[39m\u001b[38;5;124m\"\u001b[39m, \u001b[38;5;124m\"\u001b[39m\u001b[38;5;124mcherry\u001b[39m\u001b[38;5;124m\"\u001b[39m}\n\u001b[0;32m      5\u001b[0m \u001b[38;5;28;01mdel\u001b[39;00m thisset\n\u001b[1;32m----> 7\u001b[0m \u001b[38;5;28mprint\u001b[39m(\u001b[43mthisset\u001b[49m)\n",
      "\u001b[1;31mNameError\u001b[0m: name 'thisset' is not defined"
     ]
    }
   ],
   "source": [
    "#The del keyword will delete the set completely:\n",
    "\n",
    "thisset = {\"apple\", \"banana\", \"cherry\"}\n",
    "\n",
    "del thisset\n",
    "\n",
    "print(thisset)  # #this will raise an error because the set no longer exists"
   ]
  },
  {
   "cell_type": "markdown",
   "id": "748d370c",
   "metadata": {},
   "source": [
    "# Python Set Methods"
   ]
  },
  {
   "cell_type": "markdown",
   "id": "51c6b651",
   "metadata": {},
   "source": [
    "|Method   |Description|\n",
    "----------|------------|\n",
    "add()   |Adds an element to the set|\n",
    "clear()   |Removes all elements from the set|\n",
    "copy()   |Returns a copy of the set|\n",
    "difference()       |  Returns the difference of two or more sets as a new set|\n",
    "difference_update()|  Removes all elements of another set from this set|\n",
    "discard()          |  Removes an element from the set if it is a member. (Do nothing if the element is not in set)|\n",
    "intersection()     |  Returns the intersection of two sets as a new set|\n",
    "intersection_update() |  Updates the set with the intersection of itself and another|\n",
    "isdisjoint()        |  Returns True if two sets have a null intersection|\n",
    "issubset()          |  Returns True if another set contains this set|\n",
    "issuperset()        |  Returns True if this set contains another set|\n",
    "pop()               |  Removes and returns an arbitrary set element. Raises KeyError if the set is empty|\n",
    "remove()            |  Removes an element from the set. If the element is not a member, raises a KeyError|\n",
    "symmetric_difference() |Returns the symmetric difference of two sets as a new set|\n",
    "symmetric_difference_update() |       Updates a set with the symmetric difference of itself and another|\n",
    "union()                        |     Returns the union of sets in a new set |\n",
    "update()                        |    Updates the set with the union of itself and others|\n"
   ]
  },
  {
   "cell_type": "markdown",
   "id": "c02b9abc",
   "metadata": {},
   "source": [
    "# Python Frozenset\n",
    "### Frozenset is a new class that has the characteristics of a set, but its elements cannot be changed once assigned. While tuples are immutable lists, frozensets are immutable sets.\n",
    "\n",
    "### Sets being mutable are unhashable, so they can't be used as dictionary keys. On the other hand, frozensets are hashable and can be used as keys to a dictionary.\n",
    "\n",
    "### Frozensets can be created using the` frozenset() `function.\n",
    "\n",
    "### This data type supports methods like` copy(), difference(), intersection(), isdisjoint(), issubset(), issuperset(),symmetric_difference() and union()`. Being immutable, it does not have methods that add or remove elements."
   ]
  },
  {
   "cell_type": "code",
   "execution_count": 10,
   "id": "9f9df59d",
   "metadata": {},
   "outputs": [],
   "source": [
    "# Frozensets\n",
    "# initialize A and B\n",
    "A = frozenset([1, 2, 3, 4])\n",
    "B = frozenset([3, 4, 5, 6])"
   ]
  },
  {
   "cell_type": "code",
   "execution_count": 20,
   "id": "a935d40c",
   "metadata": {},
   "outputs": [
    {
     "name": "stdout",
     "output_type": "stream",
     "text": [
      "The frozenset corresponding to a given set is n frozenset({1, 4.6, 'r', 'Analytics Vidhya'})\n",
      "<class 'frozenset'>\n"
     ]
    }
   ],
   "source": [
    "simple_set = {1,'Analytics Vidhya', 4.6, 'r'}\n",
    "frozen_set = frozenset(simple_set)\n",
    "print(\"The frozenset corresponding to a given set is n\", frozen_set)\n",
    "print(type(frozen_set))"
   ]
  },
  {
   "cell_type": "code",
   "execution_count": 12,
   "id": "65ceaf68",
   "metadata": {},
   "outputs": [
    {
     "name": "stdout",
     "output_type": "stream",
     "text": [
      "Normal Set\n",
      "{'c', 'b', 'a'}\n",
      "\n",
      "Frozen Set\n",
      "frozenset({'g', 'f', 'e'})\n"
     ]
    }
   ],
   "source": [
    "# Same as {\"a\", \"b\",\"c\"}\n",
    "normal_set = set([\"a\", \"b\",\"c\"])\n",
    " \n",
    "print(\"Normal Set\")\n",
    "print(normal_set)\n",
    " \n",
    "# A frozen set\n",
    "frozen_set = frozenset([\"e\", \"f\", \"g\"])\n",
    " \n",
    "print(\"\\nFrozen Set\")\n",
    "print(frozen_set)\n",
    " \n",
    "# Uncommenting below line would cause error as\n",
    "# we are trying to add element to a frozen set\n",
    "# frozen_set.add(\"h\")"
   ]
  },
  {
   "cell_type": "code",
   "execution_count": 14,
   "id": "b60e2b2c",
   "metadata": {},
   "outputs": [
    {
     "name": "stdout",
     "output_type": "stream",
     "text": [
      "{1, 2, (12, 1), 3, 4}\n"
     ]
    }
   ],
   "source": [
    "se = {(12,1),1,2,3,4}\n",
    "print(se)"
   ]
  },
  {
   "cell_type": "code",
   "execution_count": 15,
   "id": "d2817c4f",
   "metadata": {},
   "outputs": [
    {
     "ename": "TypeError",
     "evalue": "unhashable type: 'list'",
     "output_type": "error",
     "traceback": [
      "\u001b[1;31m---------------------------------------------------------------------------\u001b[0m",
      "\u001b[1;31mTypeError\u001b[0m                                 Traceback (most recent call last)",
      "Input \u001b[1;32mIn [15]\u001b[0m, in \u001b[0;36m<cell line: 1>\u001b[1;34m()\u001b[0m\n\u001b[1;32m----> 1\u001b[0m se \u001b[38;5;241m=\u001b[39m {[\u001b[38;5;241m12\u001b[39m,\u001b[38;5;241m1\u001b[39m],\u001b[38;5;241m1\u001b[39m,\u001b[38;5;241m2\u001b[39m,\u001b[38;5;241m3\u001b[39m,\u001b[38;5;241m4\u001b[39m}\n\u001b[0;32m      2\u001b[0m \u001b[38;5;28mprint\u001b[39m(se)\n",
      "\u001b[1;31mTypeError\u001b[0m: unhashable type: 'list'"
     ]
    }
   ],
   "source": [
    "se = {[12,1],1,2,3,4}\n",
    "print(se)"
   ]
  },
  {
   "cell_type": "code",
   "execution_count": 16,
   "id": "61819ce1",
   "metadata": {},
   "outputs": [
    {
     "ename": "TypeError",
     "evalue": "unhashable type: 'set'",
     "output_type": "error",
     "traceback": [
      "\u001b[1;31m---------------------------------------------------------------------------\u001b[0m",
      "\u001b[1;31mTypeError\u001b[0m                                 Traceback (most recent call last)",
      "Input \u001b[1;32mIn [16]\u001b[0m, in \u001b[0;36m<cell line: 1>\u001b[1;34m()\u001b[0m\n\u001b[1;32m----> 1\u001b[0m se \u001b[38;5;241m=\u001b[39m {{\u001b[38;5;241m12\u001b[39m,\u001b[38;5;241m1\u001b[39m},\u001b[38;5;241m1\u001b[39m,\u001b[38;5;241m2\u001b[39m,\u001b[38;5;241m3\u001b[39m,\u001b[38;5;241m4\u001b[39m}\n\u001b[0;32m      2\u001b[0m \u001b[38;5;28mprint\u001b[39m(se)\n",
      "\u001b[1;31mTypeError\u001b[0m: unhashable type: 'set'"
     ]
    }
   ],
   "source": [
    "se = {{12,1},1,2,3,4}\n",
    "print(se)"
   ]
  },
  {
   "cell_type": "code",
   "execution_count": 17,
   "id": "2d4f2243",
   "metadata": {},
   "outputs": [
    {
     "name": "stdout",
     "output_type": "stream",
     "text": [
      "{1, 2, (12, 1), 3, 4, frozenset({5, 6, 23})}\n"
     ]
    }
   ],
   "source": [
    "se = {(12,1),1,2,3,4}\n",
    "fe = frozenset({23,5,6})\n",
    "se.add(fe)\n",
    "print(se)"
   ]
  },
  {
   "cell_type": "code",
   "execution_count": 18,
   "id": "4208d0b9",
   "metadata": {},
   "outputs": [
    {
     "name": "stdout",
     "output_type": "stream",
     "text": [
      "{1, 2, (12, 1), 3, 4, frozenset({5, 6, 23})}\n"
     ]
    }
   ],
   "source": [
    "se = {(12,1),1,2,3,4}\n",
    "fe = frozenset([23,5,6])\n",
    "se.add(fe)\n",
    "print(se)"
   ]
  },
  {
   "cell_type": "code",
   "execution_count": 19,
   "id": "6acbf0d7",
   "metadata": {},
   "outputs": [
    {
     "data": {
      "text/plain": [
       "frozenset"
      ]
     },
     "execution_count": 19,
     "metadata": {},
     "output_type": "execute_result"
    }
   ],
   "source": [
    "type(fe)"
   ]
  },
  {
   "cell_type": "markdown",
   "id": "8df82454",
   "metadata": {},
   "source": [
    "# 2.List\n",
    "### Lists are used to store multiple items in a single variable.\n",
    "\n",
    "### Lists are one of 4 built-in data types in Python used to store collections of data, the other 3 are Tuple, Set, and Dictionary, all with different qualities and usage.\n",
    "\n",
    "### Lists are created using square brackets [  ].\n",
    "### List items are ordered, changeable, and allow duplicate values.\n",
    "\n",
    "### List items are indexed, the first item has index [0], the second item has index [1] etc."
   ]
  },
  {
   "cell_type": "markdown",
   "id": "d593df77",
   "metadata": {},
   "source": [
    "## Ordered\n",
    "### When we say that lists are ordered, it means that the items have a defined order, and that order will not change.\n",
    "\n",
    "### If you add new items to a list, the new items will be placed at the end of the list.\n",
    "\n",
    "### `Note: There are some list methods that will change the order, but in general: the order of the items will not change.`\n",
    "\n",
    "## Changeable\n",
    "### The list is changeable, meaning that we can change, add, and remove items in a list after it has been created."
   ]
  },
  {
   "cell_type": "code",
   "execution_count": 2,
   "id": "91fe5be5",
   "metadata": {},
   "outputs": [
    {
     "name": "stdout",
     "output_type": "stream",
     "text": [
      "\n",
      "List with the use of Numbers: \n",
      "[1, 2, 4, 4, 3, 3, 3, 6, 5]\n",
      "\n",
      "List with the use of Mixed Values: \n",
      "[1, 2, 'Gas', 4, 'For', 6, 'king']\n"
     ]
    }
   ],
   "source": [
    "List = [1, 2, 4, 4, 3, 3, 3, 6, 5]\n",
    "print(\"\\nList with the use of Numbers: \")\n",
    "print(List)\n",
    "List = [1, 2, 'Gas', 4, 'For', 6, 'king']\n",
    "print(\"\\nList with the use of Mixed Values: \")\n",
    "print(List)"
   ]
  },
  {
   "cell_type": "code",
   "execution_count": 3,
   "id": "aa328015",
   "metadata": {},
   "outputs": [
    {
     "name": "stdout",
     "output_type": "stream",
     "text": [
      "['danish', 'shoeb', 'salman']\n"
     ]
    }
   ],
   "source": [
    "list1 = [\"danish\",\"shoeb\",\"salman\"]\n",
    "print(list1)"
   ]
  },
  {
   "cell_type": "code",
   "execution_count": 4,
   "id": "745751ff",
   "metadata": {},
   "outputs": [
    {
     "name": "stdout",
     "output_type": "stream",
     "text": [
      "['s', 's', 'u', 'e']\n"
     ]
    }
   ],
   "source": [
    "l = ['s','s','u','e']\n",
    "print(l)"
   ]
  },
  {
   "cell_type": "code",
   "execution_count": 5,
   "id": "8a66a220",
   "metadata": {},
   "outputs": [
    {
     "name": "stdout",
     "output_type": "stream",
     "text": [
      "[1, 2, 3, 4, 5, 6, 7]\n"
     ]
    }
   ],
   "source": [
    "l1 = [1,2,3,4,5,6,7]\n",
    "print(l1)"
   ]
  },
  {
   "cell_type": "code",
   "execution_count": 6,
   "id": "2c2eb2bb",
   "metadata": {},
   "outputs": [
    {
     "name": "stdout",
     "output_type": "stream",
     "text": [
      "[[12, 3], 34, 4, 5, 3]\n"
     ]
    }
   ],
   "source": [
    "lq = [[12,3],34,4,5,3]\n",
    "print(lq)"
   ]
  },
  {
   "cell_type": "code",
   "execution_count": 7,
   "id": "d4cf74e8",
   "metadata": {},
   "outputs": [
    {
     "name": "stdout",
     "output_type": "stream",
     "text": [
      "[9, 2, 3, (12, 2, 12, 5, 4), 34, 5]\n"
     ]
    }
   ],
   "source": [
    "ls = [9,2,3,(12,2,12,5,4),34,5]\n",
    "print(ls)"
   ]
  },
  {
   "cell_type": "code",
   "execution_count": 12,
   "id": "76e49f7e",
   "metadata": {},
   "outputs": [
    {
     "name": "stdout",
     "output_type": "stream",
     "text": [
      "[9, 2, 3, {2, 5, 4, 12}, 34, 5]\n"
     ]
    }
   ],
   "source": [
    "ls = [9, 2, 3, {12, 2,5, 4, 12}, 34, 5]\n",
    "print(ls)"
   ]
  },
  {
   "cell_type": "code",
   "execution_count": 13,
   "id": "6b99569c",
   "metadata": {},
   "outputs": [
    {
     "name": "stdout",
     "output_type": "stream",
     "text": [
      "3\n"
     ]
    }
   ],
   "source": [
    "tlist = [\"apple\", \"banana\", \"cherry\"]\n",
    "print(len(tlist))"
   ]
  },
  {
   "cell_type": "code",
   "execution_count": 17,
   "id": "d9bd01f9",
   "metadata": {},
   "outputs": [
    {
     "name": "stdout",
     "output_type": "stream",
     "text": [
      "6\n"
     ]
    }
   ],
   "source": [
    "ls = [9, 2, 3,{12, 2,5, 4, 12}, 34, 5]\n",
    "print(len(ls))"
   ]
  },
  {
   "cell_type": "code",
   "execution_count": 23,
   "id": "6ec3ba12",
   "metadata": {},
   "outputs": [
    {
     "name": "stdout",
     "output_type": "stream",
     "text": [
      "['__add__', '__class__', '__class_getitem__', '__contains__', '__delattr__', '__delitem__', '__dir__', '__doc__', '__eq__', '__format__', '__ge__', '__getattribute__', '__getitem__', '__gt__', '__hash__', '__iadd__', '__imul__', '__init__', '__init_subclass__', '__iter__', '__le__', '__len__', '__lt__', '__mul__', '__ne__', '__new__', '__reduce__', '__reduce_ex__', '__repr__', '__reversed__', '__rmul__', '__setattr__', '__setitem__', '__sizeof__', '__str__', '__subclasshook__', 'append', 'clear', 'copy', 'count', 'extend', 'index', 'insert', 'pop', 'remove', 'reverse', 'sort']\n"
     ]
    }
   ],
   "source": [
    "my_list = [1,2,3,4,5]\n",
    "print(list(dir(my_list)))"
   ]
  },
  {
   "cell_type": "code",
   "execution_count": 24,
   "id": "733b8a02",
   "metadata": {},
   "outputs": [
    {
     "name": "stdout",
     "output_type": "stream",
     "text": [
      "<class 'list'>\n"
     ]
    }
   ],
   "source": [
    "mylist = [\"apple\", \"banana\", \"cherry\"]\n",
    "print(type(mylist))"
   ]
  },
  {
   "cell_type": "code",
   "execution_count": 25,
   "id": "00a26054",
   "metadata": {},
   "outputs": [
    {
     "name": "stdout",
     "output_type": "stream",
     "text": [
      "0\n",
      "3\n"
     ]
    }
   ],
   "source": [
    "List1 = []\n",
    "print(len(List1))\n",
    " \n",
    "# Creating a List of numbers\n",
    "List2 = [10, 20, 14]\n",
    "print(len(List2))"
   ]
  },
  {
   "cell_type": "markdown",
   "id": "977c86c2",
   "metadata": {},
   "source": [
    "## Taking Input of a List\n",
    "#### We can take the input of a list of elements as string, integer, float, etc. But the default one is a string."
   ]
  },
  {
   "cell_type": "code",
   "execution_count": 26,
   "id": "526b824c",
   "metadata": {},
   "outputs": [
    {
     "name": "stdout",
     "output_type": "stream",
     "text": [
      "Enter elements (Space-Separated): 2 3 \"ga\" 'w'\n",
      "The list is: ['2', '3', '\"ga\"', \"'w'\"]\n"
     ]
    }
   ],
   "source": [
    "string = input(\"Enter elements (Space-Separated): \")\n",
    "lst = string.split()  # split the strings and store it to a list\n",
    "print('The list is:', lst)   "
   ]
  },
  {
   "cell_type": "markdown",
   "id": "ad7ae6b0",
   "metadata": {},
   "source": [
    "# Accessing elements from the List\n",
    "### In order to access the list items refer to the index number. Use the index operator [ ] to access an item in a list. The index must be an integer. Nested lists are accessed using nested indexing. "
   ]
  },
  {
   "cell_type": "code",
   "execution_count": 27,
   "id": "5663d6d9",
   "metadata": {},
   "outputs": [
    {
     "name": "stdout",
     "output_type": "stream",
     "text": [
      "Accessing a element from the list\n",
      "Geeks\n",
      "Geeks\n"
     ]
    }
   ],
   "source": [
    "# the use of multiple values\n",
    "List = [\"Geeks\", \"For\", \"Geeks\"]\n",
    " \n",
    "# accessing a element from the\n",
    "# list using index number\n",
    "print(\"Accessing a element from the list\")\n",
    "print(List[0])\n",
    "print(List[2])"
   ]
  },
  {
   "cell_type": "code",
   "execution_count": 28,
   "id": "520a9c46",
   "metadata": {},
   "outputs": [
    {
     "name": "stdout",
     "output_type": "stream",
     "text": [
      "Accessing element using negative indexing\n",
      "Geeks\n",
      "For\n"
     ]
    }
   ],
   "source": [
    "List = [1, 2, 'Geeks', 4, 'For', 6, 'Geeks']\n",
    "\n",
    "# accessing an element using\n",
    "# negative indexing\n",
    "print(\"Accessing element using negative indexing\")\n",
    "\n",
    "# print the last element of list\n",
    "print(List[-1])\n",
    "\n",
    "# print the third last element of list\n",
    "print(List[-3])\n"
   ]
  },
  {
   "attachments": {
    "image.png": {
     "image/png": "[encoded data removed]"
    }
   },
   "cell_type": "markdown",
   "id": "9cf3d107",
   "metadata": {},
   "source": [
    "![image.png](attachment:image.png)"
   ]
  },
  {
   "cell_type": "markdown",
   "id": "61f2b425",
   "metadata": {},
   "source": [
    "## UNDERSTANDING SLICING OF LISTS:\n",
    "\n",
    "     pr[0] accesses the first item, 2.\n",
    "     pr[-4] accesses the fourth item from the end, 5.\n",
    "     pr[2:] accesses [5, 7, 11, 13], a list of items from third to last.\n",
    "     pr[:4] accesses [2, 3, 5, 7], a list of items from first to fourth.\n",
    "     pr[2:4] accesses [5, 7], a list of items from third to fifth.\n",
    "     pr[1::2] accesses [3, 7, 13], alternate items, starting from the second item."
   ]
  },
  {
   "cell_type": "markdown",
   "id": "35400a03",
   "metadata": {},
   "source": [
    "### Slice operation is performed on Lists with the use of a colon(:). To print elements from beginning to a range use `[: Index]`, to print elements from end-use `[:-Index]`, to print elements from specific Index till the end use `[Index:]`, to print elements within a range, use `[Start Index: End Index] `and to print the whole List with the use of slicing operation, use `[:]`. Further, to print the whole List in reverse order, use` [::-1]`."
   ]
  },
  {
   "cell_type": "code",
   "execution_count": 29,
   "id": "2b60eb3c",
   "metadata": {},
   "outputs": [
    {
     "name": "stdout",
     "output_type": "stream",
     "text": [
      "[1, 12, 3]\n"
     ]
    }
   ],
   "source": [
    "l1 =[1,12,3,4,12,34,53]\n",
    "print(l1[:3])"
   ]
  },
  {
   "cell_type": "code",
   "execution_count": 30,
   "id": "331b2796",
   "metadata": {},
   "outputs": [
    {
     "name": "stdout",
     "output_type": "stream",
     "text": [
      "[1, 12, 3, 4, 12, 34, 53]\n"
     ]
    }
   ],
   "source": [
    "print(l1[:len(l1)])"
   ]
  },
  {
   "cell_type": "code",
   "execution_count": 32,
   "id": "54c64ddc",
   "metadata": {},
   "outputs": [
    {
     "name": "stdout",
     "output_type": "stream",
     "text": [
      "[1, 12, 3, 4, 12]\n"
     ]
    }
   ],
   "source": [
    "print(l1[:len(l1)-2])"
   ]
  },
  {
   "cell_type": "code",
   "execution_count": 33,
   "id": "3a6c72d4",
   "metadata": {},
   "outputs": [
    {
     "name": "stdout",
     "output_type": "stream",
     "text": [
      "[1, 12, 3, 4, 12, 34]\n"
     ]
    }
   ],
   "source": [
    "print(l1[:-1])"
   ]
  },
  {
   "cell_type": "code",
   "execution_count": 35,
   "id": "43e93d58",
   "metadata": {},
   "outputs": [
    {
     "name": "stdout",
     "output_type": "stream",
     "text": [
      "[]\n"
     ]
    }
   ],
   "source": [
    "print(l1[:-0])"
   ]
  },
  {
   "cell_type": "code",
   "execution_count": 36,
   "id": "3909c947",
   "metadata": {},
   "outputs": [
    {
     "name": "stdout",
     "output_type": "stream",
     "text": [
      "[1, 12, 3, 4]\n"
     ]
    }
   ],
   "source": [
    "print(l1[:-3])"
   ]
  },
  {
   "cell_type": "code",
   "execution_count": 37,
   "id": "bbf41cd9",
   "metadata": {},
   "outputs": [
    {
     "name": "stdout",
     "output_type": "stream",
     "text": [
      "[4, 12, 34, 53]\n"
     ]
    }
   ],
   "source": [
    "print(l1[3:])"
   ]
  },
  {
   "cell_type": "code",
   "execution_count": 38,
   "id": "c0fcab5b",
   "metadata": {},
   "outputs": [
    {
     "name": "stdout",
     "output_type": "stream",
     "text": [
      "[12, 34, 53]\n"
     ]
    }
   ],
   "source": [
    "print(l1[-3:])"
   ]
  },
  {
   "cell_type": "code",
   "execution_count": 39,
   "id": "ca38930f",
   "metadata": {},
   "outputs": [
    {
     "name": "stdout",
     "output_type": "stream",
     "text": [
      "[3, 4]\n"
     ]
    }
   ],
   "source": [
    "print(l1[2:4])"
   ]
  },
  {
   "cell_type": "code",
   "execution_count": 42,
   "id": "6dcce315",
   "metadata": {},
   "outputs": [
    {
     "name": "stdout",
     "output_type": "stream",
     "text": [
      "[3]\n"
     ]
    }
   ],
   "source": [
    "print(l1[2:-4])"
   ]
  },
  {
   "cell_type": "code",
   "execution_count": 43,
   "id": "fe798583",
   "metadata": {},
   "outputs": [
    {
     "name": "stdout",
     "output_type": "stream",
     "text": [
      "[1, 12, 3, 4, 12, 34]\n"
     ]
    }
   ],
   "source": [
    "print(l1[0:-1])"
   ]
  },
  {
   "cell_type": "code",
   "execution_count": 44,
   "id": "b3b8b75e",
   "metadata": {},
   "outputs": [
    {
     "name": "stdout",
     "output_type": "stream",
     "text": [
      "[]\n"
     ]
    }
   ],
   "source": [
    "print(l1[0:0])"
   ]
  },
  {
   "cell_type": "code",
   "execution_count": 46,
   "id": "d9e2ecba",
   "metadata": {},
   "outputs": [
    {
     "name": "stdout",
     "output_type": "stream",
     "text": [
      "[1, 12, 3, 4, 12]\n"
     ]
    }
   ],
   "source": [
    "print(l1[0:-2])"
   ]
  },
  {
   "cell_type": "code",
   "execution_count": 47,
   "id": "c5856a4c",
   "metadata": {},
   "outputs": [],
   "source": [
    "l1 =[1,12,3,4,12,34,53]"
   ]
  },
  {
   "cell_type": "code",
   "execution_count": 48,
   "id": "41b01117",
   "metadata": {},
   "outputs": [
    {
     "name": "stdout",
     "output_type": "stream",
     "text": [
      "[1, 12, 3, 4, 12, 34, 53]\n"
     ]
    }
   ],
   "source": [
    "print(l1[:])"
   ]
  },
  {
   "cell_type": "code",
   "execution_count": 49,
   "id": "69ea3a78",
   "metadata": {},
   "outputs": [
    {
     "name": "stdout",
     "output_type": "stream",
     "text": [
      "[53, 34, 12, 4, 3, 12, 1]\n"
     ]
    }
   ],
   "source": [
    "print(l1[::-1])"
   ]
  },
  {
   "cell_type": "code",
   "execution_count": 50,
   "id": "f155bebc",
   "metadata": {},
   "outputs": [
    {
     "name": "stdout",
     "output_type": "stream",
     "text": [
      "[53, 3]\n"
     ]
    }
   ],
   "source": [
    "print(l1[::-4])"
   ]
  },
  {
   "cell_type": "code",
   "execution_count": 51,
   "id": "e135763d",
   "metadata": {},
   "outputs": [
    {
     "name": "stdout",
     "output_type": "stream",
     "text": [
      "[1, 12]\n"
     ]
    }
   ],
   "source": [
    "print(l1[0::4])"
   ]
  },
  {
   "cell_type": "code",
   "execution_count": 52,
   "id": "7b0f36b3",
   "metadata": {},
   "outputs": [
    {
     "name": "stdout",
     "output_type": "stream",
     "text": [
      "1\n"
     ]
    }
   ],
   "source": [
    "print(l1[0])"
   ]
  },
  {
   "cell_type": "code",
   "execution_count": 53,
   "id": "402d0850",
   "metadata": {},
   "outputs": [
    {
     "name": "stdout",
     "output_type": "stream",
     "text": [
      "1\n"
     ]
    }
   ],
   "source": [
    "print(l1[-7])"
   ]
  },
  {
   "cell_type": "code",
   "execution_count": 54,
   "id": "ebd6d207",
   "metadata": {},
   "outputs": [
    {
     "name": "stdout",
     "output_type": "stream",
     "text": [
      "53\n"
     ]
    }
   ],
   "source": [
    "print(l1[-1])"
   ]
  },
  {
   "cell_type": "code",
   "execution_count": 55,
   "id": "00ef074c",
   "metadata": {},
   "outputs": [
    {
     "name": "stdout",
     "output_type": "stream",
     "text": [
      "34\n"
     ]
    }
   ],
   "source": [
    "print(l1[-2])"
   ]
  },
  {
   "cell_type": "markdown",
   "id": "078692ee",
   "metadata": {},
   "source": [
    "## Change Item Value\n",
    "### To change the value of a specific item, refer to the index number:"
   ]
  },
  {
   "cell_type": "code",
   "execution_count": 56,
   "id": "fa6103a0",
   "metadata": {},
   "outputs": [
    {
     "name": "stdout",
     "output_type": "stream",
     "text": [
      "['apple', 'blackcurrant', 'cherry']\n"
     ]
    }
   ],
   "source": [
    "thislist = [\"apple\", \"banana\", \"cherry\"]\n",
    "thislist[1] = \"blackcurrant\"\n",
    "print(thislist)"
   ]
  },
  {
   "cell_type": "code",
   "execution_count": 58,
   "id": "75f2d8c6",
   "metadata": {},
   "outputs": [],
   "source": [
    "le = [12,2, 3,45,6]"
   ]
  },
  {
   "cell_type": "code",
   "execution_count": 61,
   "id": "b6690606",
   "metadata": {},
   "outputs": [
    {
     "name": "stdout",
     "output_type": "stream",
     "text": [
      "[12, 2, 3, 2, 6]\n",
      "5\n"
     ]
    }
   ],
   "source": [
    "le[3] = 2\n",
    "print(le)\n",
    "print(len(le))"
   ]
  },
  {
   "cell_type": "markdown",
   "id": "b676e8a1",
   "metadata": {},
   "source": [
    "`Note: `**The length of the list will change when the number of items inserted does not match the number of items replaced.**"
   ]
  },
  {
   "cell_type": "code",
   "execution_count": 65,
   "id": "390157f4",
   "metadata": {},
   "outputs": [
    {
     "name": "stdout",
     "output_type": "stream",
     "text": [
      "3\n",
      "['apple', 'watermelon']\n",
      "2\n"
     ]
    }
   ],
   "source": [
    "thislist = [\"apple\", \"banana\", \"cherry\"]\n",
    "print(len(thislist))\n",
    "thislist[1:3] = [\"watermelon\"]\n",
    "print(thislist)\n",
    "print(len(thislist))"
   ]
  },
  {
   "cell_type": "markdown",
   "id": "dae386da",
   "metadata": {},
   "source": [
    "## We can add one item to a list using the `append()` method or add several items using the `extend()` method."
   ]
  },
  {
   "cell_type": "code",
   "execution_count": 1,
   "id": "48849b7a",
   "metadata": {},
   "outputs": [
    {
     "name": "stdout",
     "output_type": "stream",
     "text": [
      "[1, 3, 5, 7]\n",
      "[1, 3, 5, 7, 9, 11, 13]\n"
     ]
    }
   ],
   "source": [
    "# Appending and Extending lists in Python\n",
    "odd = [1, 3, 5]\n",
    "\n",
    "odd.append(7)\n",
    "\n",
    "print(odd)\n",
    "\n",
    "odd.extend([9, 11, 13])\n",
    "\n",
    "print(odd)"
   ]
  },
  {
   "cell_type": "code",
   "execution_count": 4,
   "id": "a4401526",
   "metadata": {},
   "outputs": [
    {
     "name": "stdout",
     "output_type": "stream",
     "text": [
      "['apple', 'banana', 'cherry', 'kiwi', 'orange']\n"
     ]
    }
   ],
   "source": [
    "t1 = [\"apple\", \"banana\", \"cherry\"]\n",
    "t2 = (\"kiwi\", \"orange\")\n",
    "t1.extend(t2)\n",
    "print(t1)"
   ]
  },
  {
   "cell_type": "code",
   "execution_count": 5,
   "id": "56839ccc",
   "metadata": {},
   "outputs": [
    {
     "name": "stdout",
     "output_type": "stream",
     "text": [
      "[1, 2, 3, 4, 5, 6, 7, 8, 9]\n"
     ]
    }
   ],
   "source": [
    "L1 = [1,2,3,4,5]\n",
    "L2 =[6,7,8,9]\n",
    "W =L1.extend(L2)\n",
    "print(L1)"
   ]
  },
  {
   "cell_type": "code",
   "execution_count": 9,
   "id": "10bcfdbf",
   "metadata": {},
   "outputs": [
    {
     "name": "stdout",
     "output_type": "stream",
     "text": [
      "None\n"
     ]
    }
   ],
   "source": [
    "D = L2.extend(L1)\n",
    "print(D)"
   ]
  },
  {
   "cell_type": "code",
   "execution_count": 10,
   "id": "5018f196",
   "metadata": {},
   "outputs": [
    {
     "name": "stdout",
     "output_type": "stream",
     "text": [
      "[6, 7, 8, 9, 1, 2, 3, 4, 5, 6, 7, 8, 9, 1, 2, 3, 4, 5, 6, 7, 8, 9, 1, 2, 3, 4, 5, 6, 7, 8, 9, 1, 2, 3, 4, 5, 6, 7, 8, 9, 1, 2, 3, 4, 5, 6, 7, 8, 9]\n"
     ]
    }
   ],
   "source": [
    "L2.extend(L1)\n",
    "print(L2)"
   ]
  },
  {
   "cell_type": "code",
   "execution_count": 12,
   "id": "f26d63df",
   "metadata": {},
   "outputs": [
    {
     "name": "stdout",
     "output_type": "stream",
     "text": [
      "[6, 7, 8, 9, 1, 2, 3, 4, 5, 6, 7, 8, 9, 1, 2, 3, 4, 5, 6, 7, 8, 9, 1, 2, 3, 4, 5, 6, 7, 8, 9, 1, 2, 3, 4, 5, 6, 7, 8, 9, 1, 2, 3, 4, 5, 6, 7, 8, 9, 1, 2, 3, 4, 5, 6, 7, 8, 9, 1, 2, 3, 4, 5, 6, 7, 8, 9]\n"
     ]
    }
   ],
   "source": [
    "L2.extend(L1)\n",
    "print(L2)"
   ]
  },
  {
   "cell_type": "markdown",
   "id": "1863217b",
   "metadata": {},
   "source": [
    "### We can also use + operator to combine two lists. This is also called concatenation.\n",
    "\n",
    "### The * operator repeats a list for the given number of times.\n",
    "\n",
    "\n"
   ]
  },
  {
   "cell_type": "code",
   "execution_count": 13,
   "id": "9dff1e83",
   "metadata": {},
   "outputs": [
    {
     "name": "stdout",
     "output_type": "stream",
     "text": [
      "[1, 3, 5, 9, 7, 5]\n",
      "['re', 're', 're']\n"
     ]
    }
   ],
   "source": [
    "\n",
    "# Concatenating and repeating lists\n",
    "odd = [1, 3, 5]\n",
    "\n",
    "print(odd + [9, 7, 5])\n",
    "\n",
    "print([\"re\"] * 3)"
   ]
  },
  {
   "cell_type": "markdown",
   "id": "88693c96",
   "metadata": {},
   "source": [
    "## Insert Items\n",
    "### To insert a list item at a specified index, use the insert() method.\n",
    "\n",
    "### The insert() method inserts an item at the specified index:"
   ]
  },
  {
   "cell_type": "code",
   "execution_count": 15,
   "id": "5eae0fa5",
   "metadata": {},
   "outputs": [
    {
     "name": "stdout",
     "output_type": "stream",
     "text": [
      "[1, 3, 9]\n",
      "[1, 3, 5, 7, 9]\n"
     ]
    }
   ],
   "source": [
    "# Demonstration of list insert() method\n",
    "odd = [1, 9]\n",
    "odd.insert(1,3)\n",
    "\n",
    "print(odd)\n",
    "\n",
    "odd[2:2] = [5, 7]\n",
    "\n",
    "print(odd)"
   ]
  },
  {
   "cell_type": "code",
   "execution_count": 16,
   "id": "689b5628",
   "metadata": {},
   "outputs": [
    {
     "name": "stdout",
     "output_type": "stream",
     "text": [
      "['apple', 'orange', 'banana', 'cherry']\n"
     ]
    }
   ],
   "source": [
    "thislist = [\"apple\", \"banana\", \"cherry\"]\n",
    "thislist.insert(1, \"orange\")\n",
    "print(thislist)"
   ]
  },
  {
   "cell_type": "markdown",
   "id": "f0419c75",
   "metadata": {},
   "source": [
    "## Remove Specified Item\n",
    "### The ` remove() `method removes the specified item."
   ]
  },
  {
   "cell_type": "code",
   "execution_count": 17,
   "id": "be396f65",
   "metadata": {},
   "outputs": [
    {
     "name": "stdout",
     "output_type": "stream",
     "text": [
      "['apple', 'cherry']\n"
     ]
    }
   ],
   "source": [
    "thislist = [\"apple\", \"banana\", \"cherry\"]\n",
    "thislist.remove(\"banana\")\n",
    "print(thislist)"
   ]
  },
  {
   "cell_type": "code",
   "execution_count": 23,
   "id": "ff230509",
   "metadata": {},
   "outputs": [
    {
     "name": "stdout",
     "output_type": "stream",
     "text": [
      "5\n",
      "[12, 2, 2, 6]\n",
      "4\n"
     ]
    }
   ],
   "source": [
    "k = [12, 2, 3, 2, 6]\n",
    "print(len(k))\n",
    "k.remove(3)\n",
    "print(k)\n",
    "print(len(k))"
   ]
  },
  {
   "cell_type": "markdown",
   "id": "41c41c8d",
   "metadata": {},
   "source": [
    "## Remove Specified Index\n",
    "### The pop() method removes the specified index."
   ]
  },
  {
   "cell_type": "code",
   "execution_count": 24,
   "id": "03b4601b",
   "metadata": {},
   "outputs": [
    {
     "name": "stdout",
     "output_type": "stream",
     "text": [
      "m\n"
     ]
    }
   ],
   "source": [
    "my_list = ['p','r','o','b','l','e','m']\n",
    "print(my_list.pop())"
   ]
  },
  {
   "cell_type": "code",
   "execution_count": 25,
   "id": "097457aa",
   "metadata": {},
   "outputs": [
    {
     "name": "stdout",
     "output_type": "stream",
     "text": [
      "['p', 'r', 'o', 'b', 'l', 'e']\n"
     ]
    }
   ],
   "source": [
    "print(my_list)"
   ]
  },
  {
   "cell_type": "code",
   "execution_count": 26,
   "id": "2c389d9f",
   "metadata": {},
   "outputs": [
    {
     "name": "stdout",
     "output_type": "stream",
     "text": [
      "['apple', 'cherry']\n"
     ]
    }
   ],
   "source": [
    "thislist = [\"apple\", \"banana\", \"cherry\"]\n",
    "thislist.pop(1)\n",
    "print(thislist)"
   ]
  },
  {
   "cell_type": "code",
   "execution_count": 28,
   "id": "c2087856",
   "metadata": {},
   "outputs": [
    {
     "name": "stdout",
     "output_type": "stream",
     "text": [
      "l\n",
      "['p', 'r', 'o', 'b', 'e', 'm']\n"
     ]
    }
   ],
   "source": [
    "my_list = ['p','r','o','b','l','e','m']\n",
    "print(my_list.pop(4))\n",
    "print(my_list)"
   ]
  },
  {
   "cell_type": "markdown",
   "id": "44ff3eee",
   "metadata": {},
   "source": [
    "### The del keyword also removes the specified index.We can delete one or more items from a list using the Python `del `statement. It can even delete the list entirely."
   ]
  },
  {
   "cell_type": "code",
   "execution_count": 30,
   "id": "eb7ed130",
   "metadata": {},
   "outputs": [
    {
     "name": "stdout",
     "output_type": "stream",
     "text": [
      "['p', 'r', 'b', 'l', 'e', 'm']\n",
      "['p', 'm']\n"
     ]
    }
   ],
   "source": [
    "# Deleting list items\n",
    "my_list = ['p', 'r', 'o', 'b', 'l', 'e', 'm']\n",
    "\n",
    "# delete one item\n",
    "del my_list[2]\n",
    "\n",
    "print(my_list)\n",
    "\n",
    "# delete multiple items\n",
    "del my_list[1:5]\n",
    "\n",
    "print(my_list)\n",
    "\n",
    "# delete the entire list\n",
    "del my_list\n",
    "\n",
    "# Error: List not defined\n",
    "print(my_list)"
   ]
  },
  {
   "cell_type": "code",
   "execution_count": 31,
   "id": "3d67467d",
   "metadata": {},
   "outputs": [
    {
     "ename": "NameError",
     "evalue": "name 'my_list' is not defined",
     "output_type": "error",
     "traceback": [
      "\u001b[1;31m---------------------------------------------------------------------------\u001b[0m",
      "\u001b[1;31mNameError\u001b[0m                                 Traceback (most recent call last)",
      "Input \u001b[1;32mIn [31]\u001b[0m, in \u001b[0;36m<cell line: 2>\u001b[1;34m()\u001b[0m\n\u001b[0;32m      1\u001b[0m \u001b[38;5;66;03m# Error: List not defined\u001b[39;00m\n\u001b[1;32m----> 2\u001b[0m \u001b[38;5;28mprint\u001b[39m(\u001b[43mmy_list\u001b[49m)\n",
      "\u001b[1;31mNameError\u001b[0m: name 'my_list' is not defined"
     ]
    }
   ],
   "source": [
    "# Error: List not defined\n",
    "print(my_list)"
   ]
  },
  {
   "cell_type": "code",
   "execution_count": 32,
   "id": "f89da7bb",
   "metadata": {},
   "outputs": [
    {
     "name": "stdout",
     "output_type": "stream",
     "text": [
      "['banana', 'cherry']\n"
     ]
    }
   ],
   "source": [
    "thislist = [\"apple\", \"banana\", \"cherry\"]\n",
    "del thislist[0]\n",
    "print(thislist)"
   ]
  },
  {
   "cell_type": "markdown",
   "id": "3afb5226",
   "metadata": {},
   "source": [
    "## Clear the List\n",
    "### The clear() method empties the list.\n",
    "\n",
    "### The list still remains, but it has no content"
   ]
  },
  {
   "cell_type": "code",
   "execution_count": 33,
   "id": "477727ac",
   "metadata": {},
   "outputs": [
    {
     "name": "stdout",
     "output_type": "stream",
     "text": [
      "[]\n"
     ]
    }
   ],
   "source": [
    "thislist = [\"apple\", \"banana\", \"cherry\"]\n",
    "thislist.clear()\n",
    "print(thislist)"
   ]
  },
  {
   "cell_type": "code",
   "execution_count": 34,
   "id": "958ec8ea",
   "metadata": {},
   "outputs": [
    {
     "name": "stdout",
     "output_type": "stream",
     "text": [
      "List: []\n"
     ]
    }
   ],
   "source": [
    "# Defining a list\n",
    "list = [{1, 2}, ('a'), ['1.1', '2.2']]\n",
    "\n",
    "# clearing the list\n",
    "list.clear()\n",
    "\n",
    "\n",
    "print('List:', list)"
   ]
  },
  {
   "cell_type": "code",
   "execution_count": 35,
   "id": "075e3c44",
   "metadata": {},
   "outputs": [
    {
     "name": "stdout",
     "output_type": "stream",
     "text": [
      "List: []\n"
     ]
    }
   ],
   "source": [
    "#Example 2: Emptying the List Using del\n",
    "# Defining a list\n",
    "list = [{1, 2}, ('a'), ['1.1', '2.2']]\n",
    "\n",
    "# clearing the list\n",
    "del list[:]\n",
    "\n",
    "\n",
    "print('List:', list)"
   ]
  },
  {
   "cell_type": "markdown",
   "id": "870cace7",
   "metadata": {},
   "source": [
    "# Sort List \n",
    "## Sort List Alphanumerically\n",
    "### List objects have a sort() method that will sort the list alphanumerically, ascending, by default:\n",
    "\n"
   ]
  },
  {
   "cell_type": "code",
   "execution_count": 37,
   "id": "681a4dbe",
   "metadata": {},
   "outputs": [
    {
     "name": "stdout",
     "output_type": "stream",
     "text": [
      "['banana', 'kiwi', 'mango', 'orange', 'pineapple']\n"
     ]
    }
   ],
   "source": [
    "thislist = [\"orange\", \"mango\", \"kiwi\", \"pineapple\", \"banana\"]  # sort according to sequence of A-Z \n",
    "thislist.sort()\n",
    "print(thislist)\n"
   ]
  },
  {
   "cell_type": "markdown",
   "id": "7a8851df",
   "metadata": {},
   "source": [
    "### Case Insensitive Sort\n",
    "#### By default the sort() method is case sensitive, resulting in all capital letters being sorted before lower case letters:"
   ]
  },
  {
   "cell_type": "code",
   "execution_count": 46,
   "id": "f03eeeb1",
   "metadata": {},
   "outputs": [
    {
     "name": "stdout",
     "output_type": "stream",
     "text": [
      "['Kiwi', 'Orange', 'banana', 'cherry']\n"
     ]
    }
   ],
   "source": [
    "thislist = [\"banana\", \"Orange\", \"Kiwi\", \"cherry\"]\n",
    "thislist.sort()\n",
    "print(thislist)\n"
   ]
  },
  {
   "cell_type": "code",
   "execution_count": 47,
   "id": "baa1bafa",
   "metadata": {},
   "outputs": [
    {
     "name": "stdout",
     "output_type": "stream",
     "text": [
      "['A', 'D', 'W', 'a', 'q', 's', 'w', 'x']\n"
     ]
    }
   ],
   "source": [
    "l =['D','A','W','a','q','w','s','x']\n",
    "l.sort()\n",
    "print(l)"
   ]
  },
  {
   "cell_type": "code",
   "execution_count": 41,
   "id": "108f7664",
   "metadata": {},
   "outputs": [
    {
     "name": "stdout",
     "output_type": "stream",
     "text": [
      "None\n"
     ]
    }
   ],
   "source": [
    "l =['a','q','w','s','x']\n",
    "l1 = l.sort()\n",
    "print(l1)"
   ]
  },
  {
   "cell_type": "code",
   "execution_count": 42,
   "id": "44791d89",
   "metadata": {},
   "outputs": [
    {
     "name": "stdout",
     "output_type": "stream",
     "text": [
      "['a', 'q', 's', 'w', 'x']\n"
     ]
    }
   ],
   "source": [
    "l =['a','q','w','s','x']\n",
    "l.sort()\n",
    "print(l)"
   ]
  },
  {
   "cell_type": "code",
   "execution_count": 43,
   "id": "6badf58c",
   "metadata": {},
   "outputs": [
    {
     "name": "stdout",
     "output_type": "stream",
     "text": [
      "['a', 'd', 'e', 'h', 'i', 'i', 'n', 'o', 'p', 'q', 'r', 's', 't', 'u', 'w', 'y']\n"
     ]
    }
   ],
   "source": [
    "l =['q','w','e','r','t','y','u','i','o','p','d','a','n','i','s','h']\n",
    "l.sort()\n",
    "print(l)"
   ]
  },
  {
   "cell_type": "code",
   "execution_count": 44,
   "id": "7dcfae38",
   "metadata": {},
   "outputs": [
    {
     "name": "stdout",
     "output_type": "stream",
     "text": [
      "['a', 'a', 'q', 's', 'w', 'w', 'x']\n"
     ]
    }
   ],
   "source": [
    "l =['a','q','w','w','s','x','a']\n",
    "l.sort()\n",
    "print(l)"
   ]
  },
  {
   "cell_type": "code",
   "execution_count": 45,
   "id": "1b59ff13",
   "metadata": {},
   "outputs": [
    {
     "name": "stdout",
     "output_type": "stream",
     "text": [
      "[0, 1, 3, 4, 4, 7, 8, 12, 24, 43, 56, 78, 92, 534, 567]\n"
     ]
    }
   ],
   "source": [
    "num =[12,3,4,534,56,7,4,8,43,567,78,92,0,24,1]\n",
    "num.sort()\n",
    "print(num)"
   ]
  },
  {
   "cell_type": "markdown",
   "id": "54c623d4",
   "metadata": {},
   "source": [
    "# Copy a List\n",
    "### You cannot copy a list simply by typing list2 = list1, because: list2 will only be a reference to list1, and changes made in list1 will automatically also be made in list2.\n",
    "\n",
    "### There are ways to make a copy, one way is to use the built-in List method copy()."
   ]
  },
  {
   "cell_type": "code",
   "execution_count": 48,
   "id": "a6c8ce70",
   "metadata": {},
   "outputs": [
    {
     "name": "stdout",
     "output_type": "stream",
     "text": [
      "['apple', 'banana', 'cherry']\n"
     ]
    }
   ],
   "source": [
    "thislist = [\"apple\", \"banana\", \"cherry\"]\n",
    "mylist = thislist.copy()\n",
    "print(mylist)"
   ]
  },
  {
   "cell_type": "markdown",
   "id": "ccd98414",
   "metadata": {},
   "source": [
    "## Join Two Lists\n",
    "### There are several ways to join, or concatenate, two or more lists in Python.\n",
    "\n",
    "### One of the easiest ways are by using the + operator."
   ]
  },
  {
   "cell_type": "code",
   "execution_count": 50,
   "id": "f0466b07",
   "metadata": {},
   "outputs": [
    {
     "name": "stdout",
     "output_type": "stream",
     "text": [
      "['a', 'b', 'c', 1, 2, 3]\n"
     ]
    }
   ],
   "source": [
    "list1 = [\"a\", \"b\", \"c\"]\n",
    "list2 = [1, 2, 3]\n",
    "\n",
    "list3 = list1 + list2\n",
    "print(list3)"
   ]
  },
  {
   "cell_type": "code",
   "execution_count": 51,
   "id": "b8b80191",
   "metadata": {},
   "outputs": [
    {
     "name": "stdout",
     "output_type": "stream",
     "text": [
      "['a', 'b', 'c', 1, 2, 3]\n"
     ]
    }
   ],
   "source": [
    "list1 = [\"a\", \"b\" , \"c\"]\n",
    "list2 = [1, 2, 3]\n",
    "\n",
    "for x in list2:\n",
    "  list1.append(x)\n",
    "\n",
    "print(list1)"
   ]
  },
  {
   "cell_type": "code",
   "execution_count": 52,
   "id": "647473d9",
   "metadata": {},
   "outputs": [
    {
     "name": "stdout",
     "output_type": "stream",
     "text": [
      "True\n",
      "False\n",
      "True\n"
     ]
    }
   ],
   "source": [
    "my_list = ['p', 'r', 'o', 'b', 'l', 'e', 'm']\n",
    "\n",
    "# Output: True\n",
    "print('p' in my_list)\n",
    "\n",
    "# Output: False\n",
    "print('a' in my_list)\n",
    "\n",
    "# Output: True\n",
    "print('c' not in my_list)"
   ]
  },
  {
   "cell_type": "code",
   "execution_count": 53,
   "id": "5c018359",
   "metadata": {},
   "outputs": [
    {
     "name": "stdout",
     "output_type": "stream",
     "text": [
      "I like apple\n",
      "I like banana\n",
      "I like mango\n"
     ]
    }
   ],
   "source": [
    "# Iterating Through a List\n",
    "#Using a for loop we can iterate through each item in a list.\n",
    "\n",
    "for fruit in ['apple','banana','mango']:\n",
    "    print(\"I like\",fruit)"
   ]
  },
  {
   "cell_type": "markdown",
   "id": "cd7b2a24",
   "metadata": {},
   "source": [
    "## Python List Methods\n",
    "#### Python has many useful list methods that makes it really easy to work with lists. Here are some of the commonly used list methods.\n",
    "\n",
    "### Methods\tDescriptions\n",
    "|append()   | adds an element to the end of the list               |   \n",
    "------------|------------------------------------------------------|\n",
    "extend()    | adds all elements of a list to another list|\n",
    "insert()    | inserts an item at the defined index|\n",
    "remove()    | removes an item from the list                     |\n",
    "pop()       | returns and removes an element at the given index|\n",
    "clear()     | removes all items from the list|\n",
    "index()     | returns the index of the first matched item|\n",
    "count()     | returns the count of the number of items passed as an argument|\n",
    "sort()      | sort items in a list in ascending order|\n",
    "reverse()   | reverse the order of items in the list|\n",
    "copy()      | returns a shallow copy of the list|"
   ]
  },
  {
   "cell_type": "markdown",
   "id": "0e1b0008",
   "metadata": {},
   "source": [
    "[Python List Methods](https://www.programiz.com/python-programming/methods/list)"
   ]
  },
  {
   "cell_type": "code",
   "execution_count": null,
   "id": "8b7240a4",
   "metadata": {},
   "outputs": [],
   "source": []
  }
 ],
 "metadata": {
  "kernelspec": {
   "display_name": "Python 3 (ipykernel)",
   "language": "python",
   "name": "python3"
  },
  "language_info": {
   "codemirror_mode": {
    "name": "ipython",
    "version": 3
   },
   "file_extension": ".py",
   "mimetype": "text/x-python",
   "name": "python",
   "nbconvert_exporter": "python",
   "pygments_lexer": "ipython3",
   "version": "3.9.12"
  }
 },
 "nbformat": 4,
 "nbformat_minor": 5
}
