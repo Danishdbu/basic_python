{
 "cells": [
  {
   "cell_type": "code",
   "execution_count": 1,
   "id": "ea60f75d",
   "metadata": {
    "scrolled": true
   },
   "outputs": [
    {
     "name": "stdout",
     "output_type": "stream",
     "text": [
      "Requirement already satisfied: requests in c:\\users\\desktop\\anaconda3\\lib\\site-packages (2.27.1)\n",
      "Requirement already satisfied: certifi>=2017.4.17 in c:\\users\\desktop\\anaconda3\\lib\\site-packages (from requests) (2021.10.8)\n",
      "Requirement already satisfied: idna<4,>=2.5 in c:\\users\\desktop\\anaconda3\\lib\\site-packages (from requests) (3.3)\n",
      "Requirement already satisfied: charset-normalizer~=2.0.0 in c:\\users\\desktop\\anaconda3\\lib\\site-packages (from requests) (2.0.4)\n",
      "Requirement already satisfied: urllib3<1.27,>=1.21.1 in c:\\users\\desktop\\anaconda3\\lib\\site-packages (from requests) (1.26.9)\n",
      "Note: you may need to restart the kernel to use updated packages.\n"
     ]
    }
   ],
   "source": [
    "pip install requests"
   ]
  },
  {
   "cell_type": "code",
   "execution_count": 2,
   "id": "ad9e6eba",
   "metadata": {},
   "outputs": [
    {
     "name": "stdout",
     "output_type": "stream",
     "text": [
      "Requirement already satisfied: colorama in c:\\users\\desktop\\anaconda3\\lib\\site-packages (0.4.4)\n",
      "Note: you may need to restart the kernel to use updated packages.\n"
     ]
    }
   ],
   "source": [
    "pip install colorama"
   ]
  },
  {
   "cell_type": "code",
   "execution_count": 3,
   "id": "a1510e25",
   "metadata": {},
   "outputs": [],
   "source": [
    "from colorama import init"
   ]
  },
  {
   "cell_type": "code",
   "execution_count": 4,
   "id": "12467864",
   "metadata": {},
   "outputs": [],
   "source": [
    "init()"
   ]
  },
  {
   "cell_type": "code",
   "execution_count": 5,
   "id": "9fe53712",
   "metadata": {},
   "outputs": [],
   "source": [
    "from colorama import Fore"
   ]
  },
  {
   "cell_type": "code",
   "execution_count": 6,
   "id": "dce32669",
   "metadata": {},
   "outputs": [
    {
     "name": "stdout",
     "output_type": "stream",
     "text": [
      "danish\n"
     ]
    }
   ],
   "source": [
    "print(Fore.RED+\"danish\")"
   ]
  },
  {
   "cell_type": "code",
   "execution_count": 7,
   "id": "b595858b",
   "metadata": {},
   "outputs": [
    {
     "name": "stdout",
     "output_type": "stream",
     "text": [
      "some red text\n",
      "and with a green background\n",
      "and in dim text\n",
      "\n",
      "back to normal now\n"
     ]
    }
   ],
   "source": [
    "from colorama import Fore, Back, Style\n",
    "print(Fore.RED + 'some red text')\n",
    "print(Back.GREEN + 'and with a green background')\n",
    "print(Style.DIM + 'and in dim text')\n",
    "print(Style.RESET_ALL)\n",
    "print('back to normal now')"
   ]
  },
  {
   "cell_type": "markdown",
   "id": "2cc08af3",
   "metadata": {},
   "source": [
    "# Modules\n",
    "### If you quit from the Python interpreter and enter it again, the definitions you have made (functions and variables) are lost. Therefore, if you want to write a somewhat longer program, you are better off using a text editor to prepare the input for the interpreter and running it with that file as input instead. This is known as creating a script. As your program gets longer, you may want to split it into several files for easier maintenance. You may also want to use a handy function that you’ve written in several programs without copying its definition into each program.\n",
    "\n",
    "### To support this, Python has a way to put definitions in a file and use them in a script or in an interactive instance of the interpreter. Such a file is called a module; definitions from a module can be imported into other modules or into the main module (the collection of variables that you have access to in a script executed at the top level and in calculator mode).\n",
    "\n",
    "### A module is a file containing Python definitions and statements. The file name is the module name with the suffix .py appended. Within a module, the module’s name (as a string) is available as the value of the global variable __name__. For instance, use your favorite text editor to create a file called fibo.py in the current directory with the following contents:"
   ]
  },
  {
   "cell_type": "code",
   "execution_count": 8,
   "id": "9731f12f",
   "metadata": {},
   "outputs": [],
   "source": [
    "def fib(n):    # write Fibonacci series up to n\n",
    "    a, b = 0, 1\n",
    "    while a < n:\n",
    "        print(a, end=' ')\n",
    "        a, b = b, a+b\n",
    "    print()\n",
    "\n",
    "def fib2(n):   # return Fibonacci series up to n\n",
    "    result = []\n",
    "    a, b = 0, 1\n",
    "    while a < n:\n",
    "        result.append(a)\n",
    "        a, b = b, a+b\n",
    "    return result"
   ]
  },
  {
   "cell_type": "code",
   "execution_count": 9,
   "id": "f4edd891",
   "metadata": {},
   "outputs": [],
   "source": [
    "#so we created a module"
   ]
  },
  {
   "cell_type": "code",
   "execution_count": 10,
   "id": "d323f0cf",
   "metadata": {},
   "outputs": [],
   "source": [
    "import x1"
   ]
  },
  {
   "cell_type": "code",
   "execution_count": 11,
   "id": "5e307332",
   "metadata": {},
   "outputs": [
    {
     "name": "stdout",
     "output_type": "stream",
     "text": [
      "0 1 1 2 3 5 8 13 21 \n"
     ]
    }
   ],
   "source": [
    "x1.fib(25)\n"
   ]
  },
  {
   "cell_type": "code",
   "execution_count": 12,
   "id": "63aef63b",
   "metadata": {},
   "outputs": [
    {
     "data": {
      "text/plain": [
       "[0, 1, 1, 2, 3, 5, 8, 13, 21]"
      ]
     },
     "execution_count": 12,
     "metadata": {},
     "output_type": "execute_result"
    }
   ],
   "source": [
    "x1.fib2(25)"
   ]
  },
  {
   "cell_type": "code",
   "execution_count": 13,
   "id": "e828f4d1",
   "metadata": {},
   "outputs": [],
   "source": [
    "import even"
   ]
  },
  {
   "cell_type": "code",
   "execution_count": 14,
   "id": "96b10cec",
   "metadata": {},
   "outputs": [
    {
     "data": {
      "text/plain": [
       "'odd'"
      ]
     },
     "execution_count": 14,
     "metadata": {},
     "output_type": "execute_result"
    }
   ],
   "source": [
    "even.is_even(7889)"
   ]
  },
  {
   "cell_type": "markdown",
   "id": "580f5216",
   "metadata": {},
   "source": [
    "# More on Modules\n",
    "### A module can contain executable statements as well as function definitions. These statements are intended to initialize the module. They are executed only the first time the module name is encountered in an import statement. 1 (They are also run if the file is executed as a script.)\n",
    "\n",
    "### Each module has its own private namespace, which is used as the global namespace by all functions defined in the module. Thus, the author of a module can use global variables in the module without worrying about accidental clashes with a user’s global variables. On the other hand, if you know what you are doing you can touch a module’s global variables with the same notation used to refer to its functions, modname.itemname.\n",
    "\n",
    "### Modules can import other modules. It is customary but not required to place all import statements at the beginning of a module (or script, for that matter). The imported module names, if placed at the top level of a module (outside any functions or classes), are added to the module’s global namespace.\n",
    "\n",
    "### There is a variant of the import statement that imports names from a module directly into the importing module’s namespace. For example:"
   ]
  },
  {
   "cell_type": "code",
   "execution_count": 15,
   "id": "5d49be97",
   "metadata": {},
   "outputs": [],
   "source": [
    "    from x1 import fib, fib2"
   ]
  },
  {
   "cell_type": "code",
   "execution_count": 16,
   "id": "8ebc348e",
   "metadata": {},
   "outputs": [
    {
     "name": "stdout",
     "output_type": "stream",
     "text": [
      "0 1 1 2 3 5 8 13 21 \n"
     ]
    },
    {
     "data": {
      "text/plain": [
       "[0, 1, 1, 2, 3, 5, 8, 13, 21, 34, 55, 89]"
      ]
     },
     "execution_count": 16,
     "metadata": {},
     "output_type": "execute_result"
    }
   ],
   "source": [
    "x1.fib(23)\n",
    "x1.fib2(100)"
   ]
  },
  {
   "cell_type": "code",
   "execution_count": 17,
   "id": "c75adc13",
   "metadata": {},
   "outputs": [
    {
     "data": {
      "text/plain": [
       "['__builtins__',\n",
       " '__cached__',\n",
       " '__doc__',\n",
       " '__file__',\n",
       " '__loader__',\n",
       " '__name__',\n",
       " '__package__',\n",
       " '__spec__',\n",
       " 'fib',\n",
       " 'fib2']"
      ]
     },
     "execution_count": 17,
     "metadata": {},
     "output_type": "execute_result"
    }
   ],
   "source": [
    "dir(x1)"
   ]
  },
  {
   "cell_type": "markdown",
   "id": "6886d35e",
   "metadata": {},
   "source": [
    "# [math](https://docs.python.org/3/library/math.html#module-math) module\n"
   ]
  },
  {
   "cell_type": "markdown",
   "id": "00f6ec71",
   "metadata": {},
   "source": [
    "### This module provides access to the mathematical functions defined by the C standard.\n",
    "\n",
    "### These functions cannot be used with complex numbers; use the functions of the same name from the cmath module if you require support for complex numbers. The distinction between functions which support complex numbers and those which don’t is made since most users do not want to learn quite as much mathematics as required to understand complex numbers. Receiving an exception instead of a complex result allows earlier detection of the unexpected complex number used as a parameter, so that the programmer can determine how and why it was generated in the first place."
   ]
  },
  {
   "cell_type": "code",
   "execution_count": 18,
   "id": "0eb46622",
   "metadata": {},
   "outputs": [],
   "source": [
    "import math"
   ]
  },
  {
   "cell_type": "code",
   "execution_count": 19,
   "id": "3eb4a517",
   "metadata": {},
   "outputs": [
    {
     "name": "stdout",
     "output_type": "stream",
     "text": [
      "['__doc__', '__loader__', '__name__', '__package__', '__spec__', 'acos', 'acosh', 'asin', 'asinh', 'atan', 'atan2', 'atanh', 'ceil', 'comb', 'copysign', 'cos', 'cosh', 'degrees', 'dist', 'e', 'erf', 'erfc', 'exp', 'expm1', 'fabs', 'factorial', 'floor', 'fmod', 'frexp', 'fsum', 'gamma', 'gcd', 'hypot', 'inf', 'isclose', 'isfinite', 'isinf', 'isnan', 'isqrt', 'lcm', 'ldexp', 'lgamma', 'log', 'log10', 'log1p', 'log2', 'modf', 'nan', 'nextafter', 'perm', 'pi', 'pow', 'prod', 'radians', 'remainder', 'sin', 'sinh', 'sqrt', 'tan', 'tanh', 'tau', 'trunc', 'ulp']\n"
     ]
    }
   ],
   "source": [
    "print(dir(math))"
   ]
  },
  {
   "cell_type": "markdown",
   "id": "c0876eed",
   "metadata": {},
   "source": [
    "## math.ceil(x)\n",
    "### Return the ceiling of x, the smallest integer greater than or equal to x. If x is not a float, delegates to x.__ceil__, which should return an Integral value."
   ]
  },
  {
   "cell_type": "code",
   "execution_count": 20,
   "id": "a4696cde",
   "metadata": {},
   "outputs": [],
   "source": [
    "import math"
   ]
  },
  {
   "cell_type": "code",
   "execution_count": 21,
   "id": "c33c8f5a",
   "metadata": {},
   "outputs": [
    {
     "name": "stdout",
     "output_type": "stream",
     "text": [
      "12\n"
     ]
    }
   ],
   "source": [
    "x = 12\n",
    "print(math.ceil(x))"
   ]
  },
  {
   "cell_type": "code",
   "execution_count": 22,
   "id": "a9235b05",
   "metadata": {},
   "outputs": [
    {
     "name": "stdout",
     "output_type": "stream",
     "text": [
      "13\n"
     ]
    }
   ],
   "source": [
    "print(math.ceil(12.6))"
   ]
  },
  {
   "cell_type": "code",
   "execution_count": 23,
   "id": "8e54482f",
   "metadata": {},
   "outputs": [
    {
     "name": "stdout",
     "output_type": "stream",
     "text": [
      "3\n"
     ]
    }
   ],
   "source": [
    "print(math.ceil(2.001))"
   ]
  },
  {
   "cell_type": "markdown",
   "id": "2753a30f",
   "metadata": {},
   "source": [
    "# math.fabs(x)\n",
    "### Return the absolute value of x."
   ]
  },
  {
   "cell_type": "code",
   "execution_count": 24,
   "id": "98a69e0f",
   "metadata": {},
   "outputs": [
    {
     "name": "stdout",
     "output_type": "stream",
     "text": [
      "25.0\n"
     ]
    }
   ],
   "source": [
    "print(math.fabs(-25))"
   ]
  },
  {
   "cell_type": "code",
   "execution_count": 25,
   "id": "52826c77",
   "metadata": {},
   "outputs": [
    {
     "name": "stdout",
     "output_type": "stream",
     "text": [
      "25.0\n"
     ]
    }
   ],
   "source": [
    "print(math.fabs(25))"
   ]
  },
  {
   "cell_type": "markdown",
   "id": "f8081a42",
   "metadata": {},
   "source": [
    "# math.factorial(x)\n",
    "### Return x factorial as an integer. Raises ValueError if x is not integral or is negative.\n",
    "\n",
    "### Deprecated since version 3.9: Accepting floats with integral values (like 5.0) is deprecated."
   ]
  },
  {
   "cell_type": "code",
   "execution_count": 26,
   "id": "e4a56a71",
   "metadata": {},
   "outputs": [
    {
     "name": "stdout",
     "output_type": "stream",
     "text": [
      "24\n"
     ]
    }
   ],
   "source": [
    "print(math.factorial(4))"
   ]
  },
  {
   "cell_type": "markdown",
   "id": "ed82b376",
   "metadata": {},
   "source": [
    "# math.floor(x)\n",
    "### Return the floor of x, the largest integer less than or equal to x. If x is not a float, delegates to x.__floor__, which should return an Integral value"
   ]
  },
  {
   "cell_type": "code",
   "execution_count": 27,
   "id": "4d3379ad",
   "metadata": {},
   "outputs": [
    {
     "data": {
      "text/plain": [
       "122"
      ]
     },
     "execution_count": 27,
     "metadata": {},
     "output_type": "execute_result"
    }
   ],
   "source": [
    "x = 122.45\n",
    "math.floor(x)"
   ]
  },
  {
   "cell_type": "code",
   "execution_count": 28,
   "id": "50dece39",
   "metadata": {},
   "outputs": [
    {
     "data": {
      "text/plain": [
       "122"
      ]
     },
     "execution_count": 28,
     "metadata": {},
     "output_type": "execute_result"
    }
   ],
   "source": [
    "x = 122.9\n",
    "math.floor(x)"
   ]
  },
  {
   "cell_type": "markdown",
   "id": "4c6a0b2a",
   "metadata": {},
   "source": [
    "# math.fsum(iterable)\n",
    "### Return an accurate floating point sum of values in the iterable. Avoids loss of precision by tracking multiple intermediate partial sums:"
   ]
  },
  {
   "cell_type": "code",
   "execution_count": 29,
   "id": "7cc77363",
   "metadata": {},
   "outputs": [
    {
     "data": {
      "text/plain": [
       "0.9999999999999999"
      ]
     },
     "execution_count": 29,
     "metadata": {},
     "output_type": "execute_result"
    }
   ],
   "source": [
    "sum([.1, .1, .1, .1, .1, .1, .1, .1, .1, .1])"
   ]
  },
  {
   "cell_type": "code",
   "execution_count": 30,
   "id": "990aabd7",
   "metadata": {},
   "outputs": [
    {
     "data": {
      "text/plain": [
       "1.0"
      ]
     },
     "execution_count": 30,
     "metadata": {},
     "output_type": "execute_result"
    }
   ],
   "source": [
    "math.fsum([.1, .1, .1, .1, .1, .1, .1, .1, .1, .1])"
   ]
  },
  {
   "cell_type": "markdown",
   "id": "414ace19",
   "metadata": {},
   "source": [
    "# math.sqrt(x)\n",
    "### Return the square root of x."
   ]
  },
  {
   "cell_type": "code",
   "execution_count": 31,
   "id": "36e6c7a3",
   "metadata": {},
   "outputs": [
    {
     "name": "stdout",
     "output_type": "stream",
     "text": [
      "5.0\n"
     ]
    }
   ],
   "source": [
    "x = 25\n",
    "print(math.sqrt(x))"
   ]
  },
  {
   "cell_type": "markdown",
   "id": "6e643602",
   "metadata": {},
   "source": [
    "# math.pow(x, y)\n",
    "### Return x raised to the power y. Exceptional cases follow Annex ‘F’ of the C99 standard as far as possible. In particular, pow(1.0, x) and pow(x, 0.0) always return 1.0, even when x is a zero or a NaN. If both x and y are finite, x is negative, and y is not an integer then pow(x, y) is undefined, and raises ValueError.\n",
    "\n",
    "### Unlike the built-in ** operator, math.pow() converts both its arguments to type float. Use ** or the built-in pow() function for computing exact integer powers."
   ]
  },
  {
   "cell_type": "code",
   "execution_count": 32,
   "id": "3b79b1a2",
   "metadata": {},
   "outputs": [
    {
     "name": "stdout",
     "output_type": "stream",
     "text": [
      "8\n"
     ]
    }
   ],
   "source": [
    "print(pow(2,3))"
   ]
  },
  {
   "cell_type": "code",
   "execution_count": 33,
   "id": "d1f43c18",
   "metadata": {},
   "outputs": [
    {
     "data": {
      "text/plain": [
       "9.0"
      ]
     },
     "execution_count": 33,
     "metadata": {},
     "output_type": "execute_result"
    }
   ],
   "source": [
    "x=3\n",
    "y=2\n",
    "math.pow(x, y)"
   ]
  },
  {
   "cell_type": "code",
   "execution_count": 34,
   "id": "e8830fab",
   "metadata": {},
   "outputs": [
    {
     "name": "stdout",
     "output_type": "stream",
     "text": [
      "5.0\n",
      "3.141592653589793\n",
      "114.59155902616465\n",
      "1.0471975511965976\n",
      "0.9092974268256817\n",
      "0.8775825618903728\n",
      "0.23414336235146527\n",
      "24\n"
     ]
    }
   ],
   "source": [
    "# importing built-in module math\n",
    "import math\n",
    "  \n",
    "# using square root(sqrt) function contained \n",
    "# in math module\n",
    "print(math.sqrt(25)) \n",
    "  \n",
    "# using pi function contained in math module\n",
    "print(math.pi) \n",
    "  \n",
    "# 2 radians = 114.59 degrees\n",
    "print(math.degrees(2))  \n",
    "  \n",
    "# 60 degrees = 1.04 radians\n",
    "print(math.radians(60))  \n",
    "  \n",
    "# Sine of 2 radians\n",
    "print(math.sin(2))  \n",
    "  \n",
    "# Cosine of 0.5 radians\n",
    "print(math.cos(0.5))  \n",
    "  \n",
    "# Tangent of 0.23 radians\n",
    "print(math.tan(0.23)) \n",
    "  \n",
    "# 1 * 2 * 3 * 4 = 24\n",
    "print(math.factorial(4))  \n",
    "  "
   ]
  },
  {
   "cell_type": "markdown",
   "id": "fba6f126",
   "metadata": {},
   "source": [
    "# [random](https://docs.python.org/3/library/random.html#module-random) module"
   ]
  },
  {
   "cell_type": "code",
   "execution_count": 35,
   "id": "5510302b",
   "metadata": {},
   "outputs": [],
   "source": [
    "import random"
   ]
  },
  {
   "cell_type": "code",
   "execution_count": 36,
   "id": "ea34135b",
   "metadata": {},
   "outputs": [
    {
     "name": "stdout",
     "output_type": "stream",
     "text": [
      "['BPF', 'LOG4', 'NV_MAGICCONST', 'RECIP_BPF', 'Random', 'SG_MAGICCONST', 'SystemRandom', 'TWOPI', '_Sequence', '_Set', '__all__', '__builtins__', '__cached__', '__doc__', '__file__', '__loader__', '__name__', '__package__', '__spec__', '_accumulate', '_acos', '_bisect', '_ceil', '_cos', '_e', '_exp', '_floor', '_inst', '_log', '_os', '_pi', '_random', '_repeat', '_sha512', '_sin', '_sqrt', '_test', '_test_generator', '_urandom', '_warn', 'betavariate', 'choice', 'choices', 'expovariate', 'gammavariate', 'gauss', 'getrandbits', 'getstate', 'lognormvariate', 'normalvariate', 'paretovariate', 'randbytes', 'randint', 'random', 'randrange', 'sample', 'seed', 'setstate', 'shuffle', 'triangular', 'uniform', 'vonmisesvariate', 'weibullvariate']\n"
     ]
    }
   ],
   "source": [
    "print(dir(random))"
   ]
  },
  {
   "cell_type": "markdown",
   "id": "8c69c05c",
   "metadata": {},
   "source": [
    "# random.randrange(stop)\n",
    "# random.randrange(start, stop[, step])\n",
    "### Return a randomly selected element from range(start, stop, step). This is equivalent to choice(range(start, stop, step)), but doesn’t actually build a range object.\n",
    "\n",
    "### The positional argument pattern matches that of range(). Keyword arguments should not be used because the function may use them in unexpected ways."
   ]
  },
  {
   "cell_type": "code",
   "execution_count": 37,
   "id": "9a738dfc",
   "metadata": {},
   "outputs": [
    {
     "name": "stdout",
     "output_type": "stream",
     "text": [
      "7\n"
     ]
    }
   ],
   "source": [
    "print(random.randrange(3,9)) # return a number between 3(included) and 9(not included)"
   ]
  },
  {
   "cell_type": "code",
   "execution_count": 38,
   "id": "2a465e7a",
   "metadata": {},
   "outputs": [
    {
     "name": "stdout",
     "output_type": "stream",
     "text": [
      "5\n"
     ]
    }
   ],
   "source": [
    "print(random.randrange(3,9))"
   ]
  },
  {
   "cell_type": "code",
   "execution_count": 39,
   "id": "75550599",
   "metadata": {},
   "outputs": [
    {
     "name": "stdout",
     "output_type": "stream",
     "text": [
      "4\n"
     ]
    }
   ],
   "source": [
    "print(random.randrange(3,9))"
   ]
  },
  {
   "cell_type": "code",
   "execution_count": 40,
   "id": "4f5ae130",
   "metadata": {},
   "outputs": [
    {
     "name": "stdout",
     "output_type": "stream",
     "text": [
      "6\n"
     ]
    }
   ],
   "source": [
    "print(random.randrange(0,11,2))"
   ]
  },
  {
   "cell_type": "code",
   "execution_count": 41,
   "id": "f9b01767",
   "metadata": {},
   "outputs": [
    {
     "name": "stdout",
     "output_type": "stream",
     "text": [
      "3\n"
     ]
    }
   ],
   "source": [
    "print(random.randrange(1,11,2))"
   ]
  },
  {
   "cell_type": "markdown",
   "id": "8933d3ba",
   "metadata": {},
   "source": [
    "# random.randint(a, b)\n",
    "### Return a random integer N such that a <= N <= b. Alias for randrange(a, b+1)."
   ]
  },
  {
   "cell_type": "code",
   "execution_count": 42,
   "id": "dd54ab2d",
   "metadata": {},
   "outputs": [
    {
     "name": "stdout",
     "output_type": "stream",
     "text": [
      "9\n"
     ]
    }
   ],
   "source": [
    "print(random.randint(5,10))"
   ]
  },
  {
   "cell_type": "code",
   "execution_count": 43,
   "id": "9a89b853",
   "metadata": {},
   "outputs": [
    {
     "name": "stdout",
     "output_type": "stream",
     "text": [
      "5\n"
     ]
    }
   ],
   "source": [
    "print(random.randint(5,10))"
   ]
  },
  {
   "cell_type": "markdown",
   "id": "ec5fbd4c",
   "metadata": {},
   "source": [
    "# random.choice(seq)\n",
    "### Return a random element from the non-empty sequence seq. If seq is empty, raises IndexError.\n",
    "\n",
    "### random.choices(population, weights=None, *, cum_weights=None, k=1)\n",
    "### Return a k sized list of elements chosen from the population with replacement. If the population is empty, raises IndexError."
   ]
  },
  {
   "cell_type": "code",
   "execution_count": 44,
   "id": "11cf1f0a",
   "metadata": {},
   "outputs": [
    {
     "name": "stdout",
     "output_type": "stream",
     "text": [
      "3\n"
     ]
    }
   ],
   "source": [
    "l = [2,3,14,56,8]\n",
    "print(random.choice(l))"
   ]
  },
  {
   "cell_type": "code",
   "execution_count": 45,
   "id": "52fc92f0",
   "metadata": {},
   "outputs": [
    {
     "name": "stdout",
     "output_type": "stream",
     "text": [
      "2\n"
     ]
    }
   ],
   "source": [
    "print(random.choice(l))"
   ]
  },
  {
   "cell_type": "markdown",
   "id": "1d79f35f",
   "metadata": {},
   "source": [
    "# random.shuffle(x[, random])\n",
    "### Shuffle the sequence x in place.\n",
    "\n",
    "### The optional argument random is a 0-argument function returning a random float in [0.0, 1.0); by default, this is the function random().\n"
   ]
  },
  {
   "cell_type": "code",
   "execution_count": 46,
   "id": "9f20d223",
   "metadata": {},
   "outputs": [
    {
     "name": "stdout",
     "output_type": "stream",
     "text": [
      "None\n"
     ]
    }
   ],
   "source": [
    "l1 = [1,2,3,4]\n",
    "print(random.shuffle(l1))"
   ]
  },
  {
   "cell_type": "code",
   "execution_count": 47,
   "id": "f6ce13d8",
   "metadata": {},
   "outputs": [],
   "source": [
    "l = [1,2,3,4,5]\n",
    "random.shuffle(l)"
   ]
  },
  {
   "cell_type": "code",
   "execution_count": 48,
   "id": "9131cf30",
   "metadata": {},
   "outputs": [
    {
     "name": "stdout",
     "output_type": "stream",
     "text": [
      "None\n"
     ]
    }
   ],
   "source": [
    "print(random.shuffle(l)) #Deprecated since version 3.9, will be removed in version 3.11: The optional parameter random"
   ]
  },
  {
   "cell_type": "markdown",
   "id": "0e75ec9c",
   "metadata": {},
   "source": [
    "# random.random()\n",
    "### Return the next random floating point number in the range [0.0, 1.0).\n",
    "\n",
    "# random.uniform(a, b)\n",
    "### Return a random floating point number N such that a <= N <= b for a <= b and b <= N <= a for b < a"
   ]
  },
  {
   "cell_type": "code",
   "execution_count": 49,
   "id": "aed54222",
   "metadata": {},
   "outputs": [
    {
     "name": "stdout",
     "output_type": "stream",
     "text": [
      "4.096546899744244\n"
     ]
    }
   ],
   "source": [
    "print(random.uniform(3,9))"
   ]
  },
  {
   "cell_type": "code",
   "execution_count": 50,
   "id": "43e1a09d",
   "metadata": {},
   "outputs": [
    {
     "name": "stdout",
     "output_type": "stream",
     "text": [
      "0.7831566988014822\n"
     ]
    }
   ],
   "source": [
    "print(random.random())"
   ]
  },
  {
   "cell_type": "markdown",
   "id": "b94141a5",
   "metadata": {},
   "source": [
    "# [datetime](https://docs.python.org/3/library/datetime.html) module-datetime"
   ]
  },
  {
   "cell_type": "code",
   "execution_count": 51,
   "id": "e6174b28",
   "metadata": {},
   "outputs": [],
   "source": [
    "import datetime"
   ]
  },
  {
   "cell_type": "code",
   "execution_count": 52,
   "id": "6a1b228b",
   "metadata": {},
   "outputs": [
    {
     "name": "stdout",
     "output_type": "stream",
     "text": [
      "2022-08-22 13:18:13.434788\n"
     ]
    }
   ],
   "source": [
    "x = datetime.datetime.now()\n",
    "print(x)"
   ]
  },
  {
   "cell_type": "code",
   "execution_count": 53,
   "id": "f3330674",
   "metadata": {},
   "outputs": [
    {
     "name": "stdout",
     "output_type": "stream",
     "text": [
      "2022-02-22 00:00:00\n"
     ]
    }
   ],
   "source": [
    "print(datetime.datetime(2022,2,22))"
   ]
  },
  {
   "cell_type": "markdown",
   "id": "9b085754",
   "metadata": {},
   "source": [
    "# project >>>> making calendar"
   ]
  },
  {
   "cell_type": "code",
   "execution_count": 54,
   "id": "fdbe8507",
   "metadata": {},
   "outputs": [],
   "source": [
    "import calendar"
   ]
  },
  {
   "cell_type": "code",
   "execution_count": 59,
   "id": "482c2c3c",
   "metadata": {},
   "outputs": [
    {
     "name": "stdout",
     "output_type": "stream",
     "text": [
      "Enter year2022\n",
      "Enter month8\n",
      "    August 2022\n",
      "Mo Tu We Th Fr Sa Su\n",
      " 1  2  3  4  5  6  7\n",
      " 8  9 10 11 12 13 14\n",
      "15 16 17 18 19 20 21\n",
      "22 23 24 25 26 27 28\n",
      "29 30 31\n",
      "\n"
     ]
    }
   ],
   "source": [
    "year =  int(input(\"Enter year\"))\n",
    "month =int(input(\"Enter month\"))\n",
    "calendar = calendar.month(year,month)\n",
    "print(calendar)"
   ]
  },
  {
   "cell_type": "markdown",
   "id": "bb9f7f89",
   "metadata": {},
   "source": [
    "# >>> making number guessing game"
   ]
  },
  {
   "cell_type": "code",
   "execution_count": 60,
   "id": "71515486",
   "metadata": {},
   "outputs": [],
   "source": [
    "import random"
   ]
  },
  {
   "cell_type": "code",
   "execution_count": 62,
   "id": "c76da0d1",
   "metadata": {},
   "outputs": [
    {
     "name": "stdout",
     "output_type": "stream",
     "text": [
      "Enter number23\n",
      "computer number 38\n",
      "Your guess num is too low\n"
     ]
    }
   ],
   "source": [
    "\n",
    "cnum = random.randrange(1,101)\n",
    "user_num = int(input(\"Enter number\"))\n",
    "if user_num>cnum:\n",
    "    print(\"computer number\",cnum)\n",
    "    print(\"Your guess num is too high\")\n",
    "elif cnum>user_num:\n",
    "    print(\"computer number\",cnum)\n",
    "    print(\"Your guess num is too low\")\n",
    "else:\n",
    "    print(\"computer number\",cnum)\n",
    "    print(\"Your guess number is equal\")\n",
    "    "
   ]
  },
  {
   "cell_type": "code",
   "execution_count": null,
   "id": "41ab639c",
   "metadata": {},
   "outputs": [],
   "source": [
    "def guess(user_num):\n",
    "    \n",
    "    cnum = random.randrange(1,101)\n",
    "    user_num = int(input(\"Enter number\"))\n",
    "    if user_num>cnum:\n",
    "        \n",
    "    \n",
    "    print(\"computer number\",cnum)\n",
    "    print(\"Your guess num is too high\")\n",
    "elif cnum>user_num:\n",
    "    print(\"computer number\",cnum)\n",
    "    print(\"Your guess num is too low\")\n",
    "else:\n",
    "    print(\"computer number\",cnum)\n",
    "    print(\"Your guess number is equal\")"
   ]
  },
  {
   "cell_type": "code",
   "execution_count": null,
   "id": "74226574",
   "metadata": {},
   "outputs": [],
   "source": []
  },
  {
   "cell_type": "code",
   "execution_count": null,
   "id": "ed2ac18a",
   "metadata": {},
   "outputs": [],
   "source": []
  }
 ],
 "metadata": {
  "kernelspec": {
   "display_name": "Python 3 (ipykernel)",
   "language": "python",
   "name": "python3"
  },
  "language_info": {
   "codemirror_mode": {
    "name": "ipython",
    "version": 3
   },
   "file_extension": ".py",
   "mimetype": "text/x-python",
   "name": "python",
   "nbconvert_exporter": "python",
   "pygments_lexer": "ipython3",
   "version": "3.9.12"
  }
 },
 "nbformat": 4,
 "nbformat_minor": 5
}
